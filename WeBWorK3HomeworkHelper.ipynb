{
  "nbformat": 4,
  "nbformat_minor": 0,
  "metadata": {
    "colab": {
      "name": "Untitled7.ipynb",
      "provenance": [],
      "authorship_tag": "ABX9TyMOnXWCrCqyiHnFRvtzt02d",
      "include_colab_link": true
    },
    "kernelspec": {
      "name": "python3",
      "display_name": "Python 3"
    }
  },
  "cells": [
    {
      "cell_type": "markdown",
      "metadata": {
        "id": "view-in-github",
        "colab_type": "text"
      },
      "source": [
        "<a href=\"https://colab.research.google.com/github/nurfnick/Numerical_Methods/blob/master/WeBWorK3HomeworkHelper.ipynb\" target=\"_parent\"><img src=\"https://colab.research.google.com/assets/colab-badge.svg\" alt=\"Open In Colab\"/></a>"
      ]
    },
    {
      "cell_type": "markdown",
      "metadata": {
        "id": "sRzlVSRlL7An"
      },
      "source": [
        "# WeBWork Homework Helper Module 3"
      ]
    },
    {
      "cell_type": "markdown",
      "metadata": {
        "id": "e3h9AfXTMApc"
      },
      "source": [
        "## WeBWorK 1\n",
        "\n",
        "Suppose you want to compute the fifth root of 6 by solving the equation\n",
        "$$f(x) = x^5 - 6 = 0\\quad(*)$$\n",
        "using Newton's method. Newton's method starts with an initial approximation x_0 and then computes a sequence of approximations $x_1, x_2, x_3, \\ldots$ via the formula\n",
        "$$x_{k+1} = g(x_k), \\quad k = 0,1,2,\\ldots$$\n",
        "where\n",
        "$$g(x) = x - \\frac{f(x)}{f'(x)}.$$\n",
        "$x_0= 1$\n",
        "you obtain "
      ]
    },
    {
      "cell_type": "code",
      "metadata": {
        "id": "3o0GvbdUL5na"
      },
      "source": [
        "def g(x):\n",
        "  return x-(x**5-6)/(5*x**4)"
      ],
      "execution_count": 6,
      "outputs": []
    },
    {
      "cell_type": "code",
      "metadata": {
        "colab": {
          "base_uri": "https://localhost:8080/"
        },
        "id": "UQ5tALyPMq7a",
        "outputId": "c710e0fc-f5aa-4334-a639-f15b855787a6"
      },
      "source": [
        "g(1)"
      ],
      "execution_count": 7,
      "outputs": [
        {
          "output_type": "execute_result",
          "data": {
            "text/plain": [
              "2.0"
            ]
          },
          "metadata": {
            "tags": []
          },
          "execution_count": 7
        }
      ]
    },
    {
      "cell_type": "code",
      "metadata": {
        "colab": {
          "base_uri": "https://localhost:8080/"
        },
        "id": "AAqE5vLxMujX",
        "outputId": "16db83d5-17b4-4f1a-bc49-57ce57f329b2"
      },
      "source": [
        "g(2)"
      ],
      "execution_count": 8,
      "outputs": [
        {
          "output_type": "execute_result",
          "data": {
            "text/plain": [
              "1.675"
            ]
          },
          "metadata": {
            "tags": []
          },
          "execution_count": 8
        }
      ]
    },
    {
      "cell_type": "code",
      "metadata": {
        "colab": {
          "base_uri": "https://localhost:8080/"
        },
        "id": "YOCuWsVuMwB2",
        "outputId": "1a7ec7b6-da75-42d4-84bd-9ce567be257f"
      },
      "source": [
        "g(1.675)"
      ],
      "execution_count": 9,
      "outputs": [
        {
          "output_type": "execute_result",
          "data": {
            "text/plain": [
              "1.4924480945749867"
            ]
          },
          "metadata": {
            "tags": []
          },
          "execution_count": 9
        }
      ]
    },
    {
      "cell_type": "markdown",
      "metadata": {
        "id": "s1AAEp4SNrdI"
      },
      "source": [
        "Let's automate that a bit..."
      ]
    },
    {
      "cell_type": "code",
      "metadata": {
        "id": "135En2ZnMyeG"
      },
      "source": [
        "list = [1]\n",
        "for i in range(3):\n",
        "  list.append(g(list[i]))\n"
      ],
      "execution_count": 10,
      "outputs": []
    },
    {
      "cell_type": "code",
      "metadata": {
        "colab": {
          "base_uri": "https://localhost:8080/"
        },
        "id": "KFMSiOGXN6ri",
        "outputId": "95fa914f-7546-46fa-dc9a-0b3b7c73948d"
      },
      "source": [
        "list"
      ],
      "execution_count": 11,
      "outputs": [
        {
          "output_type": "execute_result",
          "data": {
            "text/plain": [
              "[1, 2.0, 1.675, 1.4924480945749867]"
            ]
          },
          "metadata": {
            "tags": []
          },
          "execution_count": 11
        }
      ]
    },
    {
      "cell_type": "markdown",
      "metadata": {
        "id": "tsO9ab3wN95l"
      },
      "source": [
        "Also let's check the answer, ie is 1.492 a good estimate of $\\sqrt[5]6$"
      ]
    },
    {
      "cell_type": "code",
      "metadata": {
        "colab": {
          "base_uri": "https://localhost:8080/"
        },
        "id": "uujYlGDIN7Wi",
        "outputId": "d9682b7d-c131-4a14-8f06-31c3a0eff9ae"
      },
      "source": [
        "6**(1/5)"
      ],
      "execution_count": 12,
      "outputs": [
        {
          "output_type": "execute_result",
          "data": {
            "text/plain": [
              "1.4309690811052556"
            ]
          },
          "metadata": {
            "tags": []
          },
          "execution_count": 12
        }
      ]
    },
    {
      "cell_type": "markdown",
      "metadata": {
        "id": "w8Pyl1_HN93w"
      },
      "source": [
        "Not terrible..."
      ]
    },
    {
      "cell_type": "markdown",
      "metadata": {
        "id": "ELNEHJP_OR9e"
      },
      "source": [
        "## WeBWorK 13\n",
        "\n",
        "Find the positive value of $x$ that satisfies $x = 2.1 \\cos(x)$.\n",
        "Give the answer to six places of accuracy.\n",
        "\n",
        "I am going to apply Newton's method to the function $f(x) =2.1\\cos(x)-x$.  Newton's method looks for roots!"
      ]
    },
    {
      "cell_type": "code",
      "metadata": {
        "id": "DT7fldMWONTI"
      },
      "source": [
        "import math as m\n",
        "\n",
        "def g1(x):\n",
        "  return x - (2.1*m.cos(x)-x)/(-2.1*m.sin(x)-1)\n"
      ],
      "execution_count": 13,
      "outputs": []
    },
    {
      "cell_type": "code",
      "metadata": {
        "id": "GXWDMS0tPQAf"
      },
      "source": [
        "list1 = [0]\n",
        "\n",
        "for i in range(10):\n",
        "  list1.append(g1(list1[i]))"
      ],
      "execution_count": 17,
      "outputs": []
    },
    {
      "cell_type": "code",
      "metadata": {
        "colab": {
          "base_uri": "https://localhost:8080/"
        },
        "id": "265X5QICPRpa",
        "outputId": "bb7dec90-2acc-49a1-8464-3b09dcbd19b7"
      },
      "source": [
        "list1"
      ],
      "execution_count": 18,
      "outputs": [
        {
          "output_type": "execute_result",
          "data": {
            "text/plain": [
              "[0,\n",
              " 2.1,\n",
              " 0.9764773173261068,\n",
              " 1.0492557137084069,\n",
              " 1.0481918283266316,\n",
              " 1.0481916182089217,\n",
              " 1.0481916182089135,\n",
              " 1.0481916182089135,\n",
              " 1.0481916182089135,\n",
              " 1.0481916182089135,\n",
              " 1.0481916182089135]"
            ]
          },
          "metadata": {
            "tags": []
          },
          "execution_count": 18
        }
      ]
    },
    {
      "cell_type": "markdown",
      "metadata": {
        "id": "wlRYH9ohPnIP"
      },
      "source": [
        "Stability of this solution is a good indication this is a solution to the initial problem but make sure to check..."
      ]
    },
    {
      "cell_type": "code",
      "metadata": {
        "colab": {
          "base_uri": "https://localhost:8080/"
        },
        "id": "sLZ_pQQjPflt",
        "outputId": "54b0ce6f-9224-4bd3-d68b-a5ce2562f3f7"
      },
      "source": [
        "x = 1.048191618\n",
        "\n",
        "2.1*m.cos(x)"
      ],
      "execution_count": 19,
      "outputs": [
        {
          "output_type": "execute_result",
          "data": {
            "text/plain": [
              "1.0481916185890725"
            ]
          },
          "metadata": {
            "tags": []
          },
          "execution_count": 19
        }
      ]
    },
    {
      "cell_type": "markdown",
      "metadata": {
        "id": "N7ZUCDpvWEqo"
      },
      "source": [
        "## WeBWorK 29\n",
        "\n",
        "Find a point P on the graph of\n",
        "$$x^2+y^2- 182 x + 4 y + 8089 = 0$$\n",
        "and a point Q on the graph of\n",
        "$$(y + 2)^2 = x^3 - 156 x^2 - 26 x + 572192$$\n",
        "such that the distance between them is as small as possible.\n",
        "\n",
        "To solve this problem, we let $(x,y)$ be the coordinates of the point Q. Then we need to minimize the following function of x and y:\n",
        "\n",
        "After we eliminate y from the above, we reduce to minimizing the following function of x alone: \n",
        "\n",
        "\n",
        "So I am not crazy about the difficulty of this problem, it is pretty hard to visualize.  You should recognize that the graph of P is a circle.  Since it is a circle, the shortest distance to a point will be along a line that contains the center of that circle, here $(91,-2)$ and then you will need to kthrow away the radius of the circle, 14.  So the function we need to minimize is\n",
        "\n",
        "$$\\sqrt{(x-91)^2+(y+2)^2}-14$$\n",
        "\n",
        "This part should be really similar for eveyone!!!\n",
        "\n",
        "I'll now replace the $(y+2)^2$ with substitution to find the function to minimize.\n",
        "\n",
        "$$f(x) = \\sqrt{(x-91)^2+x^3-156x^2-26x+572192}-14$$\n",
        "\n",
        "Recall from calculus that in order to optimize a function, we take its derivative and set it equal to zero.\n",
        "\n",
        "$$\n",
        "f'(x) = \\frac12\\frac{2(x-91)+3x^2-156*2x-26}{\\sqrt{(x-91)^2+x^3-156x^2-26x+572192}}=0\n",
        "$$\n",
        "\n",
        "The roots from the numerator are found by solving the quadratic\n",
        "$$\n",
        "3x^2-310x-208 = 0\\quad\\text{so}\\quad x=\\frac{310\\pm\\sqrt{310^2-4*3*(-208)}}{6}\n",
        "$$\n",
        "\n",
        "The difficult roots are the places where the denominator is zero.  Recall these are critical values of the derivative too!  I am going to drop the radical because it will not matter.\n",
        "\n",
        "Here is the only part I need numerical methods for!  Find the root of\n",
        "$$\n",
        "g(x) = (x-91)^2+x^3-156x^2-26x+572192\n",
        "$$"
      ]
    },
    {
      "cell_type": "code",
      "metadata": {
        "id": "B4NEn5gDP42n"
      },
      "source": [
        "def g2(x):\n",
        "  return x-((x-91)**2+x**3-156*x**2-26*x+572192)/(2*(x-91)+3*x**2-156*2*x-26)"
      ],
      "execution_count": 20,
      "outputs": []
    },
    {
      "cell_type": "code",
      "metadata": {
        "id": "WJ4JVK73aKLM"
      },
      "source": [
        "list3 = [-50]\n",
        "\n",
        "for i in range(10):\n",
        "  list3.append(g2(list3[i]))"
      ],
      "execution_count": 23,
      "outputs": []
    },
    {
      "cell_type": "code",
      "metadata": {
        "colab": {
          "base_uri": "https://localhost:8080/"
        },
        "id": "0W9M115iaYPn",
        "outputId": "64637ae3-6103-43b8-b05b-7b6b37d63a29"
      },
      "source": [
        "list3"
      ],
      "execution_count": 24,
      "outputs": [
        {
          "output_type": "execute_result",
          "data": {
            "text/plain": [
              "[-50,\n",
              " -53.43861881361882,\n",
              " -53.292299675635036,\n",
              " -53.29202795635676,\n",
              " -53.292027955420586,\n",
              " -53.292027955420586,\n",
              " -53.292027955420586,\n",
              " -53.292027955420586,\n",
              " -53.292027955420586,\n",
              " -53.292027955420586,\n",
              " -53.292027955420586]"
            ]
          },
          "metadata": {
            "tags": []
          },
          "execution_count": 24
        }
      ]
    },
    {
      "cell_type": "markdown",
      "metadata": {
        "id": "S3y6FkgXahmJ"
      },
      "source": [
        "By the way, I need a value close to the actual value so there is some advantage to graphing the original function that I was looking for the roots of."
      ]
    },
    {
      "cell_type": "code",
      "metadata": {
        "colab": {
          "base_uri": "https://localhost:8080/",
          "height": 276
        },
        "id": "WjfhRljlaZM9",
        "outputId": "f65bd1c7-1a85-4704-d65c-e1882e99e52b"
      },
      "source": [
        "\n",
        "\n",
        "import matplotlib.pyplot as plt\n",
        "import numpy as np\n",
        "\n",
        "def gs(x):\n",
        "  return (x-91)**2+x**3-156*x**2-26*x+572192\n",
        "\n",
        "x = np.arange( -100,100,.1)\n",
        "plt.plot(x,gs(x))\n",
        "\n",
        "\n",
        "plt.show()\n",
        "\n"
      ],
      "execution_count": 25,
      "outputs": [
        {
          "output_type": "display_data",
          "data": {
            "image/png": "[encoded data removed]",
            "text/plain": [
              "<Figure size 432x288 with 1 Axes>"
            ]
          },
          "metadata": {
            "tags": [],
            "needs_background": "light"
          }
        }
      ]
    },
    {
      "cell_type": "code",
      "metadata": {
        "id": "LcXVWQaebPZ0"
      },
      "source": [
        ""
      ],
      "execution_count": null,
      "outputs": []
    }
  ]
}