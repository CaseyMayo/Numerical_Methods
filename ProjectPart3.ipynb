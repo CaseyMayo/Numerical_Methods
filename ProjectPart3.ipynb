{
  "nbformat": 4,
  "nbformat_minor": 0,
  "metadata": {
    "colab": {
      "name": "Untitled0.ipynb",
      "provenance": [],
      "include_colab_link": true
    },
    "kernelspec": {
      "name": "python3",
      "display_name": "Python 3"
    }
  },
  "cells": [
    {
      "cell_type": "markdown",
      "metadata": {
        "id": "view-in-github",
        "colab_type": "text"
      },
      "source": [
        "<a href=\"https://colab.research.google.com/github/nurfnick/Numerical_Methods/blob/master/ProjectPart3.ipynb\" target=\"_parent\"><img src=\"https://colab.research.google.com/assets/colab-badge.svg\" alt=\"Open In Colab\"/></a>"
      ]
    },
    {
      "cell_type": "markdown",
      "metadata": {
        "id": "YCJaepmmfKrS"
      },
      "source": [
        "# Project Part 3\n",
        "\n"
      ]
    },
    {
      "cell_type": "markdown",
      "metadata": {
        "id": "2z6U1aB_fQDM"
      },
      "source": [
        "I will continue to use the error computing functions defined in project part 1 and 2 as well as the Lagrange Interpolation"
      ]
    },
    {
      "cell_type": "code",
      "metadata": {
        "id": "rU_BgC_kfH7g"
      },
      "source": [
        "import math\n",
        "\n",
        "pi = math.pi\n",
        "sqrt2 = math.sqrt(2)\n",
        "\n",
        "def absoluteError(estimate, actualValue):\n",
        "  return actualValue - estimate\n",
        "\n",
        "def relativeError(estimate, actualValue):\n",
        "  return absoluteError(estimate, actualValue)/actualValue\n",
        "\n",
        "def approximateError(previousEstimate, currentEstimate):\n",
        "  return currentEstimate - previousEstimate\n",
        "\n",
        "def relativeApproximateError(previousEstimate, currentEstimate):\n",
        "  return abs(approximateError(previousEstimate, currentEstimate)/currentEstimate)\n",
        "\n",
        "def generalTaylorCoefficient(degree):\n",
        "  return (-1)**(math.floor(degree/2))/(sqrt2*math.factorial(degree))\n",
        "\n",
        "def taylorPolynomialTerm(degree, input):\n",
        "  return generalTaylorCoefficient(degree)*(input-pi/4)**degree\n",
        "\n",
        "def taylorPolynomial(degree, input):\n",
        "  sum = 0\n",
        "  for i in range(0, degree+1):\n",
        "    sum = sum +  taylorPolynomialTerm(i, input)\n",
        "  return sum\n",
        "\n",
        "def lagrangeCoefficient(inputArray,outputArray,entry,variable):\n",
        "  lc = 1\n",
        "  for i in range(len(inputArray)):\n",
        "    if i == entry:\n",
        "      continue\n",
        "    else:\n",
        "      lc = lc*(variable - inputArray[i])/(inputArray[entry]-inputArray[i])\n",
        "  return lc\n",
        "\n",
        "def lagrangeInterpolator(inputArray, outputArray, variable):\n",
        "  li = 0\n",
        "  for i in range(len(inputArray)):\n",
        "    li = li + lagrangeCoefficient(inputArray,outputArray,i,variable)*outputArray[i]\n",
        "  return li\n",
        "\n",
        "inputValues = [pi/4,pi/4+.1,pi/4+.2,pi/2]\n",
        "outputValues = [math.sin(x) for x in inputValues]\n",
        "\n"
      ],
      "execution_count": 5,
      "outputs": []
    },
    {
      "cell_type": "markdown",
      "metadata": {
        "id": "_7RoPTU_hXG1"
      },
      "source": [
        "## Newton-Rapshon Method"
      ]
    },
    {
      "cell_type": "markdown",
      "metadata": {
        "id": "MMXFYCZ6hajg"
      },
      "source": [
        "The Newton-Rapshon requires the symbolic knowledge of the first derivative.  Here I will be looking at the $\\sin x$ function and we know it's derivative to be $\\cos x$.\n",
        "\n",
        "The process will be iterative with the first given and all next steps computed as\n",
        "$$\n",
        "x_{i+1}= x_i-\\frac{f(x_i)}{f'(x_i)}\n",
        "$$\n",
        "We are looking for an $x$ where $\\left|f(x)\\right|<\\epsilon$ but we need to watch out for the derivative being 0 and non-convergent sequences."
      ]
    },
    {
      "cell_type": "code",
      "metadata": {
        "id": "Du7TNJajhZwx"
      },
      "source": [
        "def newtonIterator(function, derivative, currentValue):\n",
        "  return currentValue - function(currentValue)/derivative(currentValue)\n",
        "\n",
        "def newton(function, derivative, initial, tolerrance, maxIterations):\n",
        "  x = initial\n",
        "  for counter in range(maxIterations):\n",
        "    if derivative(x) == 0:\n",
        "    #  print('Zero derivative, no solution')\n",
        "      return None\n",
        "    if abs(function(x))< tolerrance:\n",
        "      return [x,counter]\n",
        "    x = newtonIterator(function, derivative, x)\n",
        " # print('Max iterations exceeded')\n",
        "  return None"
      ],
      "execution_count": 125,
      "outputs": []
    },
    {
      "cell_type": "code",
      "metadata": {
        "id": "mXH8EPIS7gfN",
        "outputId": "15e56366-2ec2-4429-ae92-bc76f9c143e8",
        "colab": {
          "base_uri": "https://localhost:8080/",
          "height": 35
        }
      },
      "source": [
        "newton(math.sin,math.cos,pi/4,.00001,20)\n"
      ],
      "execution_count": 111,
      "outputs": [
        {
          "output_type": "execute_result",
          "data": {
            "text/plain": [
              "[-1.2602253593105295e-08, 3]"
            ]
          },
          "metadata": {
            "tags": []
          },
          "execution_count": 111
        }
      ]
    },
    {
      "cell_type": "code",
      "metadata": {
        "id": "MNEpowDVgpCk",
        "outputId": "5bdb4e99-6969-4607-af32-eb4c3d077522",
        "colab": {
          "base_uri": "https://localhost:8080/",
          "height": 35
        }
      },
      "source": [
        "newton(math.sin,math.cos,pi/2,.00001,20)"
      ],
      "execution_count": 108,
      "outputs": [
        {
          "output_type": "stream",
          "text": [
            "Max iterations exceeded\n"
          ],
          "name": "stdout"
        }
      ]
    },
    {
      "cell_type": "code",
      "metadata": {
        "id": "ZBMIkTWCgtO4"
      },
      "source": [
        "seedValues = [pi/4,pi/2,pi/4+.1,1,3,10,15,3*pi/2+.01,pi+.01]\n",
        "roots = []\n",
        "iterations = []\n",
        "for seed in seedValues:\n",
        "  if newton(math.sin,math.cos,seed,1e-10,20) != None:\n",
        "    roots.append(newton(math.sin,math.cos,seed,1e-10,20)[0])\n",
        "    iterations.append(newton(math.sin,math.cos,seed,1e-10,20)[1])\n",
        "  else:\n",
        "    roots.append('None Found')\n",
        "    iterations.append('>20')\n"
      ],
      "execution_count": 128,
      "outputs": []
    },
    {
      "cell_type": "markdown",
      "metadata": {
        "id": "jlydwG48N3Kj"
      },
      "source": [
        "In order to make a beautiful table I am going to use the package plotly.  It is useful for creating visualizations."
      ]
    },
    {
      "cell_type": "code",
      "metadata": {
        "id": "xGDKojnSkjmb",
        "outputId": "4eb7778b-6181-4c8b-ea9e-a8c6ec2a2138",
        "colab": {
          "base_uri": "https://localhost:8080/",
          "height": 542
        }
      },
      "source": [
        "import plotly.graph_objects as go\n",
        "from plotly.subplots import make_subplots\n",
        "\n",
        "fig = go.Figure(data=[go.Table(\n",
        "                header=dict(values=['Seeds', 'Roots', 'Iterations']),\n",
        "                 cells=dict(values = [seedValues,roots,iterations]))\n",
        "                     ])\n",
        "fig.show()"
      ],
      "execution_count": 129,
      "outputs": [
        {
          "output_type": "display_data",
          "data": {
            "text/html": [
              "<html>\n",
              "<head><meta charset=\"utf-8\" /></head>\n",
              "<body>\n",
              "    <div>\n",
              "            <script src=\"https://cdnjs.cloudflare.com/ajax/libs/mathjax/2.7.5/MathJax.js?config=TeX-AMS-MML_SVG\"></script><script type=\"text/javascript\">if (window.MathJax) {MathJax.Hub.Config({SVG: {font: \"STIX-Web\"}});}</script>\n",
              "                <script type=\"text/javascript\">window.PlotlyConfig = {MathJaxConfig: 'local'};</script>\n",
              "        <script src=\"https://cdn.plot.ly/plotly-latest.min.js\"></script>    \n",
              "            <div id=\"e26ddda5-8742-44d7-a6f6-f710196e0a5d\" class=\"plotly-graph-div\" style=\"height:525px; width:100%;\"></div>\n",
              "            <script type=\"text/javascript\">\n",
              "                \n",
              "                    window.PLOTLYENV=window.PLOTLYENV || {};\n",
              "                    \n",
              "                if (document.getElementById(\"e26ddda5-8742-44d7-a6f6-f710196e0a5d\")) {\n",
              "                    Plotly.newPlot(\n",
              "                        'e26ddda5-8742-44d7-a6f6-f710196e0a5d',\n",
              "                        [{\"cells\": {\"values\": [[0.7853981633974483, 1.5707963267948966, 0.8853981633974483, 1, 3, 10, 15, 4.7223889803846895, 3.151592653589793], [1.6543612251060553e-24, \"None Found\", 1.7724164421296235e-19, 2.923566201412306e-13, 3.141592653589793, 9.424777960768635, 15.707963267948966, 103.67255756846318, 3.141592653589793], [4, \">20\", 4, 4, 3, 3, 4, 6, 2]]}, \"header\": {\"values\": [\"Seeds\", \"Roots\", \"Iterations\"]}, \"type\": \"table\"}],\n",
              "                        {\"template\": {\"data\": {\"bar\": [{\"error_x\": {\"color\": \"#2a3f5f\"}, \"error_y\": {\"color\": \"#2a3f5f\"}, \"marker\": {\"line\": {\"color\": \"#E5ECF6\", \"width\": 0.5}}, \"type\": \"bar\"}], \"barpolar\": [{\"marker\": {\"line\": {\"color\": \"#E5ECF6\", \"width\": 0.5}}, \"type\": \"barpolar\"}], \"carpet\": [{\"aaxis\": {\"endlinecolor\": \"#2a3f5f\", \"gridcolor\": \"white\", \"linecolor\": \"white\", \"minorgridcolor\": \"white\", \"startlinecolor\": \"#2a3f5f\"}, \"baxis\": {\"endlinecolor\": \"#2a3f5f\", \"gridcolor\": \"white\", \"linecolor\": \"white\", \"minorgridcolor\": \"white\", \"startlinecolor\": \"#2a3f5f\"}, \"type\": \"carpet\"}], \"choropleth\": [{\"colorbar\": {\"outlinewidth\": 0, \"ticks\": \"\"}, \"type\": \"choropleth\"}], \"contour\": [{\"colorbar\": {\"outlinewidth\": 0, \"ticks\": \"\"}, \"colorscale\": [[0.0, \"#0d0887\"], [0.1111111111111111, \"#46039f\"], [0.2222222222222222, \"#7201a8\"], [0.3333333333333333, \"#9c179e\"], [0.4444444444444444, \"#bd3786\"], [0.5555555555555556, \"#d8576b\"], [0.6666666666666666, \"#ed7953\"], [0.7777777777777778, \"#fb9f3a\"], [0.8888888888888888, \"#fdca26\"], [1.0, \"#f0f921\"]], \"type\": \"contour\"}], \"contourcarpet\": [{\"colorbar\": {\"outlinewidth\": 0, \"ticks\": \"\"}, \"type\": \"contourcarpet\"}], \"heatmap\": [{\"colorbar\": {\"outlinewidth\": 0, \"ticks\": \"\"}, \"colorscale\": [[0.0, \"#0d0887\"], [0.1111111111111111, \"#46039f\"], [0.2222222222222222, \"#7201a8\"], [0.3333333333333333, \"#9c179e\"], [0.4444444444444444, \"#bd3786\"], [0.5555555555555556, \"#d8576b\"], [0.6666666666666666, \"#ed7953\"], [0.7777777777777778, \"#fb9f3a\"], [0.8888888888888888, \"#fdca26\"], [1.0, \"#f0f921\"]], \"type\": \"heatmap\"}], \"heatmapgl\": [{\"colorbar\": {\"outlinewidth\": 0, \"ticks\": \"\"}, \"colorscale\": [[0.0, \"#0d0887\"], [0.1111111111111111, \"#46039f\"], [0.2222222222222222, \"#7201a8\"], [0.3333333333333333, \"#9c179e\"], [0.4444444444444444, \"#bd3786\"], [0.5555555555555556, \"#d8576b\"], [0.6666666666666666, \"#ed7953\"], [0.7777777777777778, \"#fb9f3a\"], [0.8888888888888888, \"#fdca26\"], [1.0, \"#f0f921\"]], \"type\": \"heatmapgl\"}], \"histogram\": [{\"marker\": {\"colorbar\": {\"outlinewidth\": 0, \"ticks\": \"\"}}, \"type\": \"histogram\"}], \"histogram2d\": [{\"colorbar\": {\"outlinewidth\": 0, \"ticks\": \"\"}, \"colorscale\": [[0.0, \"#0d0887\"], [0.1111111111111111, \"#46039f\"], [0.2222222222222222, \"#7201a8\"], [0.3333333333333333, \"#9c179e\"], [0.4444444444444444, \"#bd3786\"], [0.5555555555555556, \"#d8576b\"], [0.6666666666666666, \"#ed7953\"], [0.7777777777777778, \"#fb9f3a\"], [0.8888888888888888, \"#fdca26\"], [1.0, \"#f0f921\"]], \"type\": \"histogram2d\"}], \"histogram2dcontour\": [{\"colorbar\": {\"outlinewidth\": 0, \"ticks\": \"\"}, \"colorscale\": [[0.0, \"#0d0887\"], [0.1111111111111111, \"#46039f\"], [0.2222222222222222, \"#7201a8\"], [0.3333333333333333, \"#9c179e\"], [0.4444444444444444, \"#bd3786\"], [0.5555555555555556, \"#d8576b\"], [0.6666666666666666, \"#ed7953\"], [0.7777777777777778, \"#fb9f3a\"], [0.8888888888888888, \"#fdca26\"], [1.0, \"#f0f921\"]], \"type\": \"histogram2dcontour\"}], \"mesh3d\": [{\"colorbar\": {\"outlinewidth\": 0, \"ticks\": \"\"}, \"type\": \"mesh3d\"}], \"parcoords\": [{\"line\": {\"colorbar\": {\"outlinewidth\": 0, \"ticks\": \"\"}}, \"type\": \"parcoords\"}], \"pie\": [{\"automargin\": true, \"type\": \"pie\"}], \"scatter\": [{\"marker\": {\"colorbar\": {\"outlinewidth\": 0, \"ticks\": \"\"}}, \"type\": \"scatter\"}], \"scatter3d\": [{\"line\": {\"colorbar\": {\"outlinewidth\": 0, \"ticks\": \"\"}}, \"marker\": {\"colorbar\": {\"outlinewidth\": 0, \"ticks\": \"\"}}, \"type\": \"scatter3d\"}], \"scattercarpet\": [{\"marker\": {\"colorbar\": {\"outlinewidth\": 0, \"ticks\": \"\"}}, \"type\": \"scattercarpet\"}], \"scattergeo\": [{\"marker\": {\"colorbar\": {\"outlinewidth\": 0, \"ticks\": \"\"}}, \"type\": \"scattergeo\"}], \"scattergl\": [{\"marker\": {\"colorbar\": {\"outlinewidth\": 0, \"ticks\": \"\"}}, \"type\": \"scattergl\"}], \"scattermapbox\": [{\"marker\": {\"colorbar\": {\"outlinewidth\": 0, \"ticks\": \"\"}}, \"type\": \"scattermapbox\"}], \"scatterpolar\": [{\"marker\": {\"colorbar\": {\"outlinewidth\": 0, \"ticks\": \"\"}}, \"type\": \"scatterpolar\"}], \"scatterpolargl\": [{\"marker\": {\"colorbar\": {\"outlinewidth\": 0, \"ticks\": \"\"}}, \"type\": \"scatterpolargl\"}], \"scatterternary\": [{\"marker\": {\"colorbar\": {\"outlinewidth\": 0, \"ticks\": \"\"}}, \"type\": \"scatterternary\"}], \"surface\": [{\"colorbar\": {\"outlinewidth\": 0, \"ticks\": \"\"}, \"colorscale\": [[0.0, \"#0d0887\"], [0.1111111111111111, \"#46039f\"], [0.2222222222222222, \"#7201a8\"], [0.3333333333333333, \"#9c179e\"], [0.4444444444444444, \"#bd3786\"], [0.5555555555555556, \"#d8576b\"], [0.6666666666666666, \"#ed7953\"], [0.7777777777777778, \"#fb9f3a\"], [0.8888888888888888, \"#fdca26\"], [1.0, \"#f0f921\"]], \"type\": \"surface\"}], \"table\": [{\"cells\": {\"fill\": {\"color\": \"#EBF0F8\"}, \"line\": {\"color\": \"white\"}}, \"header\": {\"fill\": {\"color\": \"#C8D4E3\"}, \"line\": {\"color\": \"white\"}}, \"type\": \"table\"}]}, \"layout\": {\"annotationdefaults\": {\"arrowcolor\": \"#2a3f5f\", \"arrowhead\": 0, \"arrowwidth\": 1}, \"coloraxis\": {\"colorbar\": {\"outlinewidth\": 0, \"ticks\": \"\"}}, \"colorscale\": {\"diverging\": [[0, \"#8e0152\"], [0.1, \"#c51b7d\"], [0.2, \"#de77ae\"], [0.3, \"#f1b6da\"], [0.4, \"#fde0ef\"], [0.5, \"#f7f7f7\"], [0.6, \"#e6f5d0\"], [0.7, \"#b8e186\"], [0.8, \"#7fbc41\"], [0.9, \"#4d9221\"], [1, \"#276419\"]], \"sequential\": [[0.0, \"#0d0887\"], [0.1111111111111111, \"#46039f\"], [0.2222222222222222, \"#7201a8\"], [0.3333333333333333, \"#9c179e\"], [0.4444444444444444, \"#bd3786\"], [0.5555555555555556, \"#d8576b\"], [0.6666666666666666, \"#ed7953\"], [0.7777777777777778, \"#fb9f3a\"], [0.8888888888888888, \"#fdca26\"], [1.0, \"#f0f921\"]], \"sequentialminus\": [[0.0, \"#0d0887\"], [0.1111111111111111, \"#46039f\"], [0.2222222222222222, \"#7201a8\"], [0.3333333333333333, \"#9c179e\"], [0.4444444444444444, \"#bd3786\"], [0.5555555555555556, \"#d8576b\"], [0.6666666666666666, \"#ed7953\"], [0.7777777777777778, \"#fb9f3a\"], [0.8888888888888888, \"#fdca26\"], [1.0, \"#f0f921\"]]}, \"colorway\": [\"#636efa\", \"#EF553B\", \"#00cc96\", \"#ab63fa\", \"#FFA15A\", \"#19d3f3\", \"#FF6692\", \"#B6E880\", \"#FF97FF\", \"#FECB52\"], \"font\": {\"color\": \"#2a3f5f\"}, \"geo\": {\"bgcolor\": \"white\", \"lakecolor\": \"white\", \"landcolor\": \"#E5ECF6\", \"showlakes\": true, \"showland\": true, \"subunitcolor\": \"white\"}, \"hoverlabel\": {\"align\": \"left\"}, \"hovermode\": \"closest\", \"mapbox\": {\"style\": \"light\"}, \"paper_bgcolor\": \"white\", \"plot_bgcolor\": \"#E5ECF6\", \"polar\": {\"angularaxis\": {\"gridcolor\": \"white\", \"linecolor\": \"white\", \"ticks\": \"\"}, \"bgcolor\": \"#E5ECF6\", \"radialaxis\": {\"gridcolor\": \"white\", \"linecolor\": \"white\", \"ticks\": \"\"}}, \"scene\": {\"xaxis\": {\"backgroundcolor\": \"#E5ECF6\", \"gridcolor\": \"white\", \"gridwidth\": 2, \"linecolor\": \"white\", \"showbackground\": true, \"ticks\": \"\", \"zerolinecolor\": \"white\"}, \"yaxis\": {\"backgroundcolor\": \"#E5ECF6\", \"gridcolor\": \"white\", \"gridwidth\": 2, \"linecolor\": \"white\", \"showbackground\": true, \"ticks\": \"\", \"zerolinecolor\": \"white\"}, \"zaxis\": {\"backgroundcolor\": \"#E5ECF6\", \"gridcolor\": \"white\", \"gridwidth\": 2, \"linecolor\": \"white\", \"showbackground\": true, \"ticks\": \"\", \"zerolinecolor\": \"white\"}}, \"shapedefaults\": {\"line\": {\"color\": \"#2a3f5f\"}}, \"ternary\": {\"aaxis\": {\"gridcolor\": \"white\", \"linecolor\": \"white\", \"ticks\": \"\"}, \"baxis\": {\"gridcolor\": \"white\", \"linecolor\": \"white\", \"ticks\": \"\"}, \"bgcolor\": \"#E5ECF6\", \"caxis\": {\"gridcolor\": \"white\", \"linecolor\": \"white\", \"ticks\": \"\"}}, \"title\": {\"x\": 0.05}, \"xaxis\": {\"automargin\": true, \"gridcolor\": \"white\", \"linecolor\": \"white\", \"ticks\": \"\", \"title\": {\"standoff\": 15}, \"zerolinecolor\": \"white\", \"zerolinewidth\": 2}, \"yaxis\": {\"automargin\": true, \"gridcolor\": \"white\", \"linecolor\": \"white\", \"ticks\": \"\", \"title\": {\"standoff\": 15}, \"zerolinecolor\": \"white\", \"zerolinewidth\": 2}}}},\n",
              "                        {\"responsive\": true}\n",
              "                    ).then(function(){\n",
              "                            \n",
              "var gd = document.getElementById('e26ddda5-8742-44d7-a6f6-f710196e0a5d');\n",
              "var x = new MutationObserver(function (mutations, observer) {{\n",
              "        var display = window.getComputedStyle(gd).display;\n",
              "        if (!display || display === 'none') {{\n",
              "            console.log([gd, 'removed!']);\n",
              "            Plotly.purge(gd);\n",
              "            observer.disconnect();\n",
              "        }}\n",
              "}});\n",
              "\n",
              "// Listen for the removal of the full notebook cells\n",
              "var notebookContainer = gd.closest('#notebook-container');\n",
              "if (notebookContainer) {{\n",
              "    x.observe(notebookContainer, {childList: true});\n",
              "}}\n",
              "\n",
              "// Listen for the clearing of the current output cell\n",
              "var outputEl = gd.closest('.output');\n",
              "if (outputEl) {{\n",
              "    x.observe(outputEl, {childList: true});\n",
              "}}\n",
              "\n",
              "                        })\n",
              "                };\n",
              "                \n",
              "            </script>\n",
              "        </div>\n",
              "</body>\n",
              "</html>"
            ]
          },
          "metadata": {
            "tags": []
          }
        }
      ]
    },
    {
      "cell_type": "markdown",
      "metadata": {
        "id": "Xq_MCJ8crfly"
      },
      "source": [
        "We see that at $\\frac\\pi2$ it does not converge.  Also interestingly $\\frac{3\\pi}2+0.1$ almost does not converge, but finds a root out at $33\\pi$.  My impression is that that was luck."
      ]
    },
    {
      "cell_type": "code",
      "metadata": {
        "id": "zfC0GLmvsINz",
        "outputId": "440894f0-a153-4759-b2b4-ad4e48f2a004",
        "colab": {
          "base_uri": "https://localhost:8080/",
          "height": 35
        }
      },
      "source": [
        "roots[-2]/pi"
      ],
      "execution_count": 131,
      "outputs": [
        {
          "output_type": "execute_result",
          "data": {
            "text/plain": [
              "33.0"
            ]
          },
          "metadata": {
            "tags": []
          },
          "execution_count": 131
        }
      ]
    },
    {
      "cell_type": "markdown",
      "metadata": {
        "id": "9PytPFhTvCEO"
      },
      "source": [
        "##Lagrange Interpolation"
      ]
    },
    {
      "cell_type": "code",
      "metadata": {
        "id": "mbHO_9uuBj1v"
      },
      "source": [
        "def lagrangeCoefficient(inputArray,outputArray,entry,variable):\n",
        "  lc = 1\n",
        "  for i in range(len(inputArray)):\n",
        "    if i == entry:\n",
        "      continue\n",
        "    else:\n",
        "      lc = lc*(variable - inputArray[i])/(inputArray[entry]-inputArray[i])\n",
        "  return lc\n",
        "\n",
        "def lagrangeInterpolator(inputArray, outputArray, variable):\n",
        "  li = 0\n",
        "  for i in range(len(inputArray)):\n",
        "    li = li + lagrangeCoefficient(inputArray,outputArray,i,variable)*outputArray[i]\n",
        "  return li\n"
      ],
      "execution_count": null,
      "outputs": []
    },
    {
      "cell_type": "markdown",
      "metadata": {
        "id": "MdT4idaNxXkP"
      },
      "source": [
        "I have chosen to break my code into two pieces.  My first function will compute the coeffiecent for any choice and the second actually builds the Lagrange Interpolator.  Next I define the three points that I will pass my interpolator and I will graph the result as well."
      ]
    },
    {
      "cell_type": "code",
      "metadata": {
        "id": "0ISUuDulw4o0"
      },
      "source": [
        "inputValues = [pi/4,pi/4+.1,pi/2]\n",
        "outputValues = [math.sin(x) for x in inputValues]\n",
        "\n"
      ],
      "execution_count": null,
      "outputs": []
    },
    {
      "cell_type": "code",
      "metadata": {
        "id": "B5bKbW1lVA0d",
        "outputId": "48123442-88da-4dbf-e377-193023c59e7e",
        "colab": {
          "base_uri": "https://localhost:8080/",
          "height": 281
        }
      },
      "source": [
        "import matplotlib.pyplot as plt\n",
        "import numpy as np\n",
        "\n",
        "x = np.arange( 0,3,.001)\n",
        "plt.scatter(inputValues,outputValues)\n",
        "plt.plot(x,lagrangeInterpolator(inputValues,outputValues,x))\n",
        "plt.plot(x, np.sin(x))\n",
        "plt.title('Graph of Lagrange Interpolator')\n",
        "plt.legend(['Lagrange Interpolator', 'Sine Wave'])\n",
        "\n",
        "plt.show()\n"
      ],
      "execution_count": null,
      "outputs": [
        {
          "output_type": "display_data",
          "data": {
            "image/png": "[encoded data removed]",
            "text/plain": [
              "<Figure size 432x288 with 1 Axes>"
            ]
          },
          "metadata": {
            "tags": [],
            "needs_background": "light"
          }
        }
      ]
    },
    {
      "cell_type": "code",
      "metadata": {
        "id": "5U5T3Fld5X0S"
      },
      "source": [
        ""
      ],
      "execution_count": null,
      "outputs": []
    },
    {
      "cell_type": "markdown",
      "metadata": {
        "id": "aLdqL3Nx1Z8u"
      },
      "source": [
        "To finish I need to do some error analysis of the interpolator and the derivative of it."
      ]
    },
    {
      "cell_type": "code",
      "metadata": {
        "id": "iSToKKng1osS"
      },
      "source": [
        "functionErrors = [absoluteError(lagrangeInterpolator(inputValues,outputValues,pi/4+.2),math.sin(pi/4+.2)),relativeError(lagrangeInterpolator(inputValues,outputValues,pi/4+.2),math.sin(pi/4+.2))]"
      ],
      "execution_count": null,
      "outputs": []
    },
    {
      "cell_type": "code",
      "metadata": {
        "id": "qs2G2fKR2doF",
        "outputId": "fdec4f34-3292-462f-e52c-3e935b74c76c",
        "colab": {
          "base_uri": "https://localhost:8080/",
          "height": 35
        }
      },
      "source": [
        "functionErrors"
      ],
      "execution_count": null,
      "outputs": [
        {
          "output_type": "execute_result",
          "data": {
            "text/plain": [
              "[0.0009511088336823237, 0.0011411131212949398]"
            ]
          },
          "metadata": {
            "tags": []
          },
          "execution_count": 43
        }
      ]
    },
    {
      "cell_type": "markdown",
      "metadata": {
        "id": "Uixb3R0M2_rz"
      },
      "source": [
        "I use the textbook to write the second derivative of the 3 point lagrange interpolation.  I don't believe this will be useful (nor generalizable) so I simply write the second derivative in our case.  It is constant here!"
      ]
    },
    {
      "cell_type": "code",
      "metadata": {
        "id": "8xSHeLvo2fN0"
      },
      "source": [
        "secondDerivativeOfLagrangeInterpolation = 2*outputValues[0]/((inputValues[0]-inputValues[1])*(inputValues[0]-inputValues[2]))+2*outputValues[1]/((inputValues[1]-inputValues[0])*(inputValues[1]-inputValues[2]))+2*outputValues[2]/((inputValues[2]-inputValues[0])*(inputValues[2]-inputValues[1]))"
      ],
      "execution_count": null,
      "outputs": []
    },
    {
      "cell_type": "code",
      "metadata": {
        "id": "-cMJI7TD4YMz",
        "outputId": "ca45b5c0-93f0-4d76-9d07-af39822c6969",
        "colab": {
          "base_uri": "https://localhost:8080/",
          "height": 35
        }
      },
      "source": [
        "secondDerivativeOfLagrangeInterpolation"
      ],
      "execution_count": null,
      "outputs": [
        {
          "output_type": "execute_result",
          "data": {
            "text/plain": [
              "-0.8686330376211258"
            ]
          },
          "metadata": {
            "tags": []
          },
          "execution_count": 47
        }
      ]
    },
    {
      "cell_type": "code",
      "metadata": {
        "id": "6z1OGAc-4usP"
      },
      "source": [
        "secondDerivativeErrors = [absoluteError(secondDerivativeOfLagrangeInterpolation,-1/sqrt2),relativeError(secondDerivativeOfLagrangeInterpolation,-1/sqrt2)]"
      ],
      "execution_count": null,
      "outputs": []
    },
    {
      "cell_type": "code",
      "metadata": {
        "id": "TwE3c62K5ETI",
        "outputId": "5f1b5e86-c929-485f-8753-9f4cc0d006b8",
        "colab": {
          "base_uri": "https://localhost:8080/",
          "height": 35
        }
      },
      "source": [
        "secondDerivativeErrors"
      ],
      "execution_count": null,
      "outputs": [
        {
          "output_type": "execute_result",
          "data": {
            "text/plain": [
              "[0.1615262564345783, -0.22843262252913507]"
            ]
          },
          "metadata": {
            "tags": []
          },
          "execution_count": 49
        }
      ]
    },
    {
      "cell_type": "markdown",
      "metadata": {
        "id": "3hvXpd2p5KCB"
      },
      "source": [
        "Not a great estimate of the second derivative!"
      ]
    },
    {
      "cell_type": "code",
      "metadata": {
        "id": "lQfnEG535Sfu"
      },
      "source": [
        ""
      ],
      "execution_count": null,
      "outputs": []
    }
  ]
}