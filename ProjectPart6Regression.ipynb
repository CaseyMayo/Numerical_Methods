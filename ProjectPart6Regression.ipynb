{
  "nbformat": 4,
  "nbformat_minor": 0,
  "metadata": {
    "kernelspec": {
      "display_name": "Python 3",
      "language": "python",
      "name": "python3"
    },
    "language_info": {
      "codemirror_mode": {
        "name": "ipython",
        "version": 3
      },
      "file_extension": ".py",
      "mimetype": "text/x-python",
      "name": "python",
      "nbconvert_exporter": "python",
      "pygments_lexer": "ipython3",
      "version": "3.6.1"
    },
    "colab": {
      "name": "Correlation_and_Regression.ipynb",
      "provenance": [],
      "include_colab_link": true
    }
  },
  "cells": [
    {
      "cell_type": "markdown",
      "metadata": {
        "id": "view-in-github",
        "colab_type": "text"
      },
      "source": [
        "<a href=\"https://colab.research.google.com/github/nurfnick/Numerical_Methods/blob/master/ProjectPart6Regression.ipynb\" target=\"_parent\"><img src=\"https://colab.research.google.com/assets/colab-badge.svg\" alt=\"Open In Colab\"/></a>"
      ]
    },
    {
      "cell_type": "markdown",
      "metadata": {
        "id": "f1m-Q7d0x68b"
      },
      "source": [
        "# Project Part 6"
      ]
    },
    {
      "cell_type": "markdown",
      "metadata": {
        "id": "L-tPHJomylog"
      },
      "source": [
        "##Linear Regression"
      ]
    },
    {
      "cell_type": "code",
      "metadata": {
        "id": "LV7hu-v0x68d"
      },
      "source": [
        "#Load your packages\n",
        "import numpy as np\n",
        "from scipy import stats\n",
        "import matplotlib.pyplot as plt\n",
        "import pandas as pa\n",
        "\n",
        "\n",
        "%matplotlib inline"
      ],
      "execution_count": 1,
      "outputs": []
    },
    {
      "cell_type": "code",
      "metadata": {
        "id": "1Kd7u68Tx68s"
      },
      "source": [
        "#https://docs.scipy.org/doc/scipy/reference/stats.html"
      ],
      "execution_count": 2,
      "outputs": []
    },
    {
      "cell_type": "markdown",
      "metadata": {
        "id": "423LNa9Nx681"
      },
      "source": [
        "# Time For Data "
      ]
    },
    {
      "cell_type": "code",
      "metadata": {
        "id": "P6Vwfcbfx683"
      },
      "source": [
        "data = pa.read_csv('https://raw.githubusercontent.com/nurfnick/Applied_Stats_Jupyter_Notebooks/master/blues.csv') #this file is sitting in a github repository.  I click the raw button to find this link"
      ],
      "execution_count": 5,
      "outputs": []
    },
    {
      "cell_type": "code",
      "metadata": {
        "id": "lIeVAcfux69A",
        "outputId": "0c6434c8-f5b1-4190-e8b2-c648b6104861",
        "colab": {
          "base_uri": "https://localhost:8080/",
          "height": 424
        }
      },
      "source": [
        "data"
      ],
      "execution_count": 6,
      "outputs": [
        {
          "output_type": "execute_result",
          "data": {
            "text/html": [
              "<div>\n",
              "<style scoped>\n",
              "    .dataframe tbody tr th:only-of-type {\n",
              "        vertical-align: middle;\n",
              "    }\n",
              "\n",
              "    .dataframe tbody tr th {\n",
              "        vertical-align: top;\n",
              "    }\n",
              "\n",
              "    .dataframe thead th {\n",
              "        text-align: right;\n",
              "    }\n",
              "</style>\n",
              "<table border=\"1\" class=\"dataframe\">\n",
              "  <thead>\n",
              "    <tr style=\"text-align: right;\">\n",
              "      <th></th>\n",
              "      <th>Rk</th>\n",
              "      <th>Player</th>\n",
              "      <th>From</th>\n",
              "      <th>To</th>\n",
              "      <th>Yrs</th>\n",
              "      <th>Lg</th>\n",
              "      <th>GP</th>\n",
              "      <th>G</th>\n",
              "      <th>A</th>\n",
              "      <th>PTS</th>\n",
              "      <th>+/-</th>\n",
              "      <th>PIM</th>\n",
              "      <th>EV</th>\n",
              "      <th>PP</th>\n",
              "      <th>SH</th>\n",
              "      <th>GW</th>\n",
              "      <th>EV.1</th>\n",
              "      <th>PP.1</th>\n",
              "      <th>SH.1</th>\n",
              "      <th>S</th>\n",
              "      <th>S%</th>\n",
              "      <th>TOI</th>\n",
              "      <th>ATOI</th>\n",
              "    </tr>\n",
              "  </thead>\n",
              "  <tbody>\n",
              "    <tr>\n",
              "      <th>0</th>\n",
              "      <td>1</td>\n",
              "      <td>Bruce Affleck\\afflebr01</td>\n",
              "      <td>1975</td>\n",
              "      <td>1979</td>\n",
              "      <td>5</td>\n",
              "      <td>NHL</td>\n",
              "      <td>274</td>\n",
              "      <td>14</td>\n",
              "      <td>65</td>\n",
              "      <td>79</td>\n",
              "      <td>-81</td>\n",
              "      <td>86</td>\n",
              "      <td>10</td>\n",
              "      <td>4</td>\n",
              "      <td>0</td>\n",
              "      <td>2</td>\n",
              "      <td>48</td>\n",
              "      <td>14</td>\n",
              "      <td>3</td>\n",
              "      <td>363</td>\n",
              "      <td>3.9</td>\n",
              "      <td>NaN</td>\n",
              "      <td>NaN</td>\n",
              "    </tr>\n",
              "    <tr>\n",
              "      <th>1</th>\n",
              "      <td>2</td>\n",
              "      <td>Kenny Agostino\\agostke01</td>\n",
              "      <td>2017</td>\n",
              "      <td>2017</td>\n",
              "      <td>1</td>\n",
              "      <td>NHL</td>\n",
              "      <td>7</td>\n",
              "      <td>1</td>\n",
              "      <td>2</td>\n",
              "      <td>3</td>\n",
              "      <td>0</td>\n",
              "      <td>2</td>\n",
              "      <td>1</td>\n",
              "      <td>0</td>\n",
              "      <td>0</td>\n",
              "      <td>0</td>\n",
              "      <td>1</td>\n",
              "      <td>1</td>\n",
              "      <td>0</td>\n",
              "      <td>17</td>\n",
              "      <td>5.9</td>\n",
              "      <td>89.0</td>\n",
              "      <td>12:47</td>\n",
              "    </tr>\n",
              "    <tr>\n",
              "      <th>2</th>\n",
              "      <td>3</td>\n",
              "      <td>Glenn Anderson*\\andergl01</td>\n",
              "      <td>1995</td>\n",
              "      <td>1996</td>\n",
              "      <td>2</td>\n",
              "      <td>NHL</td>\n",
              "      <td>51</td>\n",
              "      <td>14</td>\n",
              "      <td>16</td>\n",
              "      <td>30</td>\n",
              "      <td>-2</td>\n",
              "      <td>43</td>\n",
              "      <td>12</td>\n",
              "      <td>2</td>\n",
              "      <td>0</td>\n",
              "      <td>3</td>\n",
              "      <td>13</td>\n",
              "      <td>3</td>\n",
              "      <td>0</td>\n",
              "      <td>89</td>\n",
              "      <td>15.7</td>\n",
              "      <td>NaN</td>\n",
              "      <td>NaN</td>\n",
              "    </tr>\n",
              "    <tr>\n",
              "      <th>3</th>\n",
              "      <td>4</td>\n",
              "      <td>Perry Anderson\\anderpe01</td>\n",
              "      <td>1982</td>\n",
              "      <td>1985</td>\n",
              "      <td>4</td>\n",
              "      <td>NHL</td>\n",
              "      <td>144</td>\n",
              "      <td>22</td>\n",
              "      <td>18</td>\n",
              "      <td>40</td>\n",
              "      <td>-14</td>\n",
              "      <td>355</td>\n",
              "      <td>22</td>\n",
              "      <td>0</td>\n",
              "      <td>0</td>\n",
              "      <td>2</td>\n",
              "      <td>18</td>\n",
              "      <td>0</td>\n",
              "      <td>0</td>\n",
              "      <td>168</td>\n",
              "      <td>13.1</td>\n",
              "      <td>NaN</td>\n",
              "      <td>NaN</td>\n",
              "    </tr>\n",
              "    <tr>\n",
              "      <th>4</th>\n",
              "      <td>5</td>\n",
              "      <td>Ron Anderson\\anderro01</td>\n",
              "      <td>1970</td>\n",
              "      <td>1970</td>\n",
              "      <td>1</td>\n",
              "      <td>NHL</td>\n",
              "      <td>59</td>\n",
              "      <td>9</td>\n",
              "      <td>9</td>\n",
              "      <td>18</td>\n",
              "      <td>9</td>\n",
              "      <td>36</td>\n",
              "      <td>8</td>\n",
              "      <td>1</td>\n",
              "      <td>0</td>\n",
              "      <td>0</td>\n",
              "      <td>8</td>\n",
              "      <td>1</td>\n",
              "      <td>0</td>\n",
              "      <td>107</td>\n",
              "      <td>8.4</td>\n",
              "      <td>NaN</td>\n",
              "      <td>NaN</td>\n",
              "    </tr>\n",
              "    <tr>\n",
              "      <th>...</th>\n",
              "      <td>...</td>\n",
              "      <td>...</td>\n",
              "      <td>...</td>\n",
              "      <td>...</td>\n",
              "      <td>...</td>\n",
              "      <td>...</td>\n",
              "      <td>...</td>\n",
              "      <td>...</td>\n",
              "      <td>...</td>\n",
              "      <td>...</td>\n",
              "      <td>...</td>\n",
              "      <td>...</td>\n",
              "      <td>...</td>\n",
              "      <td>...</td>\n",
              "      <td>...</td>\n",
              "      <td>...</td>\n",
              "      <td>...</td>\n",
              "      <td>...</td>\n",
              "      <td>...</td>\n",
              "      <td>...</td>\n",
              "      <td>...</td>\n",
              "      <td>...</td>\n",
              "      <td>...</td>\n",
              "    </tr>\n",
              "    <tr>\n",
              "      <th>591</th>\n",
              "      <td>592</td>\n",
              "      <td>Joe Zanussi\\zanusjo01</td>\n",
              "      <td>1977</td>\n",
              "      <td>1977</td>\n",
              "      <td>1</td>\n",
              "      <td>NHL</td>\n",
              "      <td>11</td>\n",
              "      <td>0</td>\n",
              "      <td>3</td>\n",
              "      <td>3</td>\n",
              "      <td>-6</td>\n",
              "      <td>4</td>\n",
              "      <td>0</td>\n",
              "      <td>0</td>\n",
              "      <td>0</td>\n",
              "      <td>0</td>\n",
              "      <td>1</td>\n",
              "      <td>2</td>\n",
              "      <td>0</td>\n",
              "      <td>11</td>\n",
              "      <td>0.0</td>\n",
              "      <td>NaN</td>\n",
              "      <td>NaN</td>\n",
              "    </tr>\n",
              "    <tr>\n",
              "      <th>592</th>\n",
              "      <td>593</td>\n",
              "      <td>Peter Zezel\\zezelpe01</td>\n",
              "      <td>1989</td>\n",
              "      <td>1997</td>\n",
              "      <td>4</td>\n",
              "      <td>NHL</td>\n",
              "      <td>217</td>\n",
              "      <td>54</td>\n",
              "      <td>105</td>\n",
              "      <td>159</td>\n",
              "      <td>-6</td>\n",
              "      <td>81</td>\n",
              "      <td>39</td>\n",
              "      <td>14</td>\n",
              "      <td>1</td>\n",
              "      <td>9</td>\n",
              "      <td>57</td>\n",
              "      <td>47</td>\n",
              "      <td>1</td>\n",
              "      <td>409</td>\n",
              "      <td>13.2</td>\n",
              "      <td>NaN</td>\n",
              "      <td>NaN</td>\n",
              "    </tr>\n",
              "    <tr>\n",
              "      <th>593</th>\n",
              "      <td>594</td>\n",
              "      <td>Mike Zigomanis\\zigommi01</td>\n",
              "      <td>2006</td>\n",
              "      <td>2006</td>\n",
              "      <td>1</td>\n",
              "      <td>NHL</td>\n",
              "      <td>2</td>\n",
              "      <td>0</td>\n",
              "      <td>0</td>\n",
              "      <td>0</td>\n",
              "      <td>0</td>\n",
              "      <td>0</td>\n",
              "      <td>0</td>\n",
              "      <td>0</td>\n",
              "      <td>0</td>\n",
              "      <td>0</td>\n",
              "      <td>0</td>\n",
              "      <td>0</td>\n",
              "      <td>0</td>\n",
              "      <td>1</td>\n",
              "      <td>0.0</td>\n",
              "      <td>15.0</td>\n",
              "      <td>7:39</td>\n",
              "    </tr>\n",
              "    <tr>\n",
              "      <th>594</th>\n",
              "      <td>595</td>\n",
              "      <td>Rick Zombo\\zombori01</td>\n",
              "      <td>1992</td>\n",
              "      <td>1995</td>\n",
              "      <td>4</td>\n",
              "      <td>NHL</td>\n",
              "      <td>232</td>\n",
              "      <td>6</td>\n",
              "      <td>42</td>\n",
              "      <td>48</td>\n",
              "      <td>-6</td>\n",
              "      <td>233</td>\n",
              "      <td>6</td>\n",
              "      <td>0</td>\n",
              "      <td>0</td>\n",
              "      <td>1</td>\n",
              "      <td>36</td>\n",
              "      <td>3</td>\n",
              "      <td>3</td>\n",
              "      <td>161</td>\n",
              "      <td>3.7</td>\n",
              "      <td>NaN</td>\n",
              "      <td>NaN</td>\n",
              "    </tr>\n",
              "    <tr>\n",
              "      <th>595</th>\n",
              "      <td>596</td>\n",
              "      <td>Mike Zuke\\zukemi01</td>\n",
              "      <td>1979</td>\n",
              "      <td>1983</td>\n",
              "      <td>5</td>\n",
              "      <td>NHL</td>\n",
              "      <td>296</td>\n",
              "      <td>76</td>\n",
              "      <td>159</td>\n",
              "      <td>235</td>\n",
              "      <td>-17</td>\n",
              "      <td>160</td>\n",
              "      <td>53</td>\n",
              "      <td>20</td>\n",
              "      <td>3</td>\n",
              "      <td>5</td>\n",
              "      <td>89</td>\n",
              "      <td>69</td>\n",
              "      <td>1</td>\n",
              "      <td>614</td>\n",
              "      <td>12.4</td>\n",
              "      <td>NaN</td>\n",
              "      <td>NaN</td>\n",
              "    </tr>\n",
              "  </tbody>\n",
              "</table>\n",
              "<p>596 rows × 23 columns</p>\n",
              "</div>"
            ],
            "text/plain": [
              "      Rk                     Player  From    To  ...    S    S%   TOI   ATOI\n",
              "0      1    Bruce Affleck\\afflebr01  1975  1979  ...  363   3.9   NaN    NaN\n",
              "1      2   Kenny Agostino\\agostke01  2017  2017  ...   17   5.9  89.0  12:47\n",
              "2      3  Glenn Anderson*\\andergl01  1995  1996  ...   89  15.7   NaN    NaN\n",
              "3      4   Perry Anderson\\anderpe01  1982  1985  ...  168  13.1   NaN    NaN\n",
              "4      5     Ron Anderson\\anderro01  1970  1970  ...  107   8.4   NaN    NaN\n",
              "..   ...                        ...   ...   ...  ...  ...   ...   ...    ...\n",
              "591  592      Joe Zanussi\\zanusjo01  1977  1977  ...   11   0.0   NaN    NaN\n",
              "592  593      Peter Zezel\\zezelpe01  1989  1997  ...  409  13.2   NaN    NaN\n",
              "593  594   Mike Zigomanis\\zigommi01  2006  2006  ...    1   0.0  15.0   7:39\n",
              "594  595       Rick Zombo\\zombori01  1992  1995  ...  161   3.7   NaN    NaN\n",
              "595  596         Mike Zuke\\zukemi01  1979  1983  ...  614  12.4   NaN    NaN\n",
              "\n",
              "[596 rows x 23 columns]"
            ]
          },
          "metadata": {
            "tags": []
          },
          "execution_count": 6
        }
      ]
    },
    {
      "cell_type": "code",
      "metadata": {
        "id": "dJTl-QESx69J",
        "outputId": "c2489a19-1394-4b77-e4bf-36b2ebbd72f8",
        "colab": {
          "base_uri": "https://localhost:8080/",
          "height": 283
        }
      },
      "source": [
        "#Let's use something that is perfectly correlated!  Goals+Assists = points so these should be identical\n",
        "plt.scatter(data[\"G\"]+data[\"A\"],data[\"PTS\"])"
      ],
      "execution_count": 7,
      "outputs": [
        {
          "output_type": "execute_result",
          "data": {
            "text/plain": [
              "<matplotlib.collections.PathCollection at 0x7ff9d8b2af28>"
            ]
          },
          "metadata": {
            "tags": []
          },
          "execution_count": 7
        },
        {
          "output_type": "display_data",
          "data": {
            "image/png": "[encoded data removed]",
            "text/plain": [
              "<Figure size 432x288 with 1 Axes>"
            ]
          },
          "metadata": {
            "tags": [],
            "needs_background": "light"
          }
        }
      ]
    },
    {
      "cell_type": "code",
      "metadata": {
        "id": "iA8iZdtDx69R",
        "outputId": "c6476ffc-f1b9-4fc9-8e90-ec6fa7da5033",
        "colab": {
          "base_uri": "https://localhost:8080/"
        }
      },
      "source": [
        "#Correlation will be the pearsonr function it also returns your p value\n",
        "stats.pearsonr(data[\"G\"]+data[\"A\"],data[\"PTS\"])"
      ],
      "execution_count": 10,
      "outputs": [
        {
          "output_type": "execute_result",
          "data": {
            "text/plain": [
              "(1.0, 0.0)"
            ]
          },
          "metadata": {
            "tags": []
          },
          "execution_count": 10
        }
      ]
    },
    {
      "cell_type": "code",
      "metadata": {
        "id": "EX0-HXxwx69Y",
        "outputId": "7bd6930b-750b-4260-ce53-208ef5c7d2d0",
        "colab": {
          "base_uri": "https://localhost:8080/"
        }
      },
      "source": [
        "#Let's check that the p value is the same as I showed in class\\\n",
        "r = stats.pearsonr(data[\"G\"]+data[\"A\"],data[\"PTS\"])[0]\n",
        "n = len(data[\"G\"])\n",
        "t = r/np.sqrt((1-r**2)/(n-2))\n",
        "1-stats.t.cdf(t, n-2)"
      ],
      "execution_count": 9,
      "outputs": [
        {
          "output_type": "stream",
          "text": [
            "/usr/local/lib/python3.6/dist-packages/ipykernel_launcher.py:4: RuntimeWarning: divide by zero encountered in double_scalars\n",
            "  after removing the cwd from sys.path.\n"
          ],
          "name": "stderr"
        },
        {
          "output_type": "execute_result",
          "data": {
            "text/plain": [
              "0.0"
            ]
          },
          "metadata": {
            "tags": []
          },
          "execution_count": 9
        }
      ]
    },
    {
      "cell_type": "code",
      "metadata": {
        "id": "NKSpiQUtx69n",
        "outputId": "fc2388a4-7263-4e5e-864a-91241f0ae423",
        "colab": {
          "base_uri": "https://localhost:8080/",
          "height": 283
        }
      },
      "source": [
        "#That one was boring, let's try again. \n",
        "plt.scatter(data[\"G\"],data[\"PTS\"])"
      ],
      "execution_count": 8,
      "outputs": [
        {
          "output_type": "execute_result",
          "data": {
            "text/plain": [
              "<matplotlib.collections.PathCollection at 0x7ff9d85c1908>"
            ]
          },
          "metadata": {
            "tags": []
          },
          "execution_count": 8
        },
        {
          "output_type": "display_data",
          "data": {
            "image/png": "[encoded data removed]",
            "text/plain": [
              "<Figure size 432x288 with 1 Axes>"
            ]
          },
          "metadata": {
            "tags": [],
            "needs_background": "light"
          }
        }
      ]
    },
    {
      "cell_type": "code",
      "metadata": {
        "id": "qXBSGcybx69u",
        "outputId": "2ccbc97a-f08a-45e9-87e4-44ad228e3d0e",
        "colab": {
          "base_uri": "https://localhost:8080/"
        }
      },
      "source": [
        "#Still one heck of a \n",
        "stats.pearsonr(data[\"G\"],data[\"PTS\"])"
      ],
      "execution_count": 12,
      "outputs": [
        {
          "output_type": "execute_result",
          "data": {
            "text/plain": [
              "(0.9589718106521393, 0.0)"
            ]
          },
          "metadata": {
            "tags": []
          },
          "execution_count": 12
        }
      ]
    },
    {
      "cell_type": "code",
      "metadata": {
        "id": "Y7yJpShbx690",
        "outputId": "268641c4-90e7-4fa6-cd93-d695bab60117",
        "colab": {
          "base_uri": "https://localhost:8080/"
        }
      },
      "source": [
        "#Still showing very low p value!\n",
        "#Let's check that the p value is the same as I showed in class\\\n",
        "r = stats.pearsonr(data[\"G\"],data[\"PTS\"])[0]\n",
        "n = len(data[\"G\"])\n",
        "t = r/np.sqrt((1-r**2)/(n-2))\n",
        "1-stats.t.cdf(t, n-2)"
      ],
      "execution_count": 13,
      "outputs": [
        {
          "output_type": "execute_result",
          "data": {
            "text/plain": [
              "0.0"
            ]
          },
          "metadata": {
            "tags": []
          },
          "execution_count": 13
        }
      ]
    },
    {
      "cell_type": "markdown",
      "metadata": {
        "id": "sqv4N3afx6-B"
      },
      "source": [
        "# Time for Regression Lines"
      ]
    },
    {
      "cell_type": "code",
      "metadata": {
        "id": "lzoa-VhEx6-C",
        "outputId": "8a79658f-0ba5-4e66-e0b6-3b552269dbda",
        "colab": {
          "base_uri": "https://localhost:8080/"
        }
      },
      "source": [
        "stats.linregress(data[\"G\"],data[\"PTS\"])"
      ],
      "execution_count": 15,
      "outputs": [
        {
          "output_type": "execute_result",
          "data": {
            "text/plain": [
              "LinregressResult(slope=2.2372894572578783, intercept=8.914999455919627, rvalue=0.9589718106521405, pvalue=0.0, stderr=0.027138033947613067)"
            ]
          },
          "metadata": {
            "tags": []
          },
          "execution_count": 15
        }
      ]
    },
    {
      "cell_type": "code",
      "metadata": {
        "id": "_M81aJ-kx6-J"
      },
      "source": [
        "#Easy right?  Let's make it into something useable too\n",
        "m = stats.linregress(data[\"G\"],data[\"PTS\"])[0]\n",
        "b = stats.linregress(data[\"G\"],data[\"PTS\"])[1]\n",
        "def y(x):\n",
        "    return(m*x+b)\n",
        "    \n"
      ],
      "execution_count": 16,
      "outputs": []
    },
    {
      "cell_type": "code",
      "metadata": {
        "id": "x3RjRfA4x6-M",
        "outputId": "75781c7f-312d-4181-9eb3-3e6175b4fa65",
        "colab": {
          "base_uri": "https://localhost:8080/"
        }
      },
      "source": [
        "y(3)"
      ],
      "execution_count": 17,
      "outputs": [
        {
          "output_type": "execute_result",
          "data": {
            "text/plain": [
              "15.626867827693262"
            ]
          },
          "metadata": {
            "tags": []
          },
          "execution_count": 17
        }
      ]
    },
    {
      "cell_type": "code",
      "metadata": {
        "id": "dovKnewtx6-U",
        "outputId": "d7c97634-0ec2-4241-b44b-a8026b22bfdc",
        "colab": {
          "base_uri": "https://localhost:8080/",
          "height": 283
        }
      },
      "source": [
        "x = np.arange( 0,500,1)\n",
        "plt.scatter(data[\"G\"],data[\"PTS\"])\n",
        "plt.plot(x,y(x))"
      ],
      "execution_count": 19,
      "outputs": [
        {
          "output_type": "execute_result",
          "data": {
            "text/plain": [
              "[<matplotlib.lines.Line2D at 0x7ff9d83f6f28>]"
            ]
          },
          "metadata": {
            "tags": []
          },
          "execution_count": 19
        },
        {
          "output_type": "display_data",
          "data": {
            "image/png": "[encoded data removed]",
            "text/plain": [
              "<Figure size 432x288 with 1 Axes>"
            ]
          },
          "metadata": {
            "tags": [],
            "needs_background": "light"
          }
        }
      ]
    },
    {
      "cell_type": "code",
      "metadata": {
        "id": "nW5WgWAwx6-Z"
      },
      "source": [
        "#sum of the residuals\n",
        "s = 0\n",
        "for i in range (0,len(data[\"G\"])):\n",
        "    s = s+y(data[\"G\"][i])-data[\"PTS\"][i]"
      ],
      "execution_count": 20,
      "outputs": []
    },
    {
      "cell_type": "code",
      "metadata": {
        "id": "F7M3fjh1x6-e",
        "outputId": "fbd24445-18fd-4544-ed50-b5ab6bd46169",
        "colab": {
          "base_uri": "https://localhost:8080/"
        }
      },
      "source": [
        "#Should be zero\n",
        "s"
      ],
      "execution_count": 21,
      "outputs": [
        {
          "output_type": "execute_result",
          "data": {
            "text/plain": [
              "1.6200374375330284e-12"
            ]
          },
          "metadata": {
            "tags": []
          },
          "execution_count": 21
        }
      ]
    },
    {
      "cell_type": "code",
      "metadata": {
        "id": "nlqrD3ytx6-i"
      },
      "source": [
        "#Sum of Squares of Residuals\n",
        "ss = 0\n",
        "for i in range (0,len(data[\"G\"])):\n",
        "    ss = ss+(y(data[\"G\"][i])-data[\"PTS\"][i])**2"
      ],
      "execution_count": 22,
      "outputs": []
    },
    {
      "cell_type": "code",
      "metadata": {
        "id": "ZQV73ESFx6-n",
        "outputId": "96f775d9-c757-48c5-aea1-27e6592db4ca",
        "colab": {
          "base_uri": "https://localhost:8080/"
        }
      },
      "source": [
        "#This is the thing that is minimized\n",
        "ss"
      ],
      "execution_count": 23,
      "outputs": [
        {
          "output_type": "execute_result",
          "data": {
            "text/plain": [
              "516693.1634258639"
            ]
          },
          "metadata": {
            "tags": []
          },
          "execution_count": 23
        }
      ]
    },
    {
      "cell_type": "code",
      "metadata": {
        "id": "X9Ha2GhUx6-r"
      },
      "source": [
        ""
      ],
      "execution_count": null,
      "outputs": []
    }
  ]
}