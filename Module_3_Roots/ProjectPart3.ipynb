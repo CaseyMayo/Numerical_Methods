{
  "nbformat": 4,
  "nbformat_minor": 0,
  "metadata": {
    "colab": {
      "name": "Untitled0.ipynb",
      "provenance": [],
      "include_colab_link": true
    },
    "kernelspec": {
      "name": "python3",
      "display_name": "Python 3"
    }
  },
  "cells": [
    {
      "cell_type": "markdown",
      "metadata": {
        "id": "view-in-github",
        "colab_type": "text"
      },
      "source": [
        "<a href=\"https://colab.research.google.com/github/nurfnick/Numerical_Methods/blob/master/ProjectPart3.ipynb\" target=\"_parent\"><img src=\"https://colab.research.google.com/assets/colab-badge.svg\" alt=\"Open In Colab\"/></a>"
      ]
    },
    {
      "cell_type": "markdown",
      "metadata": {
        "id": "YCJaepmmfKrS"
      },
      "source": [
        "# Project Part 3\n",
        "\n"
      ]
    },
    {
      "cell_type": "markdown",
      "metadata": {
        "id": "2z6U1aB_fQDM"
      },
      "source": [
        "I will continue to use the error computing functions defined in project part 1 and 2 as well as the Lagrange Interpolation"
      ]
    },
    {
      "cell_type": "code",
      "metadata": {
        "id": "rU_BgC_kfH7g"
      },
      "source": [
        "import math\n",
        "\n",
        "pi = math.pi\n",
        "sqrt2 = math.sqrt(2)\n",
        "\n",
        "def absoluteError(estimate, actualValue):\n",
        "  return actualValue - estimate\n",
        "\n",
        "def relativeError(estimate, actualValue):\n",
        "  return absoluteError(estimate, actualValue)/actualValue\n",
        "\n",
        "def approximateError(previousEstimate, currentEstimate):\n",
        "  return currentEstimate - previousEstimate\n",
        "\n",
        "def relativeApproximateError(previousEstimate, currentEstimate):\n",
        "  return abs(approximateError(previousEstimate, currentEstimate)/currentEstimate)\n",
        "\n",
        "def generalTaylorCoefficient(degree):\n",
        "  return (-1)**(math.floor(degree/2))/(sqrt2*math.factorial(degree))\n",
        "\n",
        "def taylorPolynomialTerm(degree, input):\n",
        "  return generalTaylorCoefficient(degree)*(input-pi/4)**degree\n",
        "\n",
        "def taylorPolynomial(degree, input):\n",
        "  sum = 0\n",
        "  for i in range(0, degree+1):\n",
        "    sum = sum +  taylorPolynomialTerm(i, input)\n",
        "  return sum\n",
        "\n",
        "\n",
        "\n",
        "def lagrangeCoefficient(inputArray,outputArray,entry,variable):\n",
        "  lc = 1\n",
        "  for i in range(len(inputArray)):\n",
        "    if i == entry:\n",
        "      continue\n",
        "    else:\n",
        "      lc = lc*(variable - inputArray[i])/(inputArray[entry]-inputArray[i])\n",
        "  return lc\n",
        "\n",
        "def lagrangeInterpolator(inputArray, outputArray, variable):\n",
        "  li = 0\n",
        "  for i in range(len(inputArray)):\n",
        "    li = li + lagrangeCoefficient(inputArray,outputArray,i,variable)*outputArray[i]\n",
        "  return li\n",
        "\n",
        "inputValues = [pi/4,pi/4+.1,pi/4+.2,pi/2]\n",
        "outputValues = [math.sin(x) for x in inputValues]\n",
        "\n"
      ],
      "execution_count": 1,
      "outputs": []
    },
    {
      "cell_type": "markdown",
      "metadata": {
        "id": "_7RoPTU_hXG1"
      },
      "source": [
        "## Newton-Rapshon Method"
      ]
    },
    {
      "cell_type": "markdown",
      "metadata": {
        "id": "MMXFYCZ6hajg"
      },
      "source": [
        "The Newton-Rapshon requires the symbolic knowledge of the first derivative.  Here I will be looking at the $\\sin x$ function and we know it's derivative to be $\\cos x$.\n",
        "\n",
        "The process will be iterative with the first given and all next steps computed as\n",
        "$$\n",
        "x_{i+1}= x_i-\\frac{f(x_i)}{f'(x_i)}\n",
        "$$\n",
        "We are looking for an $x$ where $\\left|f(x)\\right|<\\epsilon$ but we need to watch out for the derivative being 0 and non-convergent sequences."
      ]
    },
    {
      "cell_type": "code",
      "metadata": {
        "id": "Du7TNJajhZwx"
      },
      "source": [
        "def newtonIterator(function, derivative, currentValue):\n",
        "  return currentValue - function(currentValue)/derivative(currentValue)\n",
        "\n",
        "def newton(function, derivative, initial, tolerrance, maxIterations):\n",
        "  x = initial\n",
        "  for counter in range(maxIterations):\n",
        "    if derivative(x) == 0:\n",
        "    #  print('Zero derivative, no solution')\n",
        "      return None\n",
        "    if abs(function(x))< tolerrance:\n",
        "      return [x,counter]\n",
        "    x = newtonIterator(function, derivative, x)\n",
        " # print('Max iterations exceeded')\n",
        "  return None"
      ],
      "execution_count": 2,
      "outputs": []
    },
    {
      "cell_type": "code",
      "metadata": {
        "id": "mXH8EPIS7gfN",
        "colab": {
          "base_uri": "https://localhost:8080/"
        },
        "outputId": "9e740ff9-0f80-4b25-83a9-99b3d06b7166"
      },
      "source": [
        "newton(math.sin,math.cos,pi/4,.00001,20)\n"
      ],
      "execution_count": 3,
      "outputs": [
        {
          "output_type": "execute_result",
          "data": {
            "text/plain": [
              "[-1.2602253593105295e-08, 3]"
            ]
          },
          "metadata": {},
          "execution_count": 3
        }
      ]
    },
    {
      "cell_type": "code",
      "metadata": {
        "id": "MNEpowDVgpCk"
      },
      "source": [
        "newton(math.sin,math.cos,pi/2,.00001,20)"
      ],
      "execution_count": null,
      "outputs": []
    },
    {
      "cell_type": "code",
      "metadata": {
        "id": "ZBMIkTWCgtO4"
      },
      "source": [
        "seedValues = [pi/4,pi/2,pi/4+.1,1,3,10,15,3*pi/2+.01,pi+.01]\n",
        "roots = []\n",
        "iterations = []\n",
        "for seed in seedValues:\n",
        "  if newton(math.sin,math.cos,seed,1e-10,20) != None:\n",
        "    roots.append(newton(math.sin,math.cos,seed,1e-10,20)[0])\n",
        "    iterations.append(newton(math.sin,math.cos,seed,1e-10,20)[1])\n",
        "  else:\n",
        "    roots.append('None Found')\n",
        "    iterations.append('>20')\n"
      ],
      "execution_count": 5,
      "outputs": []
    },
    {
      "cell_type": "markdown",
      "metadata": {
        "id": "jlydwG48N3Kj"
      },
      "source": [
        "In order to make a beautiful table I am going to use the package plotly.  It is useful for creating visualizations."
      ]
    },
    {
      "cell_type": "code",
      "metadata": {
        "id": "xGDKojnSkjmb",
        "colab": {
          "base_uri": "https://localhost:8080/",
          "height": 542
        },
        "outputId": "27f96903-559c-4f7b-d1e9-8d74c6be5e5f"
      },
      "source": [
        "import plotly.graph_objects as go\n",
        "from plotly.subplots import make_subplots\n",
        "\n",
        "fig = go.Figure(data=[go.Table(\n",
        "                header=dict(values=['Seeds', 'Roots', 'Iterations']),\n",
        "                 cells=dict(values = [seedValues,roots,iterations]))\n",
        "                     ])\n",
        "fig.show()"
      ],
      "execution_count": 6,
      "outputs": [
        {
          "output_type": "display_data",
          "data": {
            "text/html": [
              "<html>\n",
              "<head><meta charset=\"utf-8\" /></head>\n",
              "<body>\n",
              "    <div>\n",
              "            <script src=\"https://cdnjs.cloudflare.com/ajax/libs/mathjax/2.7.5/MathJax.js?config=TeX-AMS-MML_SVG\"></script><script type=\"text/javascript\">if (window.MathJax) {MathJax.Hub.Config({SVG: {font: \"STIX-Web\"}});}</script>\n",
              "                <script type=\"text/javascript\">window.PlotlyConfig = {MathJaxConfig: 'local'};</script>\n",
              "        <script src=\"https://cdn.plot.ly/plotly-latest.min.js\"></script>    \n",
              "            <div id=\"be96b911-8b1e-47c4-928e-9a5e55ca6a98\" class=\"plotly-graph-div\" style=\"height:525px; width:100%;\"></div>\n",
              "            <script type=\"text/javascript\">\n",
              "                \n",
              "                    window.PLOTLYENV=window.PLOTLYENV || {};\n",
              "                    \n",
              "                if (document.getElementById(\"be96b911-8b1e-47c4-928e-9a5e55ca6a98\")) {\n",
              "                    Plotly.newPlot(\n",
              "                        'be96b911-8b1e-47c4-928e-9a5e55ca6a98',\n",
              "                        [{\"cells\": {\"values\": [[0.7853981633974483, 1.5707963267948966, 0.8853981633974483, 1, 3, 10, 15, 4.7223889803846895, 3.151592653589793], [1.6543612251060553e-24, \"None Found\", 1.7724164421296235e-19, 2.923566201412306e-13, 3.141592653589793, 9.424777960768635, 15.707963267948966, 103.67255756846318, 3.141592653589793], [4, \">20\", 4, 4, 3, 3, 4, 6, 2]]}, \"header\": {\"values\": [\"Seeds\", \"Roots\", \"Iterations\"]}, \"type\": \"table\"}],\n",
              "                        {\"template\": {\"data\": {\"bar\": [{\"error_x\": {\"color\": \"#2a3f5f\"}, \"error_y\": {\"color\": \"#2a3f5f\"}, \"marker\": {\"line\": {\"color\": \"#E5ECF6\", \"width\": 0.5}}, \"type\": \"bar\"}], \"barpolar\": [{\"marker\": {\"line\": {\"color\": \"#E5ECF6\", \"width\": 0.5}}, \"type\": \"barpolar\"}], \"carpet\": [{\"aaxis\": {\"endlinecolor\": \"#2a3f5f\", \"gridcolor\": \"white\", \"linecolor\": \"white\", \"minorgridcolor\": \"white\", \"startlinecolor\": \"#2a3f5f\"}, \"baxis\": {\"endlinecolor\": \"#2a3f5f\", \"gridcolor\": \"white\", \"linecolor\": \"white\", \"minorgridcolor\": \"white\", \"startlinecolor\": \"#2a3f5f\"}, \"type\": \"carpet\"}], \"choropleth\": [{\"colorbar\": {\"outlinewidth\": 0, \"ticks\": \"\"}, \"type\": \"choropleth\"}], \"contour\": [{\"colorbar\": {\"outlinewidth\": 0, \"ticks\": \"\"}, \"colorscale\": [[0.0, \"#0d0887\"], [0.1111111111111111, \"#46039f\"], [0.2222222222222222, \"#7201a8\"], [0.3333333333333333, \"#9c179e\"], [0.4444444444444444, \"#bd3786\"], [0.5555555555555556, \"#d8576b\"], [0.6666666666666666, \"#ed7953\"], [0.7777777777777778, \"#fb9f3a\"], [0.8888888888888888, \"#fdca26\"], [1.0, \"#f0f921\"]], \"type\": \"contour\"}], \"contourcarpet\": [{\"colorbar\": {\"outlinewidth\": 0, \"ticks\": \"\"}, \"type\": \"contourcarpet\"}], \"heatmap\": [{\"colorbar\": {\"outlinewidth\": 0, \"ticks\": \"\"}, \"colorscale\": [[0.0, \"#0d0887\"], [0.1111111111111111, \"#46039f\"], [0.2222222222222222, \"#7201a8\"], [0.3333333333333333, \"#9c179e\"], [0.4444444444444444, \"#bd3786\"], [0.5555555555555556, \"#d8576b\"], [0.6666666666666666, \"#ed7953\"], [0.7777777777777778, \"#fb9f3a\"], [0.8888888888888888, \"#fdca26\"], [1.0, \"#f0f921\"]], \"type\": \"heatmap\"}], \"heatmapgl\": [{\"colorbar\": {\"outlinewidth\": 0, \"ticks\": \"\"}, \"colorscale\": [[0.0, \"#0d0887\"], [0.1111111111111111, \"#46039f\"], [0.2222222222222222, \"#7201a8\"], [0.3333333333333333, \"#9c179e\"], [0.4444444444444444, \"#bd3786\"], [0.5555555555555556, \"#d8576b\"], [0.6666666666666666, \"#ed7953\"], [0.7777777777777778, \"#fb9f3a\"], [0.8888888888888888, \"#fdca26\"], [1.0, \"#f0f921\"]], \"type\": \"heatmapgl\"}], \"histogram\": [{\"marker\": {\"colorbar\": {\"outlinewidth\": 0, \"ticks\": \"\"}}, \"type\": \"histogram\"}], \"histogram2d\": [{\"colorbar\": {\"outlinewidth\": 0, \"ticks\": \"\"}, \"colorscale\": [[0.0, \"#0d0887\"], [0.1111111111111111, \"#46039f\"], [0.2222222222222222, \"#7201a8\"], [0.3333333333333333, \"#9c179e\"], [0.4444444444444444, \"#bd3786\"], [0.5555555555555556, \"#d8576b\"], [0.6666666666666666, \"#ed7953\"], [0.7777777777777778, \"#fb9f3a\"], [0.8888888888888888, \"#fdca26\"], [1.0, \"#f0f921\"]], \"type\": \"histogram2d\"}], \"histogram2dcontour\": [{\"colorbar\": {\"outlinewidth\": 0, \"ticks\": \"\"}, \"colorscale\": [[0.0, \"#0d0887\"], [0.1111111111111111, \"#46039f\"], [0.2222222222222222, \"#7201a8\"], [0.3333333333333333, \"#9c179e\"], [0.4444444444444444, \"#bd3786\"], [0.5555555555555556, \"#d8576b\"], [0.6666666666666666, \"#ed7953\"], [0.7777777777777778, \"#fb9f3a\"], [0.8888888888888888, \"#fdca26\"], [1.0, \"#f0f921\"]], \"type\": \"histogram2dcontour\"}], \"mesh3d\": [{\"colorbar\": {\"outlinewidth\": 0, \"ticks\": \"\"}, \"type\": \"mesh3d\"}], \"parcoords\": [{\"line\": {\"colorbar\": {\"outlinewidth\": 0, \"ticks\": \"\"}}, \"type\": \"parcoords\"}], \"pie\": [{\"automargin\": true, \"type\": \"pie\"}], \"scatter\": [{\"marker\": {\"colorbar\": {\"outlinewidth\": 0, \"ticks\": \"\"}}, \"type\": \"scatter\"}], \"scatter3d\": [{\"line\": {\"colorbar\": {\"outlinewidth\": 0, \"ticks\": \"\"}}, \"marker\": {\"colorbar\": {\"outlinewidth\": 0, \"ticks\": \"\"}}, \"type\": \"scatter3d\"}], \"scattercarpet\": [{\"marker\": {\"colorbar\": {\"outlinewidth\": 0, \"ticks\": \"\"}}, \"type\": \"scattercarpet\"}], \"scattergeo\": [{\"marker\": {\"colorbar\": {\"outlinewidth\": 0, \"ticks\": \"\"}}, \"type\": \"scattergeo\"}], \"scattergl\": [{\"marker\": {\"colorbar\": {\"outlinewidth\": 0, \"ticks\": \"\"}}, \"type\": \"scattergl\"}], \"scattermapbox\": [{\"marker\": {\"colorbar\": {\"outlinewidth\": 0, \"ticks\": \"\"}}, \"type\": \"scattermapbox\"}], \"scatterpolar\": [{\"marker\": {\"colorbar\": {\"outlinewidth\": 0, \"ticks\": \"\"}}, \"type\": \"scatterpolar\"}], \"scatterpolargl\": [{\"marker\": {\"colorbar\": {\"outlinewidth\": 0, \"ticks\": \"\"}}, \"type\": \"scatterpolargl\"}], \"scatterternary\": [{\"marker\": {\"colorbar\": {\"outlinewidth\": 0, \"ticks\": \"\"}}, \"type\": \"scatterternary\"}], \"surface\": [{\"colorbar\": {\"outlinewidth\": 0, \"ticks\": \"\"}, \"colorscale\": [[0.0, \"#0d0887\"], [0.1111111111111111, \"#46039f\"], [0.2222222222222222, \"#7201a8\"], [0.3333333333333333, \"#9c179e\"], [0.4444444444444444, \"#bd3786\"], [0.5555555555555556, \"#d8576b\"], [0.6666666666666666, \"#ed7953\"], [0.7777777777777778, \"#fb9f3a\"], [0.8888888888888888, \"#fdca26\"], [1.0, \"#f0f921\"]], \"type\": \"surface\"}], \"table\": [{\"cells\": {\"fill\": {\"color\": \"#EBF0F8\"}, \"line\": {\"color\": \"white\"}}, \"header\": {\"fill\": {\"color\": \"#C8D4E3\"}, \"line\": {\"color\": \"white\"}}, \"type\": \"table\"}]}, \"layout\": {\"annotationdefaults\": {\"arrowcolor\": \"#2a3f5f\", \"arrowhead\": 0, \"arrowwidth\": 1}, \"coloraxis\": {\"colorbar\": {\"outlinewidth\": 0, \"ticks\": \"\"}}, \"colorscale\": {\"diverging\": [[0, \"#8e0152\"], [0.1, \"#c51b7d\"], [0.2, \"#de77ae\"], [0.3, \"#f1b6da\"], [0.4, \"#fde0ef\"], [0.5, \"#f7f7f7\"], [0.6, \"#e6f5d0\"], [0.7, \"#b8e186\"], [0.8, \"#7fbc41\"], [0.9, \"#4d9221\"], [1, \"#276419\"]], \"sequential\": [[0.0, \"#0d0887\"], [0.1111111111111111, \"#46039f\"], [0.2222222222222222, \"#7201a8\"], [0.3333333333333333, \"#9c179e\"], [0.4444444444444444, \"#bd3786\"], [0.5555555555555556, \"#d8576b\"], [0.6666666666666666, \"#ed7953\"], [0.7777777777777778, \"#fb9f3a\"], [0.8888888888888888, \"#fdca26\"], [1.0, \"#f0f921\"]], \"sequentialminus\": [[0.0, \"#0d0887\"], [0.1111111111111111, \"#46039f\"], [0.2222222222222222, \"#7201a8\"], [0.3333333333333333, \"#9c179e\"], [0.4444444444444444, \"#bd3786\"], [0.5555555555555556, \"#d8576b\"], [0.6666666666666666, \"#ed7953\"], [0.7777777777777778, \"#fb9f3a\"], [0.8888888888888888, \"#fdca26\"], [1.0, \"#f0f921\"]]}, \"colorway\": [\"#636efa\", \"#EF553B\", \"#00cc96\", \"#ab63fa\", \"#FFA15A\", \"#19d3f3\", \"#FF6692\", \"#B6E880\", \"#FF97FF\", \"#FECB52\"], \"font\": {\"color\": \"#2a3f5f\"}, \"geo\": {\"bgcolor\": \"white\", \"lakecolor\": \"white\", \"landcolor\": \"#E5ECF6\", \"showlakes\": true, \"showland\": true, \"subunitcolor\": \"white\"}, \"hoverlabel\": {\"align\": \"left\"}, \"hovermode\": \"closest\", \"mapbox\": {\"style\": \"light\"}, \"paper_bgcolor\": \"white\", \"plot_bgcolor\": \"#E5ECF6\", \"polar\": {\"angularaxis\": {\"gridcolor\": \"white\", \"linecolor\": \"white\", \"ticks\": \"\"}, \"bgcolor\": \"#E5ECF6\", \"radialaxis\": {\"gridcolor\": \"white\", \"linecolor\": \"white\", \"ticks\": \"\"}}, \"scene\": {\"xaxis\": {\"backgroundcolor\": \"#E5ECF6\", \"gridcolor\": \"white\", \"gridwidth\": 2, \"linecolor\": \"white\", \"showbackground\": true, \"ticks\": \"\", \"zerolinecolor\": \"white\"}, \"yaxis\": {\"backgroundcolor\": \"#E5ECF6\", \"gridcolor\": \"white\", \"gridwidth\": 2, \"linecolor\": \"white\", \"showbackground\": true, \"ticks\": \"\", \"zerolinecolor\": \"white\"}, \"zaxis\": {\"backgroundcolor\": \"#E5ECF6\", \"gridcolor\": \"white\", \"gridwidth\": 2, \"linecolor\": \"white\", \"showbackground\": true, \"ticks\": \"\", \"zerolinecolor\": \"white\"}}, \"shapedefaults\": {\"line\": {\"color\": \"#2a3f5f\"}}, \"ternary\": {\"aaxis\": {\"gridcolor\": \"white\", \"linecolor\": \"white\", \"ticks\": \"\"}, \"baxis\": {\"gridcolor\": \"white\", \"linecolor\": \"white\", \"ticks\": \"\"}, \"bgcolor\": \"#E5ECF6\", \"caxis\": {\"gridcolor\": \"white\", \"linecolor\": \"white\", \"ticks\": \"\"}}, \"title\": {\"x\": 0.05}, \"xaxis\": {\"automargin\": true, \"gridcolor\": \"white\", \"linecolor\": \"white\", \"ticks\": \"\", \"title\": {\"standoff\": 15}, \"zerolinecolor\": \"white\", \"zerolinewidth\": 2}, \"yaxis\": {\"automargin\": true, \"gridcolor\": \"white\", \"linecolor\": \"white\", \"ticks\": \"\", \"title\": {\"standoff\": 15}, \"zerolinecolor\": \"white\", \"zerolinewidth\": 2}}}},\n",
              "                        {\"responsive\": true}\n",
              "                    ).then(function(){\n",
              "                            \n",
              "var gd = document.getElementById('be96b911-8b1e-47c4-928e-9a5e55ca6a98');\n",
              "var x = new MutationObserver(function (mutations, observer) {{\n",
              "        var display = window.getComputedStyle(gd).display;\n",
              "        if (!display || display === 'none') {{\n",
              "            console.log([gd, 'removed!']);\n",
              "            Plotly.purge(gd);\n",
              "            observer.disconnect();\n",
              "        }}\n",
              "}});\n",
              "\n",
              "// Listen for the removal of the full notebook cells\n",
              "var notebookContainer = gd.closest('#notebook-container');\n",
              "if (notebookContainer) {{\n",
              "    x.observe(notebookContainer, {childList: true});\n",
              "}}\n",
              "\n",
              "// Listen for the clearing of the current output cell\n",
              "var outputEl = gd.closest('.output');\n",
              "if (outputEl) {{\n",
              "    x.observe(outputEl, {childList: true});\n",
              "}}\n",
              "\n",
              "                        })\n",
              "                };\n",
              "                \n",
              "            </script>\n",
              "        </div>\n",
              "</body>\n",
              "</html>"
            ]
          },
          "metadata": {}
        }
      ]
    },
    {
      "cell_type": "markdown",
      "metadata": {
        "id": "Xq_MCJ8crfly"
      },
      "source": [
        "We see that at $\\frac\\pi2$ it does not converge.  Also interestingly $\\frac{3\\pi}2+0.1$ almost does not converge, but finds a root out at $33\\pi$.  My impression is that that was luck."
      ]
    },
    {
      "cell_type": "code",
      "metadata": {
        "id": "zfC0GLmvsINz",
        "colab": {
          "base_uri": "https://localhost:8080/",
          "height": 35
        },
        "outputId": "17b47fed-e957-458d-f443-83bcb81fc1c4"
      },
      "source": [
        "roots[-2]/pi"
      ],
      "execution_count": null,
      "outputs": [
        {
          "output_type": "execute_result",
          "data": {
            "text/plain": [
              "33.0"
            ]
          },
          "metadata": {
            "tags": []
          },
          "execution_count": 7
        }
      ]
    },
    {
      "cell_type": "markdown",
      "metadata": {
        "id": "b20g5lDB7Own"
      },
      "source": [
        "# Bisection Method\n",
        "\n",
        "You are allowed to choose one of the methods here for the project.  Bisection is the easiest but requires two carefully chosen values, one returning a postive value and one returning a negative value.  Let's see if we can code it."
      ]
    },
    {
      "cell_type": "code",
      "metadata": {
        "id": "E_RYAPaQ8hsG"
      },
      "source": [
        "def newValueBisection(xLarger, xSmaller):\n",
        "  x = (xLarger+xSmaller)/2\n",
        "  return x\n",
        "\n",
        "def positive(function,xLarger,xSmaller):\n",
        "  xNew = newValueBisection(xLarger,xSmaller)\n",
        "  if function(xLarger)*function(xNew)< 0:\n",
        "    return [xLarger, xNew]\n",
        "  if function(xLarger)*function(xNew)>0:\n",
        "    return [xNew,xSmaller]\n",
        "  if function(xLarger)*function(xNew)==0:\n",
        "    return [xNew,xNew]\n",
        "\n",
        "def bisection(function, initialLarger, initialSmaller, maxIterations):\n",
        "  x = [initialLarger,initialSmaller]\n",
        "  for i in range(maxIterations):\n",
        "    if x[0] == x[1]:\n",
        "      return x[0]\n",
        "    else:\n",
        "      x = positive(function,x[0],x[1])\n",
        "  return x"
      ],
      "execution_count": null,
      "outputs": []
    },
    {
      "cell_type": "markdown",
      "metadata": {
        "id": "W_7R4Ukw-zT0"
      },
      "source": [
        "Let's test it with $\\sin x$ using a value that gives a negative and a positive."
      ]
    },
    {
      "cell_type": "code",
      "metadata": {
        "id": "u4nsMcpg90lQ",
        "colab": {
          "base_uri": "https://localhost:8080/"
        },
        "outputId": "c868eb26-f8dd-4b49-81af-6b14edc09c63"
      },
      "source": [
        "bisection(math.sin, 3*pi/2,pi/2+.1,300)"
      ],
      "execution_count": null,
      "outputs": [
        {
          "output_type": "execute_result",
          "data": {
            "text/plain": [
              "[3.1415926535897936, 3.141592653589793]"
            ]
          },
          "metadata": {
            "tags": []
          },
          "execution_count": 7
        }
      ]
    },
    {
      "cell_type": "markdown",
      "metadata": {
        "id": "boqHS7V2-82q"
      },
      "source": [
        "What would happen if I gave it two values that were positive to start?"
      ]
    },
    {
      "cell_type": "code",
      "metadata": {
        "id": "DxL1mbKZ_CMb",
        "colab": {
          "base_uri": "https://localhost:8080/"
        },
        "outputId": "227fc56f-68d6-4d96-debb-4818910fb1e9"
      },
      "source": [
        "bisection(math.sin, pi/2,pi/4,20)"
      ],
      "execution_count": null,
      "outputs": [
        {
          "output_type": "execute_result",
          "data": {
            "text/plain": [
              "[0.7853989124115048, 0.7853981633974483]"
            ]
          },
          "metadata": {
            "tags": []
          },
          "execution_count": 9
        }
      ]
    },
    {
      "cell_type": "markdown",
      "metadata": {
        "id": "5_3-d-WR_SpT"
      },
      "source": [
        "That looks very much like the output above!  Let's see what it is giving me though!"
      ]
    },
    {
      "cell_type": "code",
      "metadata": {
        "id": "dWAelpXM_bAT",
        "colab": {
          "base_uri": "https://localhost:8080/"
        },
        "outputId": "253b95ff-d7bd-486e-ca13-2b50f46ec85b"
      },
      "source": [
        "x = bisection(math.sin, pi/2,pi/4,20)\n",
        "print(math.sin(pi/4))\n",
        "math.sin(x[0])"
      ],
      "execution_count": null,
      "outputs": [
        {
          "output_type": "stream",
          "text": [
            "0.7071067811865475\n"
          ],
          "name": "stdout"
        },
        {
          "output_type": "execute_result",
          "data": {
            "text/plain": [
              "0.7071073108192677"
            ]
          },
          "metadata": {
            "tags": []
          },
          "execution_count": 12
        }
      ]
    },
    {
      "cell_type": "markdown",
      "metadata": {
        "id": "3AY1_jqU_qS2"
      },
      "source": [
        "My assumption is that this is a huge issue here.  Let's revise my method to check that you give it good values before you start!"
      ]
    },
    {
      "cell_type": "code",
      "metadata": {
        "id": "vshPeYH5_3zT",
        "colab": {
          "base_uri": "https://localhost:8080/",
          "height": 36
        },
        "outputId": "4674387d-ee12-49d9-ae32-66cb003dabf1"
      },
      "source": [
        "def bisection2(function, initialLarger, initialSmaller, maxIterations):\n",
        "  x = [initialLarger,initialSmaller]\n",
        "  if function(initialLarger)*function(initialSmaller)>0:\n",
        "    return 'Error!  Pick values that give opposite signs in the function'\n",
        "  for i in range(maxIterations):\n",
        "    if x[0] == x[1]:\n",
        "      return x[0]\n",
        "    else:\n",
        "      x = positive(function,x[0],x[1])\n",
        "  return x\n",
        "\n",
        "bisection2(math.sin, pi/2,pi/4,20)  "
      ],
      "execution_count": null,
      "outputs": [
        {
          "output_type": "execute_result",
          "data": {
            "application/vnd.google.colaboratory.intrinsic+json": {
              "type": "string"
            },
            "text/plain": [
              "'Error!  Pick values that give opposite signs in the function'"
            ]
          },
          "metadata": {
            "tags": []
          },
          "execution_count": 13
        }
      ]
    },
    {
      "cell_type": "code",
      "metadata": {
        "id": "T6eoxM9aAVLF",
        "colab": {
          "base_uri": "https://localhost:8080/"
        },
        "outputId": "a64171de-3644-4f06-d79a-31ea9c741822"
      },
      "source": [
        "bisection2(math.sin, 3*pi/2,pi/2+.1,300)"
      ],
      "execution_count": null,
      "outputs": [
        {
          "output_type": "execute_result",
          "data": {
            "text/plain": [
              "[3.1415926535897936, 3.141592653589793]"
            ]
          },
          "metadata": {
            "tags": []
          },
          "execution_count": 15
        }
      ]
    },
    {
      "cell_type": "markdown",
      "metadata": {
        "id": "pmwmhHcUAbdE"
      },
      "source": [
        "There you go!  Works nicely and hopefully the error message could be interpreted by someone who gets it!"
      ]
    },
    {
      "cell_type": "markdown",
      "metadata": {
        "id": "OtRVz-0fA7-N"
      },
      "source": [
        "## Secant Method\n",
        "\n",
        "This method requires two initial guesses but acts more like Newton Method than the Bisection method in that I do not need to be on both sides of the root.  We'll create the new value as\n",
        "\n",
        "$$\n",
        "x_{n+1}=x_i-\\frac{f(x_i)\\left(x_i-x_{i-1}\\right)}{f(x_i)-f(x_{i-1})}\n",
        "$$\n",
        "\n",
        "Rather than just return a pair of values as before, I think I'll create a list of all the values that the method is giving.  This is an approach I could have done in the Newton Method too!"
      ]
    },
    {
      "cell_type": "code",
      "metadata": {
        "id": "cDkQra-kCkxy"
      },
      "source": [
        "def secant(function, olderValue, oldValue):\n",
        "  x = oldValue - function(oldValue)*(oldValue - olderValue)/(function(oldValue)-function(olderValue))\n",
        "  return x\n",
        "\n",
        "def secantMethod(function, firstValue, secondValue, iterations):\n",
        "  x = [firstValue, secondValue]\n",
        "  for i in range(iterations):\n",
        "    x.append(secant(function,x[-2],x[-1]))\n",
        "  return x"
      ],
      "execution_count": null,
      "outputs": []
    },
    {
      "cell_type": "code",
      "metadata": {
        "id": "k5zkiyVyDtaV",
        "colab": {
          "base_uri": "https://localhost:8080/"
        },
        "outputId": "301cfdd4-b8ef-4c65-ced1-e1955843728b"
      },
      "source": [
        "secantMethod(math.sin,pi/4,pi/2,5)"
      ],
      "execution_count": null,
      "outputs": [
        {
          "output_type": "execute_result",
          "data": {
            "text/plain": [
              "[0.7853981633974483,\n",
              " 1.5707963267948966,\n",
              " -1.110720734539591,\n",
              " 0.1565082041798571,\n",
              " -0.03127114958232252,\n",
              " 0.0001023763531265709,\n",
              " -1.6632643497289565e-08]"
            ]
          },
          "metadata": {
            "tags": []
          },
          "execution_count": 25
        }
      ]
    },
    {
      "cell_type": "code",
      "metadata": {
        "id": "Yujd6h56EkXO",
        "colab": {
          "base_uri": "https://localhost:8080/"
        },
        "outputId": "f6df2a5c-84c1-4a51-bf97-1bfa5873202c"
      },
      "source": [
        "secantMethod(math.sin,pi/4,pi/2,8)#One more iteration will break the secant function"
      ],
      "execution_count": null,
      "outputs": [
        {
          "output_type": "execute_result",
          "data": {
            "text/plain": [
              "[0.7853981633974483,\n",
              " 1.5707963267948966,\n",
              " -1.110720734539591,\n",
              " 0.1565082041798571,\n",
              " -0.03127114958232252,\n",
              " 0.0001023763531265709,\n",
              " -1.6632643497289565e-08,\n",
              " 2.904950777806601e-17,\n",
              " 0.0,\n",
              " 0.0]"
            ]
          },
          "metadata": {
            "tags": []
          },
          "execution_count": 29
        }
      ]
    },
    {
      "cell_type": "markdown",
      "metadata": {
        "id": "maXjCtZKEHMM"
      },
      "source": [
        "This code is sloppy!  You do not terminate when you start to get close to a root so you have to tweek the **iterations** number to not get too close...  At least I have another method with an alternative output."
      ]
    },
    {
      "cell_type": "markdown",
      "metadata": {
        "id": "9PytPFhTvCEO"
      },
      "source": [
        "##False Position and Lagrange Interpolation"
      ]
    },
    {
      "cell_type": "markdown",
      "metadata": {
        "id": "Ep0hfP0XT0ot"
      },
      "source": [
        "I will do the false position algorithm, I'll spare most of the details of the algorithm but the new value to pick should be of the form\n",
        "$$\n",
        "x_n = \\frac{x_U f(x_L)-x_L f(x_U)}{x_L-x_U}\n",
        "$$"
      ]
    },
    {
      "cell_type": "code",
      "metadata": {
        "id": "mbHO_9uuBj1v"
      },
      "source": [
        "def newValue(function, xLarger, xSmaller):\n",
        "  x = (xLarger*function(xSmaller)-xSmaller*function(xLarger))/(function(xSmaller)-function(xLarger))\n",
        "  return x\n",
        "\n",
        "def positive(function,xLarger,xSmaller):\n",
        "  xNew = newValue(function,xLarger,xSmaller)\n",
        "  if function(xLarger)*function(xNew)< 0:\n",
        "    return [xLarger, xNew]\n",
        "  if function(xLarger)*function(xNew)>0:\n",
        "    return [xNew,xSmaller]\n",
        "  if function(xLarger)*function(xNew)==0:\n",
        "    return [xNew,xNew]\n",
        "\n",
        "def falsePosition(function, initialLarger, initialSmaller, maxIterations):\n",
        "  x = [initialLarger,initialSmaller]\n",
        "  for i in range(maxIterations):\n",
        "    if x[0] == x[1]:\n",
        "      return x[0]\n",
        "    else:\n",
        "      x = positive(function,x[0],x[1])\n",
        "  return x\n",
        "\n"
      ],
      "execution_count": null,
      "outputs": []
    },
    {
      "cell_type": "code",
      "metadata": {
        "id": "INghb45rTjna",
        "colab": {
          "base_uri": "https://localhost:8080/",
          "height": 35
        },
        "outputId": "ad6821fe-e68e-4242-dd3f-40d1da7f45e1"
      },
      "source": [
        "falsePosition(math.sin,2*pi/3,-pi,2000)"
      ],
      "execution_count": null,
      "outputs": [
        {
          "output_type": "execute_result",
          "data": {
            "text/plain": [
              "-0.0"
            ]
          },
          "metadata": {
            "tags": []
          },
          "execution_count": 9
        }
      ]
    },
    {
      "cell_type": "markdown",
      "metadata": {
        "id": "NVN_drSbVZpm"
      },
      "source": [
        "I am going to look for the interpolation's roots but I need to know a region where they might be so I graph and get an idea."
      ]
    },
    {
      "cell_type": "code",
      "metadata": {
        "id": "B5bKbW1lVA0d",
        "colab": {
          "base_uri": "https://localhost:8080/",
          "height": 281
        },
        "outputId": "14983fa5-72d1-4387-c59a-ad95cc8b17d0"
      },
      "source": [
        "import matplotlib.pyplot as plt\n",
        "import numpy as np\n",
        "\n",
        "x = np.arange( -5,3,.001)\n",
        "plt.scatter(inputValues,outputValues)\n",
        "plt.plot(x,lagrangeInterpolator(inputValues,outputValues,x))\n",
        "#plt.plot(x, np.sin(x))\n",
        "plt.title('Graph of Lagrange Interpolator')\n",
        "plt.legend(['Lagrange Interpolator'])\n",
        "\n",
        "plt.show()\n"
      ],
      "execution_count": null,
      "outputs": [
        {
          "output_type": "display_data",
          "data": {
            "image/png": "[encoded data removed]",
            "text/plain": [
              "<Figure size 432x288 with 1 Axes>"
            ]
          },
          "metadata": {
            "tags": [],
            "needs_background": "light"
          }
        }
      ]
    },
    {
      "cell_type": "markdown",
      "metadata": {
        "id": "FGOzCJ77UagZ"
      },
      "source": [
        "In order to apply this to the Lagrange I need to convert the lagrangeInterpolator into an anoynomous function (one that does not need it's arguement to be passed) After much hand wringing, I got it to work with the following simple code and find the first root near 0."
      ]
    },
    {
      "cell_type": "code",
      "metadata": {
        "id": "0ISUuDulw4o0",
        "colab": {
          "base_uri": "https://localhost:8080/",
          "height": 35
        },
        "outputId": "773ae3c4-13e0-4a14-ac21-aec546b88e2e"
      },
      "source": [
        "\n",
        "lint = lambda x: lagrangeInterpolator(inputValues,outputValues,x)\n",
        "falsePosition(lint,pi/2,-pi/3,20000)"
      ],
      "execution_count": null,
      "outputs": [
        {
          "output_type": "execute_result",
          "data": {
            "text/plain": [
              "[0.029307164708068996, 0.02930716470806899]"
            ]
          },
          "metadata": {
            "tags": []
          },
          "execution_count": 11
        }
      ]
    },
    {
      "cell_type": "code",
      "metadata": {
        "id": "2JSqzWJEU9cp",
        "colab": {
          "base_uri": "https://localhost:8080/",
          "height": 35
        },
        "outputId": "b9fc8a07-a231-42e5-ee16-144e9d255296"
      },
      "source": [
        "falsePosition(lint,-3,-5,20000)"
      ],
      "execution_count": null,
      "outputs": [
        {
          "output_type": "execute_result",
          "data": {
            "text/plain": [
              "[-4.932753991709679, -4.93275399170968]"
            ]
          },
          "metadata": {
            "tags": []
          },
          "execution_count": 12
        }
      ]
    },
    {
      "cell_type": "code",
      "metadata": {
        "id": "HuTtoSDFV1kl",
        "colab": {
          "base_uri": "https://localhost:8080/",
          "height": 35
        },
        "outputId": "ccbb1553-e697-4e0b-ba05-c590c40379ab"
      },
      "source": [
        "falsePosition(lint,3,1,20000)"
      ],
      "execution_count": null,
      "outputs": [
        {
          "output_type": "execute_result",
          "data": {
            "text/plain": [
              "[2.798688286258208, 2.798688286258207]"
            ]
          },
          "metadata": {
            "tags": []
          },
          "execution_count": 13
        }
      ]
    },
    {
      "cell_type": "markdown",
      "metadata": {
        "id": "MdT4idaNxXkP"
      },
      "source": [
        "None of these provided the precise value but you can see that I have filled the floating point so this is as acurate as I am going to get without using doubles."
      ]
    }
  ]
}