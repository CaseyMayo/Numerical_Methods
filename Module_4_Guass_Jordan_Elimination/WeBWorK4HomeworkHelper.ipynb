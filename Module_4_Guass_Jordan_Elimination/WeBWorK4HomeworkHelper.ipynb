{
  "nbformat": 4,
  "nbformat_minor": 0,
  "metadata": {
    "colab": {
      "name": "Untitled9.ipynb",
      "provenance": [],
      "authorship_tag": "ABX9TyNuaC0paiY4L7h+rjck35kF",
      "include_colab_link": true
    },
    "kernelspec": {
      "name": "python3",
      "display_name": "Python 3"
    }
  },
  "cells": [
    {
      "cell_type": "markdown",
      "metadata": {
        "id": "view-in-github",
        "colab_type": "text"
      },
      "source": [
        "<a href=\"https://colab.research.google.com/github/nurfnick/Numerical_Methods/blob/master/WeBWorK4HomeworkHelper.ipynb\" target=\"_parent\"><img src=\"https://colab.research.google.com/assets/colab-badge.svg\" alt=\"Open In Colab\"/></a>"
      ]
    },
    {
      "cell_type": "markdown",
      "metadata": {
        "id": "8s8Aw15BlGA3"
      },
      "source": [
        "# WeBWorK Homework Helper 4\r\n",
        "\r\n",
        "These questions are about systems of equations and applying the Gauss-Jordan Elimination method.  Many of the questions are just about creating matricies, the system of equations, or the augmented matricies."
      ]
    },
    {
      "cell_type": "markdown",
      "metadata": {
        "id": "S0qlMTZyl0Kt"
      },
      "source": [
        "## WeBWorK 15\r\n",
        "\r\n",
        "Solve the system using matrices (row operations)\r\n",
        "$$\r\n",
        "−2x−4y−3z=0\\\\\r\n",
        "−x+4y−2z=-12\\\\\r\n",
        "x−y−6z=6\r\n",
        "$$\r\n",
        "How many solutions are there to this system?"
      ]
    },
    {
      "cell_type": "markdown",
      "metadata": {
        "id": "oh-uAHShmjfm"
      },
      "source": [
        "Let's create the matrix\r\n",
        "$$\r\n",
        "\\left[\r\n",
        "\\begin{array}{ccc|c}\r\n",
        "-2&-4&-3&0\\\\\r\n",
        "-1&4&-2&-12\\\\\r\n",
        "1&-1&-6&6\r\n",
        "\\end{array}\\right]\r\n",
        "$$\r\n",
        "\r\n",
        "I am going to use the numpy and scipy package to do these."
      ]
    },
    {
      "cell_type": "code",
      "metadata": {
        "id": "s8V36c81lFTJ"
      },
      "source": [
        "import numpy as np\r\n",
        "import scipy.linalg as la\r\n",
        "\r\n",
        "A = np.array([[-2,-4,-3,0],[-1,4,-2,-12],[1,-1,-6,6]])"
      ],
      "execution_count": 5,
      "outputs": []
    },
    {
      "cell_type": "code",
      "metadata": {
        "colab": {
          "base_uri": "https://localhost:8080/"
        },
        "id": "odiYZhnHn3wv",
        "outputId": "ef2a480b-7b26-4859-aa02-de2e26fb2461"
      },
      "source": [
        "la.solve(A[:,:-1],A[:,-1])"
      ],
      "execution_count": 6,
      "outputs": [
        {
          "output_type": "execute_result",
          "data": {
            "text/plain": [
              "array([ 4., -2., -0.])"
            ]
          },
          "metadata": {
            "tags": []
          },
          "execution_count": 6
        }
      ]
    },
    {
      "cell_type": "markdown",
      "metadata": {
        "id": "x4ZGRzpPoY4N"
      },
      "source": [
        "I used some fancy calling of the numpy arrays.  I have some experience with them so that is part of it.  *A[1:3,:]* would give the 2nd (python indexes from 0) and 3rd (4th, indexed as 3, is not included) row of *A* and include all columns.  If you want the last column you can do -1 as the entry.    "
      ]
    },
    {
      "cell_type": "markdown",
      "metadata": {
        "id": "h0ODNA-8pptu"
      },
      "source": [
        "## WeBWorK 18\r\n",
        "\r\n",
        "Solve the equation\r\n",
        "$$2x+2y−9z=0$$"
      ]
    },
    {
      "cell_type": "markdown",
      "metadata": {
        "id": "_CMoG9gXpwW2"
      },
      "source": [
        "If you look at this one for too long, you might think what the heck, how would I ever solve it!  There are infinately many solutions (technically an entire plane in 3 space)  But what they want is a dependant way to solve it.  Here is what I suggest:\r\n",
        "\r\n",
        "Fix the last two variables to new variables.  \r\n",
        "$$\r\n",
        "y = t\\\\\r\n",
        "z = s\\\\\r\n",
        "$$\r\n",
        "Then \r\n",
        "$$\r\n",
        "x = \\frac{-2y+9z}{2} =\\frac{-2t+9s}2=-t+\\frac92 s\r\n",
        "$$ \r\n",
        "\r\n",
        "Then we can write this solution as a couple of vectors:\r\n",
        "$$\r\n",
        "\\left[\r\n",
        "\\begin{array}{c}\r\n",
        "x\\\\y\\\\z\r\n",
        "\\end{array}\r\n",
        "  \\right]\r\n",
        "  =\r\n",
        "t  \\left[\r\n",
        "\\begin{array}{c}\r\n",
        "-1\\\\1\\\\0\r\n",
        "\\end{array}\r\n",
        "    \\right]\r\n",
        "    +\r\n",
        "    s\r\n",
        "    \\left[\r\n",
        "\\begin{array}{c}\r\n",
        "\\frac92\\\\0\\\\1\r\n",
        "\\end{array}\r\n",
        "      \\right]\r\n",
        "$$\r\n",
        "\r\n",
        "the order of the $t$ and $s$ don't matter.  If you took calc 3, these two vectors both sit on the plane described in the original and there cross product forms the normal vector of the palne."
      ]
    },
    {
      "cell_type": "code",
      "metadata": {
        "id": "8clh2DADoB8l"
      },
      "source": [
        ""
      ],
      "execution_count": null,
      "outputs": []
    }
  ]
}