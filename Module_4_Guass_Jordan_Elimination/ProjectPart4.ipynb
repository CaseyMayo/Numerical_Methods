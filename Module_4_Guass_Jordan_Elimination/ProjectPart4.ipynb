{
  "nbformat": 4,
  "nbformat_minor": 0,
  "metadata": {
    "colab": {
      "name": "Untitled0.ipynb",
      "provenance": [],
      "include_colab_link": true
    },
    "kernelspec": {
      "name": "python3",
      "display_name": "Python 3"
    }
  },
  "cells": [
    {
      "cell_type": "markdown",
      "metadata": {
        "id": "view-in-github",
        "colab_type": "text"
      },
      "source": [
        "<a href=\"https://colab.research.google.com/github/nurfnick/Numerical_Methods/blob/master/ProjectPart4.ipynb\" target=\"_parent\"><img src=\"https://colab.research.google.com/assets/colab-badge.svg\" alt=\"Open In Colab\"/></a>"
      ]
    },
    {
      "cell_type": "markdown",
      "metadata": {
        "id": "YCJaepmmfKrS"
      },
      "source": [
        "# Project Part 4\n",
        "\n"
      ]
    },
    {
      "cell_type": "markdown",
      "metadata": {
        "id": "2z6U1aB_fQDM"
      },
      "source": [
        "I don't need lots of the pieces from earlier assignments so I will not include them here."
      ]
    },
    {
      "cell_type": "code",
      "metadata": {
        "id": "rU_BgC_kfH7g"
      },
      "source": [
        "import math\n",
        "import numpy as np"
      ],
      "execution_count": null,
      "outputs": []
    },
    {
      "cell_type": "markdown",
      "metadata": {
        "id": "_7RoPTU_hXG1"
      },
      "source": [
        "## Gauss-Jordan Method"
      ]
    },
    {
      "cell_type": "markdown",
      "metadata": {
        "id": "MMXFYCZ6hajg"
      },
      "source": [
        "The Gauss-Jordan elimination method is all about solving linear systems of equations.  Something of the form\n",
        "$$\n",
        "\\left\\{\n",
        "\\begin{align}\n",
        "a_{1,1} x_1 +&\\dots a_{1,n} x_n = y_1\\\\\n",
        "&\\vdots\\\\\n",
        "a_{n,1}x_1+&\\dots a_{n,n} x_n = y_n\n",
        "\\end{align}\n",
        "\\right.\n",
        "$$\n",
        "\n",
        "First thing we need to figure out is how to create an augmented matrix from this!\n",
        "\n",
        "$$\n",
        "\\left[\n",
        "\\begin{array}{ccc|c}\n",
        "a_{1,1} & \\dots & a_{1,n} & y_1\\\\\n",
        "\\vdots&\\ddots&\\vdots&\\vdots\\\\\n",
        "a_{n,1} &\\dots& a_{n,n}&y_n\n",
        "\\end{array}\n",
        "\\right]\n",
        "$$\n",
        "And how to deal with this matrix!"
      ]
    },
    {
      "cell_type": "code",
      "metadata": {
        "id": "Du7TNJajhZwx",
        "colab": {
          "base_uri": "https://localhost:8080/"
        },
        "outputId": "9091f162-15e4-4aff-a070-67abe60bcfa1"
      },
      "source": [
        "A = np.array([[1,2,3],[2,3,4]])\n",
        "\n",
        "A"
      ],
      "execution_count": null,
      "outputs": [
        {
          "output_type": "execute_result",
          "data": {
            "text/plain": [
              "array([[1, 2, 3],\n",
              "       [2, 3, 4]])"
            ]
          },
          "metadata": {
            "tags": []
          },
          "execution_count": 37
        }
      ]
    },
    {
      "cell_type": "code",
      "metadata": {
        "id": "mXH8EPIS7gfN"
      },
      "source": [
        "def addRows(matrix,targetRow, modifierRow, value):\n",
        "  newRow = matrix[targetRow,:]+value*matrix[modifierRow,:]\n",
        "  newMatrix = []\n",
        "  for i in range(len(matrix)):\n",
        "    if i != targetRow:\n",
        "      newMatrix.append(matrix[i,:])\n",
        "    else:\n",
        "      newMatrix.append(newRow)\n",
        "  return np.array(newMatrix)\n",
        "\n"
      ],
      "execution_count": null,
      "outputs": []
    },
    {
      "cell_type": "code",
      "metadata": {
        "id": "MNEpowDVgpCk",
        "colab": {
          "base_uri": "https://localhost:8080/"
        },
        "outputId": "5623f447-184d-4e60-d041-7f8d3ecd98c3"
      },
      "source": [
        "addRows(A,0,1,10)"
      ],
      "execution_count": null,
      "outputs": [
        {
          "output_type": "execute_result",
          "data": {
            "text/plain": [
              "array([[21, 32, 43],\n",
              "       [ 2,  3,  4]])"
            ]
          },
          "metadata": {
            "tags": []
          },
          "execution_count": 39
        }
      ]
    },
    {
      "cell_type": "code",
      "metadata": {
        "id": "ZBMIkTWCgtO4"
      },
      "source": [
        "def swapRows(matrix,row1,row2):\n",
        "  newMatrix = []\n",
        "  for i in range(len(matrix)):\n",
        "    if i == row1:\n",
        "      newMatrix.append(matrix[row2,:])\n",
        "    elif i == row2:\n",
        "      newMatrix.append(matrix[row1,:])\n",
        "    else:\n",
        "      newMatrix.append(matrix[i,:])\n",
        "  return np.array(newMatrix)\n",
        "\n",
        "#here is another try at this function\n",
        "\n",
        "def swapRows2(matrix, row1, row2):\n",
        "    dic = {row1:row2,row2:row1} #create a dictionary that changes row1 to row2 and vise versa\n",
        "    list = [dic.get(x,x) for x in range(len(matrix))] #apply the dictionary, but return the og if its not in the dic\n",
        "    return matrix[list] #return the matrix back but with just those two swapped"
      ],
      "execution_count": null,
      "outputs": []
    },
    {
      "cell_type": "code",
      "metadata": {
        "id": "xGDKojnSkjmb",
        "colab": {
          "base_uri": "https://localhost:8080/"
        },
        "outputId": "8d2a3f32-5c8a-4268-82d3-1e554eedd9c2"
      },
      "source": [
        "swapRows(A,0,1)"
      ],
      "execution_count": null,
      "outputs": [
        {
          "output_type": "execute_result",
          "data": {
            "text/plain": [
              "array([[2, 3, 4],\n",
              "       [1, 2, 3]])"
            ]
          },
          "metadata": {
            "tags": []
          },
          "execution_count": 41
        }
      ]
    },
    {
      "cell_type": "code",
      "metadata": {
        "id": "tR_GxjdtLDt5"
      },
      "source": [
        "def changeToLeadingOne(matrix,row,column):\n",
        "  newMatrix =[]\n",
        "  for i in range(len(matrix)):\n",
        "    if i != row:\n",
        "      newMatrix.append(matrix[i,:])\n",
        "    else:\n",
        "      newMatrix.append(1/matrix[row,column]*matrix[row,:])\n",
        "  return np.array(newMatrix)\n"
      ],
      "execution_count": null,
      "outputs": []
    },
    {
      "cell_type": "code",
      "metadata": {
        "id": "ALW0qC58L51n",
        "colab": {
          "base_uri": "https://localhost:8080/"
        },
        "outputId": "bb24b9d8-cec8-4f76-b202-eaf9ff08da54"
      },
      "source": [
        "changeToLeadingOne(A,1,0)"
      ],
      "execution_count": null,
      "outputs": [
        {
          "output_type": "execute_result",
          "data": {
            "text/plain": [
              "array([[1. , 2. , 3. ],\n",
              "       [1. , 1.5, 2. ]])"
            ]
          },
          "metadata": {
            "tags": []
          },
          "execution_count": 43
        }
      ]
    },
    {
      "cell_type": "code",
      "metadata": {
        "id": "zfC0GLmvsINz"
      },
      "source": [
        "def gaussJordan(matrix):\n",
        "  newMatrix = matrix\n",
        "  for pivot in range(len(matrix)):\n",
        "    newMatrix = changeToLeadingOne(newMatrix,pivot,pivot)\n",
        "    for column in range(0,pivot):\n",
        "      newMatrix = addRows(newMatrix,column,pivot,-newMatrix[column,pivot])\n",
        "    for column in range(pivot+1,len(matrix)):\n",
        "      newMatrix = addRows(newMatrix,column,pivot,-newMatrix[column,pivot])\n",
        "  return newMatrix\n"
      ],
      "execution_count": null,
      "outputs": []
    },
    {
      "cell_type": "code",
      "metadata": {
        "id": "ToHigBH_M6mX",
        "colab": {
          "base_uri": "https://localhost:8080/"
        },
        "outputId": "63653d0e-ef93-43cf-a131-9e19e44068bd"
      },
      "source": [
        "gaussJordan(A)"
      ],
      "execution_count": null,
      "outputs": [
        {
          "output_type": "execute_result",
          "data": {
            "text/plain": [
              "array([[ 1.,  0., -1.],\n",
              "       [-0.,  1.,  2.]])"
            ]
          },
          "metadata": {
            "tags": []
          },
          "execution_count": 45
        }
      ]
    },
    {
      "cell_type": "markdown",
      "metadata": {
        "id": "jlydwG48N3Kj"
      },
      "source": [
        "Let's try that again with a little more complicated matrix!"
      ]
    },
    {
      "cell_type": "code",
      "metadata": {
        "id": "dlXCzMIZQNIQ"
      },
      "source": [
        "B = np.array([[1,2,3,4],[2,3,4,5],[3,4,5,6]])"
      ],
      "execution_count": null,
      "outputs": []
    },
    {
      "cell_type": "code",
      "metadata": {
        "id": "fOkoCmg8QUn3",
        "colab": {
          "base_uri": "https://localhost:8080/"
        },
        "outputId": "04d0f1b6-ccd7-4aa5-a54a-8de2fd6289e1"
      },
      "source": [
        "gaussJordan(B)"
      ],
      "execution_count": null,
      "outputs": [
        {
          "output_type": "stream",
          "text": [
            "/usr/local/lib/python3.6/dist-packages/ipykernel_launcher.py:7: RuntimeWarning: divide by zero encountered in double_scalars\n",
            "  import sys\n",
            "/usr/local/lib/python3.6/dist-packages/ipykernel_launcher.py:7: RuntimeWarning: invalid value encountered in multiply\n",
            "  import sys\n"
          ],
          "name": "stderr"
        },
        {
          "output_type": "execute_result",
          "data": {
            "text/plain": [
              "array([[nan, nan, nan, nan],\n",
              "       [nan, nan, nan, nan],\n",
              "       [nan, nan, nan, nan]])"
            ]
          },
          "metadata": {
            "tags": []
          },
          "execution_count": 47
        }
      ]
    },
    {
      "cell_type": "markdown",
      "metadata": {
        "id": "Xq_MCJ8crfly"
      },
      "source": [
        "Oh no!  What happened!  Let's follow the process and see where it went wrong.\n",
        "\n",
        "First we already have a leading 1 so I will somplify the other two"
      ]
    },
    {
      "cell_type": "code",
      "metadata": {
        "id": "LD_qfUvLQxVw",
        "colab": {
          "base_uri": "https://localhost:8080/"
        },
        "outputId": "386938cf-287c-45ca-d954-72e0d8e1f184"
      },
      "source": [
        "B = addRows(B,1,0,-2)\n",
        "B"
      ],
      "execution_count": null,
      "outputs": [
        {
          "output_type": "execute_result",
          "data": {
            "text/plain": [
              "array([[ 1,  2,  3,  4],\n",
              "       [ 0, -1, -2, -3],\n",
              "       [ 3,  4,  5,  6]])"
            ]
          },
          "metadata": {
            "tags": []
          },
          "execution_count": 48
        }
      ]
    },
    {
      "cell_type": "code",
      "metadata": {
        "id": "Xw38FFzAQ-FE",
        "colab": {
          "base_uri": "https://localhost:8080/"
        },
        "outputId": "ee0fc5c6-fec1-4edf-977e-25701101126d"
      },
      "source": [
        "B = addRows(B,2,0,-3)\n",
        "B"
      ],
      "execution_count": null,
      "outputs": [
        {
          "output_type": "execute_result",
          "data": {
            "text/plain": [
              "array([[ 1,  2,  3,  4],\n",
              "       [ 0, -1, -2, -3],\n",
              "       [ 0, -2, -4, -6]])"
            ]
          },
          "metadata": {
            "tags": []
          },
          "execution_count": 49
        }
      ]
    },
    {
      "cell_type": "code",
      "metadata": {
        "id": "TJL6L4DkQ9Vo",
        "colab": {
          "base_uri": "https://localhost:8080/"
        },
        "outputId": "d1eaf30d-d1d6-4439-9653-62e6e283f1a2"
      },
      "source": [
        "B = changeToLeadingOne(B,1,1)\n",
        "B"
      ],
      "execution_count": null,
      "outputs": [
        {
          "output_type": "execute_result",
          "data": {
            "text/plain": [
              "array([[ 1.,  2.,  3.,  4.],\n",
              "       [-0.,  1.,  2.,  3.],\n",
              "       [ 0., -2., -4., -6.]])"
            ]
          },
          "metadata": {
            "tags": []
          },
          "execution_count": 50
        }
      ]
    },
    {
      "cell_type": "markdown",
      "metadata": {
        "id": "Niudi1h0RP7A"
      },
      "source": [
        "New leading one, what could go wrong!"
      ]
    },
    {
      "cell_type": "code",
      "metadata": {
        "id": "TbQcECWbROCg",
        "colab": {
          "base_uri": "https://localhost:8080/"
        },
        "outputId": "539becf9-c264-46c2-8299-143b632e4498"
      },
      "source": [
        "B = addRows(B,0,1,-2)\n",
        "B"
      ],
      "execution_count": null,
      "outputs": [
        {
          "output_type": "execute_result",
          "data": {
            "text/plain": [
              "array([[ 1.,  0., -1., -2.],\n",
              "       [-0.,  1.,  2.,  3.],\n",
              "       [ 0., -2., -4., -6.]])"
            ]
          },
          "metadata": {
            "tags": []
          },
          "execution_count": 51
        }
      ]
    },
    {
      "cell_type": "code",
      "metadata": {
        "id": "k5uzEchIRcmQ",
        "colab": {
          "base_uri": "https://localhost:8080/"
        },
        "outputId": "46351d33-bad3-4859-866d-5addfb0a4bf4"
      },
      "source": [
        "addRows(B,2,1,2)"
      ],
      "execution_count": null,
      "outputs": [
        {
          "output_type": "execute_result",
          "data": {
            "text/plain": [
              "array([[ 1.,  0., -1., -2.],\n",
              "       [-0.,  1.,  2.,  3.],\n",
              "       [ 0.,  0.,  0.,  0.]])"
            ]
          },
          "metadata": {
            "tags": []
          },
          "execution_count": 52
        }
      ]
    },
    {
      "cell_type": "markdown",
      "metadata": {
        "id": "ABji4pF-RiiB"
      },
      "source": [
        "Here is the issue!  I get a full compliment of zeros.  While this system is still solvable, my method will fail because I cannot find another pivot (leading 1)  By the way the solution here is that\n",
        "$$\n",
        "\\begin{align}\n",
        "x &= -2+t\\\\\n",
        "y &= 3-2t\\\\\n",
        "z &= t\n",
        "\\end{align}\n",
        "$$\n",
        "\n",
        "$z$ the third variable can be what ever it wants but that determines what the rest must me."
      ]
    },
    {
      "cell_type": "markdown",
      "metadata": {
        "id": "WanbDLYy1TRm"
      },
      "source": [
        "##Computing Inverses"
      ]
    },
    {
      "cell_type": "markdown",
      "metadata": {
        "id": "4O8pRQ-51XF9"
      },
      "source": [
        "I am curious if I can get my algorithm to compute a matrix inverse.  The traditional method to doing this is to take your original square matrix and augment the identity matrix, then preform row ops until you ge the inverse.\n",
        "$$\n",
        "\\left[A|I\\right] \\to \\left[I|A^{-1}\\right]\n",
        "$$\n",
        "\n",
        "Let's try it on \n",
        "$$\n",
        "A=\\left[\n",
        "\\begin{array}{cc}\n",
        "1&2\\\\\n",
        "3&4\n",
        "\\end{array}\n",
        "\\right]\n",
        "$$\n"
      ]
    },
    {
      "cell_type": "code",
      "metadata": {
        "id": "TrE-n1Ha1SP3"
      },
      "source": [
        "C = np.array([[1,2,1,0],[3,4,0,1]])"
      ],
      "execution_count": null,
      "outputs": []
    },
    {
      "cell_type": "code",
      "metadata": {
        "id": "1MvIypzO1K7x",
        "colab": {
          "base_uri": "https://localhost:8080/"
        },
        "outputId": "60aafd61-3455-4a3a-ccca-4a619ba7fa02"
      },
      "source": [
        "gaussJordan(C)"
      ],
      "execution_count": null,
      "outputs": [
        {
          "output_type": "execute_result",
          "data": {
            "text/plain": [
              "array([[ 1. ,  0. , -2. ,  1. ],\n",
              "       [-0. ,  1. ,  1.5, -0.5]])"
            ]
          },
          "metadata": {
            "tags": []
          },
          "execution_count": 54
        }
      ]
    },
    {
      "cell_type": "markdown",
      "metadata": {
        "id": "eGfgplcA2fqL"
      },
      "source": [
        "So I think $A^{-1}$ is\n",
        "$$\n",
        "A^{-1}=\\left[\n",
        "\\begin{array}{cc}\n",
        "-2&1\\\\\n",
        "1.5&-\\frac12\n",
        "\\end{array}\n",
        "\\right]\n",
        "$$\n",
        "Let's make python check it.  To multiply matricies you use the @ symbol"
      ]
    },
    {
      "cell_type": "code",
      "metadata": {
        "id": "WBDrp-Wq2cq7"
      },
      "source": [
        "Ainverse = np.array([[-2,1],[1.5,-.5]])\n",
        "Anew = np.array([[1,2],[3,4]])"
      ],
      "execution_count": null,
      "outputs": []
    },
    {
      "cell_type": "code",
      "metadata": {
        "id": "oKn4px4s3DJD",
        "colab": {
          "base_uri": "https://localhost:8080/"
        },
        "outputId": "f9c8c2ff-d1f1-4208-c7ee-0ee1865d826b"
      },
      "source": [
        "Anew @ Ainverse"
      ],
      "execution_count": null,
      "outputs": [
        {
          "output_type": "execute_result",
          "data": {
            "text/plain": [
              "array([[1., 0.],\n",
              "       [0., 1.]])"
            ]
          },
          "metadata": {
            "tags": []
          },
          "execution_count": 56
        }
      ]
    },
    {
      "cell_type": "markdown",
      "metadata": {
        "id": "qTdkc4zM3O2c"
      },
      "source": [
        "Sweet!"
      ]
    },
    {
      "cell_type": "markdown",
      "metadata": {
        "id": "VVC_pan43ZwE"
      },
      "source": [
        "##Using Some Packages in Python"
      ]
    },
    {
      "cell_type": "markdown",
      "metadata": {
        "id": "O5mjaMBu3o6N"
      },
      "source": [
        "I haven't used this package yet but scipy is for doing scientific computing in python.  Many of the programs we have created are premade in the scipy package"
      ]
    },
    {
      "cell_type": "code",
      "metadata": {
        "id": "_p-H2UvK3dzs",
        "colab": {
          "base_uri": "https://localhost:8080/"
        },
        "outputId": "df3b7f18-8a41-4b07-e7d8-f19ce56aa412"
      },
      "source": [
        "import scipy.linalg as la\n",
        "\n",
        "la.inv(Anew)"
      ],
      "execution_count": null,
      "outputs": [
        {
          "output_type": "execute_result",
          "data": {
            "text/plain": [
              "array([[-2. ,  1. ],\n",
              "       [ 1.5, -0.5]])"
            ]
          },
          "metadata": {
            "tags": []
          },
          "execution_count": 57
        }
      ]
    },
    {
      "cell_type": "code",
      "metadata": {
        "id": "pQmLUBCv35HW",
        "colab": {
          "base_uri": "https://localhost:8080/"
        },
        "outputId": "2fc77c14-2c91-408b-9efd-334ec8421a71"
      },
      "source": [
        "la.solve(A[:,:2],A[:,2])#Using the original A giving it the coeffiecient and then the solutions."
      ],
      "execution_count": null,
      "outputs": [
        {
          "output_type": "execute_result",
          "data": {
            "text/plain": [
              "array([-1.,  2.])"
            ]
          },
          "metadata": {
            "tags": []
          },
          "execution_count": 58
        }
      ]
    },
    {
      "cell_type": "code",
      "metadata": {
        "id": "lLO6Lkh04XZO"
      },
      "source": [
        ""
      ],
      "execution_count": null,
      "outputs": []
    },
    {
      "cell_type": "markdown",
      "metadata": {
        "id": "BfPY-P0SwgXT"
      },
      "source": [
        "# A Fix to My Gauss-Jordan"
      ]
    },
    {
      "cell_type": "markdown",
      "metadata": {
        "id": "btN7oONmwmrL"
      },
      "source": [
        "I've been doing some reading over the break on Linear Algebra and recalled that I did not account for rounding errors in my method.  I think one of the videos even calls out that it is not a very good numerical method if it does not account for this.  To fix this issue, I need to add another step to my algorithm.  I want to make the piviot the largest absolute value.  I'll do this with a simple function that returns what row that happens in."
      ]
    },
    {
      "cell_type": "code",
      "metadata": {
        "id": "Ldk0DhOTwl1q"
      },
      "source": [
        "def findLargestPivot(matrix, column):\n",
        "  vec = matrix[column:,column]\n",
        "  vec = np.abs(vec)\n",
        "  row = np.where(vec == max(vec))\n",
        "  return row[0][0]+column\n"
      ],
      "execution_count": null,
      "outputs": []
    },
    {
      "cell_type": "code",
      "metadata": {
        "id": "dHfhhtWZxfYl",
        "colab": {
          "base_uri": "https://localhost:8080/"
        },
        "outputId": "0fc08230-9e63-4bba-87cf-95fed73fa61e"
      },
      "source": [
        "vec = np.array([[1,2,-4],[-2,-5,2]])\n",
        "np.abs(vec)"
      ],
      "execution_count": null,
      "outputs": [
        {
          "output_type": "execute_result",
          "data": {
            "text/plain": [
              "array([[1, 2, 4],\n",
              "       [2, 5, 2]])"
            ]
          },
          "metadata": {
            "tags": []
          },
          "execution_count": 91
        }
      ]
    },
    {
      "cell_type": "code",
      "metadata": {
        "id": "W2DIietux13T",
        "colab": {
          "base_uri": "https://localhost:8080/"
        },
        "outputId": "ccc28e02-4b55-4c78-b49b-2ecde68c321f"
      },
      "source": [
        "findLargestPivot(vec,1) #checking that it works even with the negative"
      ],
      "execution_count": null,
      "outputs": [
        {
          "output_type": "execute_result",
          "data": {
            "text/plain": [
              "1"
            ]
          },
          "metadata": {
            "tags": []
          },
          "execution_count": 93
        }
      ]
    },
    {
      "cell_type": "markdown",
      "metadata": {
        "id": "l1wS7tC01_tg"
      },
      "source": [
        "Okay now that I can find which row should be made the leading one I'll recycle my algorithm adding this step in (and actually using my swap rows function)"
      ]
    },
    {
      "cell_type": "code",
      "metadata": {
        "id": "5O4uyAiYzwoQ"
      },
      "source": [
        "def gaussJordan2(matrix):\n",
        "  newMatrix = matrix\n",
        "  for pivot in range(len(matrix)):\n",
        "    newpivot = findLargestPivot(newMatrix,pivot)\n",
        "    newMatrix = swapRows(newMatrix,newpivot,pivot)\n",
        "    newMatrix = changeToLeadingOne(newMatrix,pivot,pivot)\n",
        "    for column in range(0,pivot):\n",
        "      newMatrix = addRows(newMatrix,column,pivot,-newMatrix[column,pivot])\n",
        "    for column in range(pivot+1,len(matrix)):\n",
        "      newMatrix = addRows(newMatrix,column,pivot,-newMatrix[column,pivot])\n",
        "  return newMatrix"
      ],
      "execution_count": null,
      "outputs": []
    },
    {
      "cell_type": "code",
      "metadata": {
        "id": "FIX9zKc73vuX",
        "colab": {
          "base_uri": "https://localhost:8080/"
        },
        "outputId": "83e455f6-970c-4bf9-b819-9e674782accc"
      },
      "source": [
        "gaussJordan2(vec)"
      ],
      "execution_count": null,
      "outputs": [
        {
          "output_type": "execute_result",
          "data": {
            "text/plain": [
              "array([[  1.,   0., -16.],\n",
              "       [ -0.,   1.,   6.]])"
            ]
          },
          "metadata": {
            "tags": []
          },
          "execution_count": 95
        }
      ]
    },
    {
      "cell_type": "code",
      "metadata": {
        "id": "m4DQEdPc4o85"
      },
      "source": [
        ""
      ],
      "execution_count": null,
      "outputs": []
    },
    {
      "cell_type": "markdown",
      "metadata": {
        "id": "DhMfsyoS6o_Q"
      },
      "source": [
        "This was trickier than I thought it would be.  It is important when looking for the largest pivot you not consider the previous columns that already have the leading ones.  I think **gaussJordan2** does this but clearly I am getting beyond the scope of this class as I try to improve a nice working algorithm.  Just know that my coding is not perfect (and most likely neither will yours)."
      ]
    },
    {
      "cell_type": "code",
      "metadata": {
        "id": "DCle9NmM7gWi"
      },
      "source": [
        ""
      ],
      "execution_count": null,
      "outputs": []
    }
  ]
}