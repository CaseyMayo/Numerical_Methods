{
  "nbformat": 4,
  "nbformat_minor": 0,
  "metadata": {
    "colab": {
      "name": "Untitled0.ipynb",
      "provenance": [],
      "authorship_tag": "ABX9TyPa93c2W+IgUnqqVvXAT3/d",
      "include_colab_link": true
    },
    "kernelspec": {
      "name": "python3",
      "display_name": "Python 3"
    }
  },
  "cells": [
    {
      "cell_type": "markdown",
      "metadata": {
        "id": "view-in-github",
        "colab_type": "text"
      },
      "source": [
        "<a href=\"https://colab.research.google.com/github/nurfnick/Numerical_Methods/blob/master/ProjectPart1.ipynb\" target=\"_parent\"><img src=\"https://colab.research.google.com/assets/colab-badge.svg\" alt=\"Open In Colab\"/></a>"
      ]
    },
    {
      "cell_type": "markdown",
      "metadata": {
        "id": "YCJaepmmfKrS",
        "colab_type": "text"
      },
      "source": [
        "# Project Part 1\n",
        "\n"
      ]
    },
    {
      "cell_type": "markdown",
      "metadata": {
        "id": "2z6U1aB_fQDM",
        "colab_type": "text"
      },
      "source": [
        "First I will define some error computing functions"
      ]
    },
    {
      "cell_type": "code",
      "metadata": {
        "id": "rU_BgC_kfH7g",
        "colab_type": "code",
        "colab": {}
      },
      "source": [
        "def absoluteError(estimate, actualValue):\n",
        "  return actualValue - estimate\n",
        "\n",
        "def relativeError(estimate, actualValue):\n",
        "  return absoluteError(estimate, actualValue)/actualValue\n",
        "\n",
        "def approximateError(previousEstimate, currentEstimate):\n",
        "  return currentEstimate - previousEstimate\n",
        "\n",
        "def relativeApproxiamteError(previousEstimate, currentEstimate):\n",
        "  return approximateError(previousEstimate, currentEstimate)/currentEstimate\n",
        "\n"
      ],
      "execution_count": 5,
      "outputs": []
    },
    {
      "cell_type": "markdown",
      "metadata": {
        "id": "nAey8GWjg0qi",
        "colab_type": "text"
      },
      "source": [
        "The above functions have been defined utilizing the other functions and utilizing naming conventions that make it clear which input belongs where."
      ]
    },
    {
      "cell_type": "code",
      "metadata": {
        "id": "Lo-Td9yMfuKD",
        "colab_type": "code",
        "colab": {}
      },
      "source": [
        ""
      ],
      "execution_count": null,
      "outputs": []
    },
    {
      "cell_type": "markdown",
      "metadata": {
        "id": "_7RoPTU_hXG1",
        "colab_type": "text"
      },
      "source": [
        "## Taylor Expansion"
      ]
    },
    {
      "cell_type": "markdown",
      "metadata": {
        "id": "MMXFYCZ6hajg",
        "colab_type": "text"
      },
      "source": [
        "Next I will compute an estimate for $\\sin x$ centered at $a = \\frac\\pi 4$.  The $n$ degree Taylor Expansion will be of the form\n",
        "$$\n",
        "f_n(x) = \\sum_{i= 0}^n\\frac{\\frac{d}{dx}\\sin x|_{x = \\frac \\pi 4}}{n!} \\left(x-\\frac\\pi4\\right)^n\n",
        "$$\n",
        "\n",
        "To continute to note that $\\frac{d}{dx}\\sin x|_{x = \\frac \\pi 4} = \\left(-1\\right)^{\\lfloor\\frac n2\\rfloor} \\frac{1}{\\sqrt{2}}$\n",
        "\n",
        "Thus \n",
        "\n",
        "$$\n",
        "f_n(x) = \\sum_{i=0}^n  \\frac{\\left(-1\\right)^{\\lfloor\\frac n2\\rfloor} }{\\sqrt 2\\cdot n!}\n",
        "\\left(x-\\frac \\pi 4\\right)^n\n",
        "$$\n",
        "\n",
        "In order to compute these, I will need to import the math package."
      ]
    },
    {
      "cell_type": "code",
      "metadata": {
        "id": "Du7TNJajhZwx",
        "colab_type": "code",
        "colab": {}
      },
      "source": [
        "import math\n",
        "\n",
        "pi = math.pi\n",
        "sqrt2 = math.sqrt(2)\n",
        "\n",
        "def generalTaylorCoefficient(degree):\n",
        "  return (-1)**(math.floor(degree/2))/(sqrt2*math.factorial(degree))\n",
        "\n",
        "def taylorPolynomialTerm(degree, input):\n",
        "  return generalTaylorCoefficient(degree)*(input-pi/4)**degree\n",
        "\n",
        "def taylorPolynomial(degree, input):\n",
        "  sum = 0\n",
        "  for i in range(0, degree+1):\n",
        "    sum = sum +  taylorPolynomialTerm(i, input)\n",
        "  return sum "
      ],
      "execution_count": 17,
      "outputs": []
    },
    {
      "cell_type": "code",
      "metadata": {
        "id": "xGDKojnSkjmb",
        "colab_type": "code",
        "colab": {
          "base_uri": "https://localhost:8080/",
          "height": 35
        },
        "outputId": "ca72ec15-9aea-466f-8cc5-69313c58d18f"
      },
      "source": [
        "taylorPolynomial(10,pi/4+.1)"
      ],
      "execution_count": 20,
      "outputs": [
        {
          "output_type": "execute_result",
          "data": {
            "text/plain": [
              "0.7741670784769464"
            ]
          },
          "metadata": {
            "tags": []
          },
          "execution_count": 20
        }
      ]
    },
    {
      "cell_type": "code",
      "metadata": {
        "id": "meLU3pGomxRA",
        "colab_type": "code",
        "colab": {
          "base_uri": "https://localhost:8080/",
          "height": 35
        },
        "outputId": "61eefbd4-7b7c-424b-deda-7ade9d8d81b8"
      },
      "source": [
        "math.sin(pi/4+.1)"
      ],
      "execution_count": 19,
      "outputs": [
        {
          "output_type": "execute_result",
          "data": {
            "text/plain": [
              "0.7741670784769464"
            ]
          },
          "metadata": {
            "tags": []
          },
          "execution_count": 19
        }
      ]
    },
    {
      "cell_type": "code",
      "metadata": {
        "id": "c5fBx05GnAQU",
        "colab_type": "code",
        "colab": {}
      },
      "source": [
        ""
      ],
      "execution_count": null,
      "outputs": []
    }
  ]
}