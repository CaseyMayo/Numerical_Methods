{
  "nbformat": 4,
  "nbformat_minor": 0,
  "metadata": {
    "colab": {
      "name": "Untitled4.ipynb",
      "provenance": [],
      "authorship_tag": "ABX9TyMOkNv1+yuM5MrwnB0hVk9d",
      "include_colab_link": true
    },
    "kernelspec": {
      "name": "python3",
      "display_name": "Python 3"
    }
  },
  "cells": [
    {
      "cell_type": "markdown",
      "metadata": {
        "id": "view-in-github",
        "colab_type": "text"
      },
      "source": [
        "<a href=\"https://colab.research.google.com/github/nurfnick/Numerical_Methods/blob/master/Getting_Started_in_Python.ipynb\" target=\"_parent\"><img src=\"https://colab.research.google.com/assets/colab-badge.svg\" alt=\"Open In Colab\"/></a>"
      ]
    },
    {
      "cell_type": "markdown",
      "metadata": {
        "id": "VPq8GgBKBCXj"
      },
      "source": [
        "##Welcome to Python"
      ]
    },
    {
      "cell_type": "markdown",
      "metadata": {
        "id": "1SZjJ8YBAld7"
      },
      "source": [
        "Python is a great language with lots of easy to use syntax and wide usage.  While I know it may not be a language that you are familiar with, I do think that you should be capable of using multiple languages and transitioning from one to another.  This document will serve as an example sheet and hopefully a style guide for the semester."
      ]
    },
    {
      "cell_type": "markdown",
      "metadata": {
        "id": "E2FrxpMoBIVj"
      },
      "source": [
        "###For Loops"
      ]
    },
    {
      "cell_type": "markdown",
      "metadata": {
        "id": "vBD52ZuQBPTk"
      },
      "source": [
        "One of the best parts of python is the ease of making for loops.  I'll give a few examples here"
      ]
    },
    {
      "cell_type": "code",
      "metadata": {
        "id": "ao4V80SjAML7",
        "outputId": "ea45106c-eef6-457c-e0c9-7d09d175a2d5",
        "colab": {
          "base_uri": "https://localhost:8080/",
          "height": 35
        }
      },
      "source": [
        "sum = 0\n",
        "for i in range (0,10):\n",
        "  sum = i + sum\n",
        "print(sum)"
      ],
      "execution_count": 9,
      "outputs": [
        {
          "output_type": "stream",
          "text": [
            "45\n"
          ],
          "name": "stdout"
        }
      ]
    },
    {
      "cell_type": "markdown",
      "metadata": {
        "id": "cqn282nbBm8l"
      },
      "source": [
        "I can check this sum above by using the formula\n",
        "$$\n",
        "\\sum_{i=1}^ni=\\frac{n(n+1)}{2}\n",
        "$$"
      ]
    },
    {
      "cell_type": "code",
      "metadata": {
        "id": "5a02_XhBBkKq",
        "outputId": "77930567-101f-4553-fc7b-cb50bc6ac1bc",
        "colab": {
          "base_uri": "https://localhost:8080/",
          "height": 35
        }
      },
      "source": [
        "n = 9\n",
        "n*(n+1)/2"
      ],
      "execution_count": 10,
      "outputs": [
        {
          "output_type": "execute_result",
          "data": {
            "text/plain": [
              "45.0"
            ]
          },
          "metadata": {
            "tags": []
          },
          "execution_count": 10
        }
      ]
    },
    {
      "cell_type": "markdown",
      "metadata": {
        "id": "dG_5-9VOCG2s"
      },
      "source": [
        "Why did I use 9 when the range goes (0,10)?  The last number is not used in the range."
      ]
    },
    {
      "cell_type": "code",
      "metadata": {
        "id": "Bexm4pblCEnL",
        "outputId": "0e915b78-f679-45bd-cd67-f1355a66274d",
        "colab": {
          "base_uri": "https://localhost:8080/",
          "height": 35
        }
      },
      "source": [
        "digits = [i for i in range (0,10)]\n",
        "digits"
      ],
      "execution_count": 11,
      "outputs": [
        {
          "output_type": "execute_result",
          "data": {
            "text/plain": [
              "[0, 1, 2, 3, 4, 5, 6, 7, 8, 9]"
            ]
          },
          "metadata": {
            "tags": []
          },
          "execution_count": 11
        }
      ]
    },
    {
      "cell_type": "markdown",
      "metadata": {
        "id": "5oryA64_CeAr"
      },
      "source": [
        "You can also use for loops directly inside arrays."
      ]
    },
    {
      "cell_type": "code",
      "metadata": {
        "id": "IED6gWn3Ca5b",
        "outputId": "257e1e62-bad4-4697-f04a-edb771b50210",
        "colab": {
          "base_uri": "https://localhost:8080/",
          "height": 35
        }
      },
      "source": [
        "newSum = 0\n",
        "for number in digits:\n",
        "  newSum = newSum + number\n",
        "print(newSum)"
      ],
      "execution_count": 12,
      "outputs": [
        {
          "output_type": "stream",
          "text": [
            "45\n"
          ],
          "name": "stdout"
        }
      ]
    },
    {
      "cell_type": "markdown",
      "metadata": {
        "id": "ozezztK2C20l"
      },
      "source": [
        "In Jupyter notebooks, print() will always print or the last line of code will give an output if there is one to display."
      ]
    },
    {
      "cell_type": "code",
      "metadata": {
        "id": "4uXBtZ1WC0uK",
        "outputId": "d8f8af03-3449-4778-95ad-02751863c873",
        "colab": {
          "base_uri": "https://localhost:8080/",
          "height": 35
        }
      },
      "source": [
        "newSum + 1 #Does not print\n",
        "sum #Is displayed"
      ],
      "execution_count": 13,
      "outputs": [
        {
          "output_type": "execute_result",
          "data": {
            "text/plain": [
              "45"
            ]
          },
          "metadata": {
            "tags": []
          },
          "execution_count": 13
        }
      ]
    },
    {
      "cell_type": "markdown",
      "metadata": {
        "id": "aPxxRcSsDN1M"
      },
      "source": [
        "The octothorpe # is how you comment your code."
      ]
    },
    {
      "cell_type": "markdown",
      "metadata": {
        "id": "_-lEaAuDjgci"
      },
      "source": [
        "##Functions"
      ]
    },
    {
      "cell_type": "markdown",
      "metadata": {
        "id": "3DqtRSDvjjVm"
      },
      "source": [
        "You will need to use some built in functions as well as define your own.  "
      ]
    },
    {
      "cell_type": "code",
      "metadata": {
        "id": "jAzh_ce0DEjV",
        "outputId": "6c267ae8-16c0-45e4-90b1-0c03b703a3f6",
        "colab": {
          "base_uri": "https://localhost:8080/",
          "height": 35
        }
      },
      "source": [
        "import math #this package contains many of the important mathematical functions\n",
        "\n",
        "math.exp(1) "
      ],
      "execution_count": 14,
      "outputs": [
        {
          "output_type": "execute_result",
          "data": {
            "text/plain": [
              "2.718281828459045"
            ]
          },
          "metadata": {
            "tags": []
          },
          "execution_count": 14
        }
      ]
    },
    {
      "cell_type": "markdown",
      "metadata": {
        "id": "7Z2XHqqnj3a3"
      },
      "source": [
        "Above I imported the math package.  There are lots of things I think should work in python, pi, exp, sine, cosine.  That do work if you do math.pi, math.exp, math.sin, math.cos."
      ]
    },
    {
      "cell_type": "code",
      "metadata": {
        "id": "trkxcb01jzYo"
      },
      "source": [
        "def square(x):\n",
        "  return x*x"
      ],
      "execution_count": 15,
      "outputs": []
    },
    {
      "cell_type": "markdown",
      "metadata": {
        "id": "gck04MJ5kP3A"
      },
      "source": [
        "I defined a function above, indenting and notation is very similar to for loops.  You can have a function defined this way do multiple things (like a for loop) and give it multiple inputs.  I use my function below on a few values."
      ]
    },
    {
      "cell_type": "code",
      "metadata": {
        "id": "rNao5ohQkOnv",
        "outputId": "8c7242f2-4508-46c8-f6e0-e701682e44df",
        "colab": {
          "base_uri": "https://localhost:8080/",
          "height": 109
        }
      },
      "source": [
        "for i in range(1,10,2):\n",
        "  print(square(i))"
      ],
      "execution_count": 16,
      "outputs": [
        {
          "output_type": "stream",
          "text": [
            "1\n",
            "9\n",
            "25\n",
            "49\n",
            "81\n"
          ],
          "name": "stdout"
        }
      ]
    },
    {
      "cell_type": "markdown",
      "metadata": {
        "id": "nDNjNjBbkzQ_"
      },
      "source": [
        "There is one last function definer that I have found very useful, lambda.  It alows you to define a function that is naked.  It can be passed to other functions without requiring a input first."
      ]
    },
    {
      "cell_type": "code",
      "metadata": {
        "id": "I-_s6SurkyRx"
      },
      "source": [
        "cube = lambda x: x**3"
      ],
      "execution_count": 17,
      "outputs": []
    },
    {
      "cell_type": "code",
      "metadata": {
        "id": "lmu4Jvn3kvTH",
        "outputId": "4b7310f1-6b6b-4bd7-806d-3e79ce19956d",
        "colab": {
          "base_uri": "https://localhost:8080/",
          "height": 35
        }
      },
      "source": [
        "cube(3)"
      ],
      "execution_count": 18,
      "outputs": [
        {
          "output_type": "execute_result",
          "data": {
            "text/plain": [
              "27"
            ]
          },
          "metadata": {
            "tags": []
          },
          "execution_count": 18
        }
      ]
    },
    {
      "cell_type": "code",
      "metadata": {
        "id": "ZvSpwJdolSlB",
        "outputId": "969f4328-c809-47d5-cb46-72390b7d7d75",
        "colab": {
          "base_uri": "https://localhost:8080/",
          "height": 35
        }
      },
      "source": [
        "square(cube(2))"
      ],
      "execution_count": 19,
      "outputs": [
        {
          "output_type": "execute_result",
          "data": {
            "text/plain": [
              "64"
            ]
          },
          "metadata": {
            "tags": []
          },
          "execution_count": 19
        }
      ]
    },
    {
      "cell_type": "markdown",
      "metadata": {
        "id": "JnIXskL2lZlB"
      },
      "source": [
        "This may not seem helpful at the moment but I needed to learn about it to do some more clever programing here so I've at least shown it to you."
      ]
    },
    {
      "cell_type": "code",
      "metadata": {
        "id": "Ai9J99nPlX0J"
      },
      "source": [
        ""
      ],
      "execution_count": 19,
      "outputs": []
    },
    {
      "cell_type": "markdown",
      "metadata": {
        "id": "ndgvNdSpltZ8"
      },
      "source": [
        "## Jupyter, Google Colab and Github"
      ]
    },
    {
      "cell_type": "markdown",
      "metadata": {
        "id": "FEbQMVc2nrtf"
      },
      "source": [
        "I will be using jupyter, github and google colab.  This will require web access.  It is possible to create jupyter notebooks locally (rather than on the cloud) but it will require that you download software to your machine. "
      ]
    },
    {
      "cell_type": "markdown",
      "metadata": {
        "id": "OFaW5cwNpSAO"
      },
      "source": [
        "###Jupyter"
      ]
    },
    {
      "cell_type": "markdown",
      "metadata": {
        "id": "vKTLGJn5pUgd"
      },
      "source": [
        "There are two basic types of cells in a jupyter notebook, coding and text.  Coding is done in the python language.  Text can be simply just text but it does permit (and you are asked to use) a markdown language.  This is very similar to $\\LaTeX$ in creating equations but some of the typesetting is different.  Headers are created with # or ## depending on level.  Bullets or enumerations can be done with pointy-clicky.  Shift+Enter executes a line of code.\n",
        "\n",
        "\n",
        "\n"
      ]
    },
    {
      "cell_type": "markdown",
      "metadata": {
        "id": "Vjt5m_oFqtVO"
      },
      "source": [
        "###Google Colab"
      ]
    },
    {
      "cell_type": "markdown",
      "metadata": {
        "id": "FRjkn7QAqyXV"
      },
      "source": [
        "You will see an access google colab at the top of all my jupyter notebooks for this class.  That will allow you to open them and make changes or execute the code.  Code will run on google cloud servers rather than your local machines."
      ]
    },
    {
      "cell_type": "markdown",
      "metadata": {
        "id": "qrObPxYjrJ8t"
      },
      "source": [
        "###Github"
      ]
    },
    {
      "cell_type": "markdown",
      "metadata": {
        "id": "Rr8pU4JLrMq0"
      },
      "source": [
        "Students find github very intimidating.  It can be run from the command line.  I do not use it that way.  I will mostly interact with the web interface to create repositories (where you store code) and upload documents.  Documents (like this one) can be uploaded (or saved) into github directly.  You will need an account and a repository to be able to do this.  You need not use all features of github but it does create a place for you to store and share your work. Here is a more thorough tutorial https://reproducible-science-curriculum.github.io/sharing-RR-Jupyter/01-sharing-github/ "
      ]
    },
    {
      "cell_type": "code",
      "metadata": {
        "id": "QyC4qZqRlrK7"
      },
      "source": [
        ""
      ],
      "execution_count": 19,
      "outputs": []
    }
  ]
}