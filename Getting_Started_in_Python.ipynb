{
  "nbformat": 4,
  "nbformat_minor": 0,
  "metadata": {
    "colab": {
      "name": "Untitled4.ipynb",
      "provenance": [],
      "authorship_tag": "ABX9TyPjfCEfCcgTzN8qKfAzfUng",
      "include_colab_link": true
    },
    "kernelspec": {
      "name": "python3",
      "display_name": "Python 3"
    }
  },
  "cells": [
    {
      "cell_type": "markdown",
      "metadata": {
        "id": "view-in-github",
        "colab_type": "text"
      },
      "source": [
        "<a href=\"https://colab.research.google.com/github/nurfnick/Numerical_Methods/blob/master/Getting_Started_in_Python.ipynb\" target=\"_parent\"><img src=\"https://colab.research.google.com/assets/colab-badge.svg\" alt=\"Open In Colab\"/></a>"
      ]
    },
    {
      "cell_type": "markdown",
      "metadata": {
        "id": "VPq8GgBKBCXj",
        "colab_type": "text"
      },
      "source": [
        "##Welcome to Python"
      ]
    },
    {
      "cell_type": "markdown",
      "metadata": {
        "id": "1SZjJ8YBAld7",
        "colab_type": "text"
      },
      "source": [
        "Python is a great language with lots of easy to use syntax and wide usage.  While I know it may not be a language that you are familiar with, I do think that you should be capable of using multiple languages and transitioning from one to another.  This document will serve as an example sheet and hopefully a style guide for the semester."
      ]
    },
    {
      "cell_type": "markdown",
      "metadata": {
        "id": "E2FrxpMoBIVj",
        "colab_type": "text"
      },
      "source": [
        "###For Loops"
      ]
    },
    {
      "cell_type": "markdown",
      "metadata": {
        "id": "vBD52ZuQBPTk",
        "colab_type": "text"
      },
      "source": [
        "One of the best parts of python is the ease of making for loops.  I'll give a few examples here"
      ]
    },
    {
      "cell_type": "code",
      "metadata": {
        "id": "ao4V80SjAML7",
        "colab_type": "code",
        "colab": {
          "base_uri": "https://localhost:8080/",
          "height": 35
        },
        "outputId": "08908992-c20f-4608-e723-c12eee33cbc0"
      },
      "source": [
        "sum = 0\n",
        "for i in range (0,10):\n",
        "  sum = i + sum\n",
        "print(sum)"
      ],
      "execution_count": 4,
      "outputs": [
        {
          "output_type": "stream",
          "text": [
            "45\n"
          ],
          "name": "stdout"
        }
      ]
    },
    {
      "cell_type": "markdown",
      "metadata": {
        "id": "cqn282nbBm8l",
        "colab_type": "text"
      },
      "source": [
        "I can check this sum above by using the formula\n",
        "$$\n",
        "\\sum_{i=1}^ni=\\frac{n(n+1)}{2}\n",
        "$$"
      ]
    },
    {
      "cell_type": "code",
      "metadata": {
        "id": "5a02_XhBBkKq",
        "colab_type": "code",
        "colab": {
          "base_uri": "https://localhost:8080/",
          "height": 35
        },
        "outputId": "b965d73b-bf4e-4a60-af31-7fcf0f2ca575"
      },
      "source": [
        "n = 9\n",
        "n*(n+1)/2"
      ],
      "execution_count": 5,
      "outputs": [
        {
          "output_type": "execute_result",
          "data": {
            "text/plain": [
              "45.0"
            ]
          },
          "metadata": {
            "tags": []
          },
          "execution_count": 5
        }
      ]
    },
    {
      "cell_type": "markdown",
      "metadata": {
        "id": "dG_5-9VOCG2s",
        "colab_type": "text"
      },
      "source": [
        "Why did I use 9 when the range goes (0,10)?  The last number is not used in the range."
      ]
    },
    {
      "cell_type": "code",
      "metadata": {
        "id": "Bexm4pblCEnL",
        "colab_type": "code",
        "colab": {
          "base_uri": "https://localhost:8080/",
          "height": 35
        },
        "outputId": "b9a5369d-5d93-4dcf-e6c9-093f70a37714"
      },
      "source": [
        "digits = [i for i in range (0,10)]\n",
        "digits"
      ],
      "execution_count": 7,
      "outputs": [
        {
          "output_type": "execute_result",
          "data": {
            "text/plain": [
              "[0, 1, 2, 3, 4, 5, 6, 7, 8, 9]"
            ]
          },
          "metadata": {
            "tags": []
          },
          "execution_count": 7
        }
      ]
    },
    {
      "cell_type": "markdown",
      "metadata": {
        "id": "5oryA64_CeAr",
        "colab_type": "text"
      },
      "source": [
        "You can also use for loops directly inside arrays."
      ]
    },
    {
      "cell_type": "code",
      "metadata": {
        "id": "IED6gWn3Ca5b",
        "colab_type": "code",
        "colab": {
          "base_uri": "https://localhost:8080/",
          "height": 35
        },
        "outputId": "b342d3ee-882c-431b-8f63-d79b47fccf65"
      },
      "source": [
        "newSum = 0\n",
        "for number in digits:\n",
        "  newSum = newSum + number\n",
        "print(newSum)"
      ],
      "execution_count": 8,
      "outputs": [
        {
          "output_type": "stream",
          "text": [
            "45\n"
          ],
          "name": "stdout"
        }
      ]
    },
    {
      "cell_type": "markdown",
      "metadata": {
        "id": "ozezztK2C20l",
        "colab_type": "text"
      },
      "source": [
        "In Jupyter notebooks, print() will always print or the last line of code will give an output if there is one to display."
      ]
    },
    {
      "cell_type": "code",
      "metadata": {
        "id": "4uXBtZ1WC0uK",
        "colab_type": "code",
        "colab": {
          "base_uri": "https://localhost:8080/",
          "height": 35
        },
        "outputId": "29c1016d-f0b7-47cd-e2cb-1339a46cf7d5"
      },
      "source": [
        "newSum + 1 #Does not print\n",
        "sum #Is displayed"
      ],
      "execution_count": 10,
      "outputs": [
        {
          "output_type": "execute_result",
          "data": {
            "text/plain": [
              "45"
            ]
          },
          "metadata": {
            "tags": []
          },
          "execution_count": 10
        }
      ]
    },
    {
      "cell_type": "markdown",
      "metadata": {
        "id": "aPxxRcSsDN1M",
        "colab_type": "text"
      },
      "source": [
        "The octothorpe # is how you comment your code."
      ]
    },
    {
      "cell_type": "code",
      "metadata": {
        "id": "jAzh_ce0DEjV",
        "colab_type": "code",
        "colab": {}
      },
      "source": [
        ""
      ],
      "execution_count": null,
      "outputs": []
    }
  ]
}