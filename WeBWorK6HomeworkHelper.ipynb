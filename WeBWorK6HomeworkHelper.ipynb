{
  "nbformat": 4,
  "nbformat_minor": 0,
  "metadata": {
    "colab": {
      "name": "Untitled14.ipynb",
      "provenance": [],
      "authorship_tag": "ABX9TyOEfjcsCOn5Gtkd0Ojpgqgj",
      "include_colab_link": true
    },
    "kernelspec": {
      "name": "python3",
      "display_name": "Python 3"
    }
  },
  "cells": [
    {
      "cell_type": "markdown",
      "metadata": {
        "id": "view-in-github",
        "colab_type": "text"
      },
      "source": [
        "<a href=\"https://colab.research.google.com/github/nurfnick/Numerical_Methods/blob/master/WeBWorK6HomeworkHelper.ipynb\" target=\"_parent\"><img src=\"https://colab.research.google.com/assets/colab-badge.svg\" alt=\"Open In Colab\"/></a>"
      ]
    },
    {
      "cell_type": "markdown",
      "metadata": {
        "id": "ZEPaOqdD-DYd"
      },
      "source": [
        "# WeBWorK Homework Helper 6  Regression\r\n",
        "\r\n"
      ]
    },
    {
      "cell_type": "markdown",
      "metadata": {
        "id": "zezmsqwY-MDr"
      },
      "source": [
        "##WeBWorK 6\r\n",
        "\r\n",
        "Is the number of games won by a major league baseball team in a season related to the team batting average? The table below shows the number of games won and the batting average (in thousandths) of 8 teams.\r\n",
        "\r\n",
        "\r\n",
        "| Team | Games Won | Batting Average |\r\n",
        "|------|-----------|-----------------|\r\n",
        "| 1    | 64        | 267             |\r\n",
        "| 2    | 61        | 261             |\r\n",
        "| 3    | 76        | 279             |\r\n",
        "| 4    | 71        | 288             |\r\n",
        "| 5    | 97        | 276             |\r\n",
        "| 6    | 65        | 278             |\r\n",
        "| 7    | 113       | 269             |\r\n",
        "| 8    | 120       | 275             |\r\n",
        "\r\n",
        "\r\n",
        "Using games won as the explanatory variable $x$ find the correlation coefficient and the equation of the least squares line."
      ]
    },
    {
      "cell_type": "code",
      "metadata": {
        "colab": {
          "base_uri": "https://localhost:8080/"
        },
        "id": "GPBbHCmX-CZi",
        "outputId": "6ee73b39-8b30-4414-dcd3-931ee1854f90"
      },
      "source": [
        "from scipy import stats\r\n",
        "\r\n",
        "games = [64,61,76,71,97,65,113,120]\r\n",
        "BA = [267, 261,279,288,276,278,269,275]\r\n",
        "\r\n",
        "stats.linregress(games, BA)"
      ],
      "execution_count": 1,
      "outputs": [
        {
          "output_type": "execute_result",
          "data": {
            "text/plain": [
              "LinregressResult(slope=0.015323292057372496, intercept=272.84742052471654, rvalue=0.04304300377517962, pvalue=0.9193939947428843, stderr=0.1452015328046192)"
            ]
          },
          "metadata": {
            "tags": []
          },
          "execution_count": 1
        }
      ]
    },
    {
      "cell_type": "markdown",
      "metadata": {
        "id": "EygT8cad_maC"
      },
      "source": [
        "So the correlations coefficient is $r = 0.04304300377517962$ and the equation for the line is $\\hat y = 0.015323292057372496 x +272.84742052471654$\r\n"
      ]
    },
    {
      "cell_type": "markdown",
      "metadata": {
        "id": "OHv3WMksDFbp"
      },
      "source": [
        "## WeBWorK 11\r\n",
        "\r\n",
        "The amounts of 6 restaurant bills and the corresponding amounts of the tips are given in the below.\r\n",
        "\\begin{array}{c|cccccc}\r\n",
        "\\mbox{Bill} & 70.29 & 106.27 & 32.98 & 64.30 & 52.44 & 49.72 \\cr\r\n",
        "\\hline\r\n",
        "\\mbox{Tip}  & 10.00 & 16.00 & 4.50 & 7.70 & 7.00 & 5.28 \\cr\r\n",
        "\\end{array}\r\n",
        "Use a 0.05 confidence level to find the following:\r\n",
        "The test statistic r = \r\n",
        "\r\n",
        "Is there a significant correlation?\r\n",
        "\r\n",
        " 1. Yes\r\n",
        " 1. No\r\n",
        "\r\n",
        "If the amount of the bill is $40, the best prediction for the amount of the tip is \r\n"
      ]
    },
    {
      "cell_type": "code",
      "metadata": {
        "colab": {
          "base_uri": "https://localhost:8080/"
        },
        "id": "mJC0IsiN_fnl",
        "outputId": "643b0ebf-1d32-4638-8aad-95f165a9da72"
      },
      "source": [
        "bill = [70.29,106.27,32.98,64.30,52.44,49.72]\r\n",
        "tip = [10,16,4.50,7.7,7,5.28]\r\n",
        "\r\n",
        "stats.linregress(bill, tip)"
      ],
      "execution_count": 2,
      "outputs": [
        {
          "output_type": "execute_result",
          "data": {
            "text/plain": [
              "LinregressResult(slope=0.16463581370171665, intercept=-1.9038443253075759, rvalue=0.9812002855581488, pvalue=0.0005268217100319339, stderr=0.01619110428907605)"
            ]
          },
          "metadata": {
            "tags": []
          },
          "execution_count": 2
        }
      ]
    },
    {
      "cell_type": "markdown",
      "metadata": {
        "id": "Z7Zkn6EzDnc9"
      },
      "source": [
        "Yes significant correlation, the $p$ value is low!\r\n",
        "\r\n",
        "As for making the prediction."
      ]
    },
    {
      "cell_type": "code",
      "metadata": {
        "id": "y2UMgcreDk-E"
      },
      "source": [
        "def f(x):\r\n",
        "  return x*0.16463581370171665-1.9038443253075759"
      ],
      "execution_count": 3,
      "outputs": []
    },
    {
      "cell_type": "code",
      "metadata": {
        "colab": {
          "base_uri": "https://localhost:8080/"
        },
        "id": "geZCrKqhD4Et",
        "outputId": "c713aef1-34a2-40c4-af82-ed2c2e19b62b"
      },
      "source": [
        "f(40)"
      ],
      "execution_count": 4,
      "outputs": [
        {
          "output_type": "execute_result",
          "data": {
            "text/plain": [
              "4.68158822276109"
            ]
          },
          "metadata": {
            "tags": []
          },
          "execution_count": 4
        }
      ]
    },
    {
      "cell_type": "code",
      "metadata": {
        "id": "1BntFqW4D56e"
      },
      "source": [
        ""
      ],
      "execution_count": null,
      "outputs": []
    }
  ]
}