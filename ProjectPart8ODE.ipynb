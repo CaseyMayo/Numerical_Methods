{
  "nbformat": 4,
  "nbformat_minor": 0,
  "metadata": {
    "kernelspec": {
      "display_name": "Python 3",
      "language": "python",
      "name": "python3"
    },
    "language_info": {
      "codemirror_mode": {
        "name": "ipython",
        "version": 3
      },
      "file_extension": ".py",
      "mimetype": "text/x-python",
      "name": "python",
      "nbconvert_exporter": "python",
      "pygments_lexer": "ipython3",
      "version": "3.6.1"
    },
    "colab": {
      "name": "Correlation_and_Regression.ipynb",
      "provenance": [],
      "include_colab_link": true
    }
  },
  "cells": [
    {
      "cell_type": "markdown",
      "metadata": {
        "id": "view-in-github",
        "colab_type": "text"
      },
      "source": [
        "<a href=\"https://colab.research.google.com/github/nurfnick/Numerical_Methods/blob/master/ProjectPart8ODE.ipynb\" target=\"_parent\"><img src=\"https://colab.research.google.com/assets/colab-badge.svg\" alt=\"Open In Colab\"/></a>"
      ]
    },
    {
      "cell_type": "markdown",
      "metadata": {
        "id": "f1m-Q7d0x68b"
      },
      "source": [
        "# Project Part 8"
      ]
    },
    {
      "cell_type": "markdown",
      "metadata": {
        "id": "L-tPHJomylog"
      },
      "source": [
        "##Ordinary Differential Equations"
      ]
    },
    {
      "cell_type": "code",
      "metadata": {
        "id": "LV7hu-v0x68d"
      },
      "source": [
        "#Load your packages\n",
        "import numpy as np\n",
        "from scipy import integrate\n",
        "import matplotlib.pyplot as plt\n",
        "import pandas as pa\n",
        "import math\n",
        "\n",
        "\n",
        "%matplotlib inline"
      ],
      "execution_count": 1,
      "outputs": []
    },
    {
      "cell_type": "markdown",
      "metadata": {
        "id": "MfRcJkCD9y4x"
      },
      "source": [
        "While there is a lot we could say about ordinary differential equations, we will focus on one type, first order linear differential equation.  There are many ways to solve these (seperable, integrating factor, just integrate...)\n",
        "$$\n",
        "\\frac{dy}{dx} = f(x,y) \\quad\\quad y(x_0)=y_0\n",
        "$$\n",
        "  My guess is that many of you have not taken diff eq, so I will not solve these analytically.\n",
        "\n",
        "I am going to look at the equation,\n",
        "$$\n",
        "\\frac{dy}{dx} = y\\sin x+y\\quad\\quad y(0) = \\pi\n",
        "$$\n",
        "Mostly cause I don't know how to solve it ;)"
      ]
    },
    {
      "cell_type": "code",
      "metadata": {
        "id": "iA8iZdtDx69R"
      },
      "source": [
        "f = lambda x,y: 2*x*np.cos(x)+x*y**2# this is my function from above\n",
        "t = np.linspace(0, 2, 1000000) #this is the interval I'll look at the solution for\n",
        "\n",
        "sol = integrate.odeint(f,np.pi,t)"
      ],
      "execution_count": 110,
      "outputs": []
    },
    {
      "cell_type": "code",
      "metadata": {
        "id": "NKSpiQUtx69n",
        "outputId": "1ca1139a-392b-44f6-cd89-89e3c3af4dfd",
        "colab": {
          "base_uri": "https://localhost:8080/",
          "height": 283
        }
      },
      "source": [
        "plt.plot(t, sol)"
      ],
      "execution_count": 112,
      "outputs": [
        {
          "output_type": "execute_result",
          "data": {
            "text/plain": [
              "[<matplotlib.lines.Line2D at 0x7f40530a0908>]"
            ]
          },
          "metadata": {
            "tags": []
          },
          "execution_count": 112
        },
        {
          "output_type": "display_data",
          "data": {
            "image/png": "[encoded data removed]",
            "text/plain": [
              "<Figure size 432x288 with 1 Axes>"
            ]
          },
          "metadata": {
            "tags": [],
            "needs_background": "light"
          }
        }
      ]
    },
    {
      "cell_type": "markdown",
      "metadata": {
        "id": "GGXFWKXYAOgz"
      },
      "source": [
        "So this is a numerical solution but let's trust that the contributers to python are better at ODEs than we are."
      ]
    },
    {
      "cell_type": "markdown",
      "metadata": {
        "id": "sqv4N3afx6-B"
      },
      "source": [
        "## Euler's Method"
      ]
    },
    {
      "cell_type": "markdown",
      "metadata": {
        "id": "iS1dxTeGeIqT"
      },
      "source": [
        "For our first method, we will approximate the solution by computing the next value using\n",
        "$$\n",
        "y_{i+1} = y_i + f(x_i,y_i)h\n",
        "$$\n",
        "for h the step size, $h = x_{i+1}-x_i$."
      ]
    },
    {
      "cell_type": "code",
      "metadata": {
        "id": "qa7g2po9eSpz"
      },
      "source": [
        "def eulerMethod(function,initialValue,intervalForSolution):\n",
        "  array = []\n",
        "  y=initialValue\n",
        "  h = intervalForSolution[1]-intervalForSolution[0]\n",
        "  for i in intervalForSolution:\n",
        "    array.append([y])\n",
        "    y = y + f(i,y)*h\n",
        "  return np.array(array)\n",
        "\n",
        "\n"
      ],
      "execution_count": 84,
      "outputs": []
    },
    {
      "cell_type": "code",
      "metadata": {
        "id": "WkNUZL9hhy9p",
        "outputId": "1a028389-8583-4b58-effc-060ef704d698",
        "colab": {
          "base_uri": "https://localhost:8080/",
          "height": 54
        }
      },
      "source": [
        "mysol = eulerMethod(f,np.pi,t)\n"
      ],
      "execution_count": 90,
      "outputs": [
        {
          "output_type": "stream",
          "text": [
            "/usr/local/lib/python3.6/dist-packages/ipykernel_launcher.py:1: RuntimeWarning: overflow encountered in double_scalars\n",
            "  \"\"\"Entry point for launching an IPython kernel.\n"
          ],
          "name": "stderr"
        }
      ]
    },
    {
      "cell_type": "code",
      "metadata": {
        "id": "s7cmPeNeimkp",
        "outputId": "b229fc45-5782-46b5-d228-8d4b37461025",
        "colab": {
          "base_uri": "https://localhost:8080/",
          "height": 283
        }
      },
      "source": [
        "plt.plot(t[:100000], sol[:100000])\n",
        "plt.plot(t[:100000], mysol[:100000],'g')"
      ],
      "execution_count": 93,
      "outputs": [
        {
          "output_type": "execute_result",
          "data": {
            "text/plain": [
              "[<matplotlib.lines.Line2D at 0x7f405355c860>]"
            ]
          },
          "metadata": {
            "tags": []
          },
          "execution_count": 93
        },
        {
          "output_type": "display_data",
          "data": {
            "image/png": "[encoded data removed]",
            "text/plain": [
              "<Figure size 432x288 with 1 Axes>"
            ]
          },
          "metadata": {
            "tags": [],
            "needs_background": "light"
          }
        }
      ]
    },
    {
      "cell_type": "markdown",
      "metadata": {
        "id": "htau63esW1xS"
      },
      "source": [
        "I played with this a lot!  I cannot get this answer to do much better.  My guess is that since my $f(x,y)$ is highly non-linear, the linear assumption of Euler's method is a bad idea!  Let's see if we can do any better with the Runga-Kutta Method."
      ]
    },
    {
      "cell_type": "markdown",
      "metadata": {
        "id": "6A7wvs_iZ4-e"
      },
      "source": [
        "##Runge-Kutta 4th Order"
      ]
    },
    {
      "cell_type": "markdown",
      "metadata": {
        "id": "osa8QBWViqO1"
      },
      "source": [
        "Much like Euler's method we are interested in solving a differential equation fo the form, $\\frac{dy}{dx}= f(x,y)$.  We will have an initial point and iterate to the next using\n",
        "$$\n",
        "y_{i+1} = y_i + \\frac h6 \\left( k_1+2k_2+2k_3+k_4\\right)\n",
        "$$\n",
        "where \n",
        "$$\n",
        "\\begin{align}\n",
        "&k_1 = f(x_i,y_i)\\\\\n",
        "&k_2 = f\\left(x_i+\\frac h2,y_i+\\frac {k_1h}2\\right)\\\\\n",
        "&k_3 = f\\left(x_i+\\frac h 2,y_i +\\frac{k_2 h}2\\right)\\\\\n",
        "&k_4 = f\\left(x_i+h,y_i +k_3 h\\right)\n",
        "\\end{align}\n",
        "$$"
      ]
    },
    {
      "cell_type": "code",
      "metadata": {
        "id": "F-mQVrZOXXRh"
      },
      "source": [
        "def rungeKutta(function, initialValue, intervalForSolution):\n",
        "  h = intervalForSolution[1]-intervalForSolution[0]\n",
        "  y = initialValue\n",
        "  sol = []\n",
        "  for i in intervalForSolution:\n",
        "    sol.append([y])\n",
        "    k1 = function(i,y)\n",
        "    k2 = function(i+h/2,y+k1*h/2)\n",
        "    k3 = function(i+ h/2,y+k2*h/2)\n",
        "    k4 = function(i+ h , y+k3*h)\n",
        "    y = y+h/6*(k1+2*k2+2*k3+k4)\n",
        "  return np.array(sol)"
      ],
      "execution_count": 79,
      "outputs": []
    },
    {
      "cell_type": "code",
      "metadata": {
        "id": "miEbQBMSjp-D",
        "outputId": "fefa8012-df69-468e-b9a9-e073a88f88f1",
        "colab": {
          "base_uri": "https://localhost:8080/",
          "height": 54
        }
      },
      "source": [
        "rsol = rungeKutta(f,np.pi,t)"
      ],
      "execution_count": 94,
      "outputs": [
        {
          "output_type": "stream",
          "text": [
            "/usr/local/lib/python3.6/dist-packages/ipykernel_launcher.py:1: RuntimeWarning: overflow encountered in double_scalars\n",
            "  \"\"\"Entry point for launching an IPython kernel.\n"
          ],
          "name": "stderr"
        }
      ]
    },
    {
      "cell_type": "code",
      "metadata": {
        "id": "BhY4JgWXkPuy",
        "outputId": "911962c3-43c0-4270-de1e-8fec281a52f5",
        "colab": {
          "base_uri": "https://localhost:8080/",
          "height": 283
        }
      },
      "source": [
        "plt.plot(t, sol,'b')\n",
        "plt.plot(t[0:200000], mysol[0:200000],'g')\n",
        "#plt.plot(t[0:200000],rsol[0:200000],'r')"
      ],
      "execution_count": 101,
      "outputs": [
        {
          "output_type": "execute_result",
          "data": {
            "text/plain": [
              "[<matplotlib.lines.Line2D at 0x7f4053309ef0>]"
            ]
          },
          "metadata": {
            "tags": []
          },
          "execution_count": 101
        },
        {
          "output_type": "display_data",
          "data": {
            "image/png": "[encoded data removed]",
            "text/plain": [
              "<Figure size 432x288 with 1 Axes>"
            ]
          },
          "metadata": {
            "tags": [],
            "needs_background": "light"
          }
        }
      ]
    },
    {
      "cell_type": "code",
      "metadata": {
        "id": "qJpsGizDa7eM"
      },
      "source": [
        ""
      ],
      "execution_count": null,
      "outputs": []
    }
  ]
}