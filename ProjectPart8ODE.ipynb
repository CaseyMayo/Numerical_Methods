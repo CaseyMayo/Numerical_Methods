{
  "nbformat": 4,
  "nbformat_minor": 0,
  "metadata": {
    "kernelspec": {
      "display_name": "Python 3",
      "language": "python",
      "name": "python3"
    },
    "language_info": {
      "codemirror_mode": {
        "name": "ipython",
        "version": 3
      },
      "file_extension": ".py",
      "mimetype": "text/x-python",
      "name": "python",
      "nbconvert_exporter": "python",
      "pygments_lexer": "ipython3",
      "version": "3.6.1"
    },
    "colab": {
      "name": "Correlation_and_Regression.ipynb",
      "provenance": [],
      "include_colab_link": true
    }
  },
  "cells": [
    {
      "cell_type": "markdown",
      "metadata": {
        "id": "view-in-github",
        "colab_type": "text"
      },
      "source": [
        "<a href=\"https://colab.research.google.com/github/nurfnick/Numerical_Methods/blob/master/ProjectPart8ODE.ipynb\" target=\"_parent\"><img src=\"https://colab.research.google.com/assets/colab-badge.svg\" alt=\"Open In Colab\"/></a>"
      ]
    },
    {
      "cell_type": "markdown",
      "metadata": {
        "id": "f1m-Q7d0x68b"
      },
      "source": [
        "# Project Part 8"
      ]
    },
    {
      "cell_type": "markdown",
      "metadata": {
        "id": "L-tPHJomylog"
      },
      "source": [
        "##Ordinary Differential Equations"
      ]
    },
    {
      "cell_type": "code",
      "metadata": {
        "id": "LV7hu-v0x68d"
      },
      "source": [
        "#Load your packages\n",
        "import numpy as np\n",
        "from scipy import integrate\n",
        "import matplotlib.pyplot as plt\n",
        "import pandas as pa\n",
        "import math\n",
        "\n",
        "\n",
        "%matplotlib inline"
      ],
      "execution_count": 1,
      "outputs": []
    },
    {
      "cell_type": "markdown",
      "metadata": {
        "id": "MfRcJkCD9y4x"
      },
      "source": [
        "While there is a lot we could say about ordinary differential equations, we will focus on one type, first order linear differential equation.  There are many ways to solve these (seperable, integrating factor, just integrate...)\n",
        "$$\n",
        "\\frac{dy}{dx} = f(x,y) \\quad\\quad y(x_0)=y_0\n",
        "$$\n",
        "  My guess is that many of you have not taken diff eq, so I will not solve these analytically.\n",
        "\n",
        "I am going to look at the equation,\n",
        "$$\n",
        "\\frac{dy}{dx} = y^2\\sin x+y\\quad\\quad y(0) = \\pi\n",
        "$$\n",
        "Mostly cause I don't know how to solve it ;)"
      ]
    },
    {
      "cell_type": "code",
      "metadata": {
        "id": "iA8iZdtDx69R"
      },
      "source": [
        "f = lambda x,y: y**2*np.sin(x)+y# this is my function from above\n",
        "t = np.linspace(0, 1, 100000) #this is the interval I'll look at the solution for\n",
        "\n",
        "sol = integrate.odeint(f,np.pi,t)"
      ],
      "execution_count": 52,
      "outputs": []
    },
    {
      "cell_type": "code",
      "metadata": {
        "id": "NKSpiQUtx69n",
        "outputId": "d407c918-6982-4979-e52a-4ff6ec4afbb6",
        "colab": {
          "base_uri": "https://localhost:8080/",
          "height": 283
        }
      },
      "source": [
        "plt.plot(t, sol)"
      ],
      "execution_count": 53,
      "outputs": [
        {
          "output_type": "execute_result",
          "data": {
            "text/plain": [
              "[<matplotlib.lines.Line2D at 0x7f3d98b16748>]"
            ]
          },
          "metadata": {
            "tags": []
          },
          "execution_count": 53
        },
        {
          "output_type": "display_data",
          "data": {
            "image/png": "[encoded data removed]",
            "text/plain": [
              "<Figure size 432x288 with 1 Axes>"
            ]
          },
          "metadata": {
            "tags": [],
            "needs_background": "light"
          }
        }
      ]
    },
    {
      "cell_type": "markdown",
      "metadata": {
        "id": "GGXFWKXYAOgz"
      },
      "source": [
        "So this is a numerical solution but let's trust that the contributers to python are better at ODEs than we are."
      ]
    },
    {
      "cell_type": "markdown",
      "metadata": {
        "id": "sqv4N3afx6-B"
      },
      "source": [
        "## Euler's Method"
      ]
    },
    {
      "cell_type": "markdown",
      "metadata": {
        "id": "iS1dxTeGeIqT"
      },
      "source": [
        "For our first method, we will approximate the solution by computing the next value using\n",
        "$$\n",
        "y_{i+1} = y_i + f(x_i,y_i)h\n",
        "$$\n",
        "for h the step size, $h = x_{i+1}-x_i$."
      ]
    },
    {
      "cell_type": "code",
      "metadata": {
        "id": "qa7g2po9eSpz"
      },
      "source": [
        "def eulerMethod(function,initialValue,intervalForSolution):\n",
        "  array = []\n",
        "  y=initialValue\n",
        "  h = intervalForSolution[1]-intervalForSolution[0]\n",
        "  for i in intervalForSolution:\n",
        "    array.append([y])\n",
        "    y = y + f(i,y)*h\n",
        "  return np.array(array)\n",
        "\n",
        "\n"
      ],
      "execution_count": 38,
      "outputs": []
    },
    {
      "cell_type": "code",
      "metadata": {
        "id": "WkNUZL9hhy9p",
        "outputId": "928abc93-84ee-49c9-f8ae-fcead19a8464",
        "colab": {
          "base_uri": "https://localhost:8080/",
          "height": 54
        }
      },
      "source": [
        "mysol = eulerMethod(f,np.pi,t)\n"
      ],
      "execution_count": 54,
      "outputs": [
        {
          "output_type": "stream",
          "text": [
            "/usr/local/lib/python3.6/dist-packages/ipykernel_launcher.py:1: RuntimeWarning: overflow encountered in double_scalars\n",
            "  \"\"\"Entry point for launching an IPython kernel.\n"
          ],
          "name": "stderr"
        }
      ]
    },
    {
      "cell_type": "code",
      "metadata": {
        "id": "s7cmPeNeimkp",
        "outputId": "81782482-4617-4d29-e86b-34d4510277e3",
        "colab": {
          "base_uri": "https://localhost:8080/",
          "height": 287
        }
      },
      "source": [
        "plt.plot(t[0:10000], sol[0:10000])\n",
        "plt.plot(t[0:10000], mysol[0:10000],'g')"
      ],
      "execution_count": 59,
      "outputs": [
        {
          "output_type": "execute_result",
          "data": {
            "text/plain": [
              "[<matplotlib.lines.Line2D at 0x7f3d98a4d668>]"
            ]
          },
          "metadata": {
            "tags": []
          },
          "execution_count": 59
        },
        {
          "output_type": "display_data",
          "data": {
            "image/png": "[encoded data removed]",
            "text/plain": [
              "<Figure size 432x288 with 1 Axes>"
            ]
          },
          "metadata": {
            "tags": [],
            "needs_background": "light"
          }
        }
      ]
    },
    {
      "cell_type": "markdown",
      "metadata": {
        "id": "htau63esW1xS"
      },
      "source": [
        "I played with this a lot!  I cannot get this answer to do much better.  My guess is that since my $f(x,y)$ is highly non-linear, the linear assumption of Euler's method is a bad idea!  Let's see if we can do any better with the Runga-Kutta Method."
      ]
    },
    {
      "cell_type": "markdown",
      "metadata": {
        "id": "6A7wvs_iZ4-e"
      },
      "source": [
        "##Simpson's $\\frac13$ Rule"
      ]
    },
    {
      "cell_type": "markdown",
      "metadata": {
        "id": "osa8QBWViqO1"
      },
      "source": [
        "Simpson's $\\frac 13$ rule states that \n",
        "$$\n",
        "\\int_a^b f(x)\\ dx\n",
        "\\approx \n",
        "\\frac{\\Delta x}3 \n",
        "\\left[\n",
        "f(a)\n",
        "+\n",
        "4\\sum_{odd} f(x_i)\n",
        "+\n",
        "2\\sum_{even} f(x_i)\n",
        "+\n",
        "f(b)\n",
        "\\right]\n",
        "$$"
      ]
    },
    {
      "cell_type": "code",
      "metadata": {
        "id": "F-mQVrZOXXRh"
      },
      "source": [
        "def simpson(function, a, b , n):\n",
        "  dx = deltax(a,b,n)\n",
        "  sum = 0\n",
        "  for i in range(1,n,2): #odds\n",
        "    sum = sum + 4*function(a+dx*i)\n",
        "  for i in range(0,n,2): #evens\n",
        "    sum = sum + 2*function(a+dx*i)\n",
        "  for i in [a,b]: #endpoints\n",
        "    sum = sum + function(i)\n",
        "  sum = dx /3 *sum #multiply by the width/3\n",
        "  return sum"
      ],
      "execution_count": null,
      "outputs": []
    },
    {
      "cell_type": "code",
      "metadata": {
        "id": "miEbQBMSjp-D",
        "outputId": "5db7e21e-0246-4c3f-8c21-09a2f5aa9141",
        "colab": {
          "base_uri": "https://localhost:8080/",
          "height": 35
        }
      },
      "source": [
        "simpson(np.sin, 0 , np.pi,1000)"
      ],
      "execution_count": null,
      "outputs": [
        {
          "output_type": "execute_result",
          "data": {
            "text/plain": [
              "2.0000000000010787"
            ]
          },
          "metadata": {
            "tags": []
          },
          "execution_count": 24
        }
      ]
    },
    {
      "cell_type": "code",
      "metadata": {
        "id": "BhY4JgWXkPuy"
      },
      "source": [
        ""
      ],
      "execution_count": null,
      "outputs": []
    }
  ]
}