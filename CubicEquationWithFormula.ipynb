{
  "nbformat": 4,
  "nbformat_minor": 0,
  "metadata": {
    "colab": {
      "name": "Untitled13.ipynb",
      "provenance": [],
      "authorship_tag": "ABX9TyPTufhUyzJYKcjpa4fL3RLJ",
      "include_colab_link": true
    },
    "kernelspec": {
      "name": "python3",
      "display_name": "Python 3"
    }
  },
  "cells": [
    {
      "cell_type": "markdown",
      "metadata": {
        "id": "view-in-github",
        "colab_type": "text"
      },
      "source": [
        "<a href=\"https://colab.research.google.com/github/nurfnick/Numerical_Methods/blob/master/CubicEquationWithFormula.ipynb\" target=\"_parent\"><img src=\"https://colab.research.google.com/assets/colab-badge.svg\" alt=\"Open In Colab\"/></a>"
      ]
    },
    {
      "cell_type": "markdown",
      "metadata": {
        "id": "MAyZKtg8z-wB"
      },
      "source": [
        "# Cubic Equation\r\n",
        "\r\n",
        "I am going to explore solving the cubic equation following the method outlined in <http://mathforcollege.com/nm/mws/gen/03nle/mws_gen_nle_bck_exactcubic.pdf>\r\n",
        "Let's do it on the equation\r\n",
        "$$\r\n",
        "2x^3+4x^2+8x+16 = 0\r\n",
        "$$\r\n",
        "Using\r\n",
        "$$\r\n",
        "ax^3+bx^2+cx+d =0\r\n",
        "$$\r\n",
        "So following the text we will need to compute \r\n",
        "$$\r\n",
        "f = \\frac1a\\left(d+\\frac{2b^2}{27a^2}-\\frac{bc}{3a}\\right) = \\frac12\\left(16+\\frac{2\\cdot4^3}{27\\cdot 2^2}-\\frac{4\\cdot 8}{3\\cdot 2}\\right)\r\n",
        "$$\r\n",
        "and\r\n",
        "$$\r\n",
        "e = \\frac1a\\left(c-\\frac{b^2}{3a}\\right) = \\frac12\\left(8-\\frac{4^2}{3\\cdot 2}\\right)\r\n",
        "$$\r\n",
        "and \r\n",
        "$$\r\n",
        "s = -\\frac e3\r\n",
        "$$"
      ]
    },
    {
      "cell_type": "code",
      "metadata": {
        "id": "yR1LYI2wz9ff"
      },
      "source": [
        "f = 1/2*(16+(2*4**3)/(27*2^2)-(4*8)/(3*2))\r\n",
        "e = 1/2*(8-4**2/(3*2))\r\n",
        "s = -e/3"
      ],
      "execution_count": 1,
      "outputs": []
    },
    {
      "cell_type": "markdown",
      "metadata": {
        "id": "9m9beQVz11nS"
      },
      "source": [
        "Now \r\n",
        "$$\r\n",
        "w^2+fw -\\frac{e^3}{27} = 0\r\n",
        "$$\r\n",
        "\r\n",
        "Where\r\n",
        "$$w=z^3\\quad y = z+\\frac sz \\quad x = y-\\frac b{3a}$$"
      ]
    },
    {
      "cell_type": "code",
      "metadata": {
        "id": "z8u1LQFX130C"
      },
      "source": [
        "import math\r\n",
        "\r\n",
        "w1 = (-f+math.sqrt(f**2+4*e**3/27))/2\r\n",
        "w2 = (-f-math.sqrt(f**2+4*e**3/27))/2"
      ],
      "execution_count": 10,
      "outputs": []
    },
    {
      "cell_type": "code",
      "metadata": {
        "id": "8JrLPNvm21Cp"
      },
      "source": [
        "z1 = w1**(1/3)\r\n",
        "z2 = w2**(1/3)"
      ],
      "execution_count": 11,
      "outputs": []
    },
    {
      "cell_type": "code",
      "metadata": {
        "id": "eyZEI4Ll3Pv5"
      },
      "source": [
        "y1 = z1 + s/z1\r\n",
        "y2 = z2 + s/z2"
      ],
      "execution_count": 12,
      "outputs": []
    },
    {
      "cell_type": "code",
      "metadata": {
        "id": "T_wQWbPd3fkZ"
      },
      "source": [
        "x1 = y1 - 4/(3*2)\r\n",
        "x2 = y2 - 4/(3*2)"
      ],
      "execution_count": 13,
      "outputs": []
    },
    {
      "cell_type": "code",
      "metadata": {
        "colab": {
          "base_uri": "https://localhost:8080/"
        },
        "id": "8Rk1WsD73m5J",
        "outputId": "0b2a3e06-50a5-4e03-f589-baa53de1c866"
      },
      "source": [
        "print(x1,x2)"
      ],
      "execution_count": 14,
      "outputs": [
        {
          "output_type": "stream",
          "text": [
            "-2.076768801225915 (0.03838440061295778+2.0391070813184573j)\n"
          ],
          "name": "stdout"
        }
      ]
    },
    {
      "cell_type": "markdown",
      "metadata": {
        "id": "qyDOecvO35_J"
      },
      "source": [
        "Let's check it our with a graph"
      ]
    },
    {
      "cell_type": "code",
      "metadata": {
        "colab": {
          "base_uri": "https://localhost:8080/",
          "height": 265
        },
        "id": "6_oCzfHb3q7I",
        "outputId": "b5dc5c69-2b93-4e50-e812-4dc03e201c21"
      },
      "source": [
        "import matplotlib.pyplot as plt\r\n",
        "import numpy as np\r\n",
        "\r\n",
        "t = np.arange(-3, 2, 0.1)\r\n",
        "s = 2*t**3+4*t**2+8*t+16\r\n",
        "\r\n",
        "\r\n",
        "plt.plot(t, s)\r\n",
        "plt.plot(x1, 0, 'o-')\r\n",
        "plt.grid()"
      ],
      "execution_count": 19,
      "outputs": [
        {
          "output_type": "display_data",
          "data": {
            "image/png": "[encoded data removed]",
            "text/plain": [
              "<Figure size 432x288 with 1 Axes>"
            ]
          },
          "metadata": {
            "tags": [],
            "needs_background": "light"
          }
        }
      ]
    },
    {
      "cell_type": "markdown",
      "metadata": {
        "id": "rtm7U0an49LJ"
      },
      "source": [
        "Did you find multiple roots?  I clearly did not have them!  There is a possiblity of three roots!"
      ]
    }
  ]
}