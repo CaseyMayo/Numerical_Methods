{
  "nbformat": 4,
  "nbformat_minor": 0,
  "metadata": {
    "colab": {
      "provenance": [],
      "authorship_tag": "ABX9TyN+tcwOI/AZJETk11xddDHN",
      "include_colab_link": true
    },
    "kernelspec": {
      "name": "python3",
      "display_name": "Python 3"
    },
    "language_info": {
      "name": "python"
    }
  },
  "cells": [
    {
      "cell_type": "markdown",
      "metadata": {
        "id": "view-in-github",
        "colab_type": "text"
      },
      "source": [
        "<a href=\"https://colab.research.google.com/github/nurfnick/Numerical_Methods/blob/master/Sympy_Introduction.ipynb\" target=\"_parent\"><img src=\"https://colab.research.google.com/assets/colab-badge.svg\" alt=\"Open In Colab\"/></a>"
      ]
    },
    {
      "cell_type": "markdown",
      "source": [
        "# Thoughts on Making Numerical Object Oriented\n",
        "\n",
        "## Nicholas Jacob"
      ],
      "metadata": {
        "id": "ctN19TlVfFlW"
      }
    },
    {
      "cell_type": "markdown",
      "source": [
        "To make the code object oriented, we could build our own classes.  Instead, I think I am going to use `sympy` and build it from that base.  This would allow me to do some object oriented ideas while not building everything from new. "
      ],
      "metadata": {
        "id": "hxSgf8ohfOXF"
      }
    },
    {
      "cell_type": "code",
      "execution_count": 1,
      "metadata": {
        "id": "A9FPu03TfExf"
      },
      "outputs": [],
      "source": [
        "from sympy import *\n",
        "x = Symbol('x')"
      ]
    },
    {
      "cell_type": "markdown",
      "source": [
        "In this vein, I think I'll try to rework the first project.  I'll make a Taylor series expansion of the function $f(x) = e^{-x^2}$ centered at $x = 1$.  This is the Guassian function and I am centering it at the standard deviation."
      ],
      "metadata": {
        "id": "A3e07ROCdczy"
      }
    },
    {
      "cell_type": "code",
      "source": [
        "f = E**(-x**2)\n",
        "f"
      ],
      "metadata": {
        "id": "IoEcTu8IgZUK",
        "colab": {
          "base_uri": "https://localhost:8080/",
          "height": 40
        },
        "outputId": "16453e84-aa17-478e-81f8-2bc0e9222f0a"
      },
      "execution_count": 5,
      "outputs": [
        {
          "output_type": "execute_result",
          "data": {
            "text/plain": [
              "exp(-x**2)"
            ],
            "text/latex": "$\\displaystyle e^{- x^{2}}$"
          },
          "metadata": {},
          "execution_count": 5
        }
      ]
    },
    {
      "cell_type": "markdown",
      "source": [
        "The notation for using `sympy` is a bit strange.  If I want to plug in a value, I need to say what variable I am `subs`tituing."
      ],
      "metadata": {
        "id": "ZBGi2NMReKTT"
      }
    },
    {
      "cell_type": "code",
      "source": [
        "f.subs(x,1)"
      ],
      "metadata": {
        "id": "moZMC3NDggic",
        "colab": {
          "base_uri": "https://localhost:8080/",
          "height": 38
        },
        "outputId": "c4bd6589-04a2-44a7-e032-f491eccd14d5"
      },
      "execution_count": 6,
      "outputs": [
        {
          "output_type": "execute_result",
          "data": {
            "text/plain": [
              "exp(-1)"
            ],
            "text/latex": "$\\displaystyle e^{-1}$"
          },
          "metadata": {},
          "execution_count": 6
        }
      ]
    },
    {
      "cell_type": "markdown",
      "source": [
        "For the Talyor series expansion, I need derivatives.  Below is the first derivative."
      ],
      "metadata": {
        "id": "ls01ITxVeZU-"
      }
    },
    {
      "cell_type": "code",
      "source": [
        "f.diff(x,1)"
      ],
      "metadata": {
        "id": "g5rmrVkujGVq",
        "colab": {
          "base_uri": "https://localhost:8080/",
          "height": 40
        },
        "outputId": "b048e2dc-eae3-42ef-9a12-e370e1f9538e"
      },
      "execution_count": 8,
      "outputs": [
        {
          "output_type": "execute_result",
          "data": {
            "text/plain": [
              "-2*x*exp(-x**2)"
            ],
            "text/latex": "$\\displaystyle - 2 x e^{- x^{2}}$"
          },
          "metadata": {},
          "execution_count": 8
        }
      ]
    },
    {
      "cell_type": "markdown",
      "source": [
        "I can chain that together with `subs`"
      ],
      "metadata": {
        "id": "9p7AhdfXeldw"
      }
    },
    {
      "cell_type": "code",
      "source": [
        "f.diff((x,1)).subs(x,1)"
      ],
      "metadata": {
        "colab": {
          "base_uri": "https://localhost:8080/",
          "height": 51
        },
        "id": "kKdAwOx0jI2A",
        "outputId": "2d6698be-f133-4705-dcc5-657fcf5f272d"
      },
      "execution_count": 21,
      "outputs": [
        {
          "output_type": "execute_result",
          "data": {
            "text/plain": [
              "-2*exp(-1)"
            ],
            "text/latex": "$\\displaystyle - \\frac{2}{e}$"
          },
          "metadata": {},
          "execution_count": 21
        }
      ]
    },
    {
      "cell_type": "markdown",
      "source": [
        "I think I am ready to put it all together into the level for each iteration of the series."
      ],
      "metadata": {
        "id": "J7_NhGu7eu-z"
      }
    },
    {
      "cell_type": "code",
      "source": [
        "n = symbols('n')\n",
        "\n",
        "g = (x-1)**n\n"
      ],
      "metadata": {
        "id": "Udx0X9bPjVCq"
      },
      "execution_count": 17,
      "outputs": []
    },
    {
      "cell_type": "code",
      "source": [
        "g"
      ],
      "metadata": {
        "id": "BlClHNNdjXzI",
        "colab": {
          "base_uri": "https://localhost:8080/",
          "height": 38
        },
        "outputId": "d5c19ae7-c60c-4377-9579-6c693d96e2cb"
      },
      "execution_count": 18,
      "outputs": [
        {
          "output_type": "execute_result",
          "data": {
            "text/plain": [
              "(x - 1)**n"
            ],
            "text/latex": "$\\displaystyle \\left(x - 1\\right)^{n}$"
          },
          "metadata": {},
          "execution_count": 18
        }
      ]
    },
    {
      "cell_type": "code",
      "source": [
        "taylorterm = g*f.diff((x,n)).subs(x,1)"
      ],
      "metadata": {
        "id": "Ncc-Mn8BfNEW"
      },
      "execution_count": 23,
      "outputs": []
    },
    {
      "cell_type": "code",
      "source": [
        "taylorterm"
      ],
      "metadata": {
        "colab": {
          "base_uri": "https://localhost:8080/",
          "height": 61
        },
        "id": "5QxMYM57ffKZ",
        "outputId": "8a660073-aa6f-4ea2-fb27-b26319139d85"
      },
      "execution_count": 24,
      "outputs": [
        {
          "output_type": "execute_result",
          "data": {
            "text/plain": [
              "(x - 1)**n*Subs(Derivative(exp(-x**2), (x, n)), x, 1)"
            ],
            "text/latex": "$\\displaystyle \\left(x - 1\\right)^{n} \\left. \\frac{d^{n}}{d x^{n}} e^{- x^{2}} \\right|_{\\substack{ x=1 }}$"
          },
          "metadata": {},
          "execution_count": 24
        }
      ]
    },
    {
      "cell_type": "markdown",
      "source": [
        "You should note that the `taylorterm` has two variables, $x$ and $n$.  You'll need both to do any evaluations."
      ],
      "metadata": {
        "id": "YPoaDp9ygJpd"
      }
    },
    {
      "cell_type": "code",
      "source": [
        "taylor20 = Sum(taylorterm, (n,0,20)).doit()\n",
        "\n",
        "taylor20"
      ],
      "metadata": {
        "colab": {
          "base_uri": "https://localhost:8080/",
          "height": 135
        },
        "id": "klsUxysDgGOM",
        "outputId": "012e16fc-e82a-416f-f453-ba21b3f4feee"
      },
      "execution_count": 28,
      "outputs": [
        {
          "output_type": "execute_result",
          "data": {
            "text/plain": [
              "1107214478336*(x - 1)**20*exp(-1) - 11377556480*(x - 1)**19*exp(-1) - 28538404352*(x - 1)**18*exp(-1) + 1901510144*(x - 1)**17*exp(-1) + 727511296*(x - 1)**16*exp(-1) - 104891648*(x - 1)**15*exp(-1) - 17257600*(x - 1)**14*exp(-1) + 4978816*(x - 1)**13*exp(-1) + 280768*(x - 1)**12*exp(-1) - 230848*(x - 1)**11*exp(-1) + 8224*(x - 1)**10*exp(-1) + 10720*(x - 1)**9*exp(-1) - 1648*(x - 1)**8*exp(-1) - 464*(x - 1)**7*exp(-1) + 184*(x - 1)**6*exp(-1) + 8*(x - 1)**5*exp(-1) - 20*(x - 1)**4*exp(-1) + 4*(x - 1)**3*exp(-1) + 2*(x - 1)**2*exp(-1) - 2*(x - 1)*exp(-1) + exp(-1)"
            ],
            "text/latex": "$\\displaystyle \\frac{1107214478336 \\left(x - 1\\right)^{20}}{e} - \\frac{11377556480 \\left(x - 1\\right)^{19}}{e} - \\frac{28538404352 \\left(x - 1\\right)^{18}}{e} + \\frac{1901510144 \\left(x - 1\\right)^{17}}{e} + \\frac{727511296 \\left(x - 1\\right)^{16}}{e} - \\frac{104891648 \\left(x - 1\\right)^{15}}{e} - \\frac{17257600 \\left(x - 1\\right)^{14}}{e} + \\frac{4978816 \\left(x - 1\\right)^{13}}{e} + \\frac{280768 \\left(x - 1\\right)^{12}}{e} - \\frac{230848 \\left(x - 1\\right)^{11}}{e} + \\frac{8224 \\left(x - 1\\right)^{10}}{e} + \\frac{10720 \\left(x - 1\\right)^{9}}{e} - \\frac{1648 \\left(x - 1\\right)^{8}}{e} - \\frac{464 \\left(x - 1\\right)^{7}}{e} + \\frac{184 \\left(x - 1\\right)^{6}}{e} + \\frac{8 \\left(x - 1\\right)^{5}}{e} - \\frac{20 \\left(x - 1\\right)^{4}}{e} + \\frac{4 \\left(x - 1\\right)^{3}}{e} + \\frac{2 \\left(x - 1\\right)^{2}}{e} - \\frac{2 \\left(x - 1\\right)}{e} + e^{-1}$"
          },
          "metadata": {},
          "execution_count": 28
        }
      ]
    },
    {
      "cell_type": "markdown",
      "source": [
        "A few things to notice, sum is capitalized, the `doit()` was added to force the evlatuation.  Sympy prefferes not to work very had and leave things symbolically if possible.\n",
        "\n",
        "Let's compare a few values."
      ],
      "metadata": {
        "id": "as0YXgzUhAG3"
      }
    },
    {
      "cell_type": "code",
      "source": [
        "N(taylor20.subs(x,1))"
      ],
      "metadata": {
        "colab": {
          "base_uri": "https://localhost:8080/",
          "height": 37
        },
        "id": "et9ZoEfmgxbM",
        "outputId": "9514231f-ad8d-4650-ca45-fc681f06148d"
      },
      "execution_count": 36,
      "outputs": [
        {
          "output_type": "execute_result",
          "data": {
            "text/plain": [
              "0.367879441171442"
            ],
            "text/latex": "$\\displaystyle 0.367879441171442$"
          },
          "metadata": {},
          "execution_count": 36
        }
      ]
    },
    {
      "cell_type": "code",
      "source": [
        "N(f.subs(x,1))"
      ],
      "metadata": {
        "colab": {
          "base_uri": "https://localhost:8080/",
          "height": 37
        },
        "id": "R54f3oAihcal",
        "outputId": "9ee88bf0-e83e-4fc7-afb8-892b5d03183c"
      },
      "execution_count": 38,
      "outputs": [
        {
          "output_type": "execute_result",
          "data": {
            "text/plain": [
              "0.367879441171442"
            ],
            "text/latex": "$\\displaystyle 0.367879441171442$"
          },
          "metadata": {},
          "execution_count": 38
        }
      ]
    },
    {
      "cell_type": "markdown",
      "source": [
        "Of course these two values are the same, this is where we centered the expansion.  What about as we get further away?"
      ],
      "metadata": {
        "id": "mrYWz_PMh6yt"
      }
    },
    {
      "cell_type": "code",
      "source": [
        "N(taylor20.subs(x,1.1))"
      ],
      "metadata": {
        "colab": {
          "base_uri": "https://localhost:8080/",
          "height": 37
        },
        "id": "SUptrtXQhiCg",
        "outputId": "1031dd41-7298-4731-f010-1a24ccc534d0"
      },
      "execution_count": 39,
      "outputs": [
        {
          "output_type": "execute_result",
          "data": {
            "text/plain": [
              "0.302474496814875"
            ],
            "text/latex": "$\\displaystyle 0.302474496814875$"
          },
          "metadata": {},
          "execution_count": 39
        }
      ]
    },
    {
      "cell_type": "code",
      "source": [
        "N(f.subs(x,1.1))"
      ],
      "metadata": {
        "colab": {
          "base_uri": "https://localhost:8080/",
          "height": 37
        },
        "id": "3v_E0X2tiFTg",
        "outputId": "4eeda613-3ff6-404c-81d3-f37c3775a6be"
      },
      "execution_count": 40,
      "outputs": [
        {
          "output_type": "execute_result",
          "data": {
            "text/plain": [
              "0.298197279429887"
            ],
            "text/latex": "$\\displaystyle 0.298197279429887$"
          },
          "metadata": {},
          "execution_count": 40
        }
      ]
    },
    {
      "cell_type": "markdown",
      "source": [
        "Not great.  Let's look to some graphs!  I centered the graph at the center of the taylor expansion."
      ],
      "metadata": {
        "id": "6_76ukhniKC7"
      }
    },
    {
      "cell_type": "code",
      "source": [
        "p1 = plot(f,(x,0,2))\n",
        "\n",
        "p1"
      ],
      "metadata": {
        "colab": {
          "base_uri": "https://localhost:8080/",
          "height": 315
        },
        "id": "-Ty62JCTiHbW",
        "outputId": "ccf61b41-87e1-449d-e967-06c85cffd5af"
      },
      "execution_count": 70,
      "outputs": [
        {
          "output_type": "display_data",
          "data": {
            "text/plain": [
              "<Figure size 432x288 with 1 Axes>"
            ],
            "image/png": "[encoded data removed]"
          },
          "metadata": {
            "needs_background": "light"
          }
        },
        {
          "output_type": "execute_result",
          "data": {
            "text/plain": [
              "<sympy.plotting.plot.Plot at 0x7f837f9c0f70>"
            ]
          },
          "metadata": {},
          "execution_count": 70
        }
      ]
    },
    {
      "cell_type": "code",
      "source": [
        "p2 = plot(taylor20,(x,0,2))\n",
        "\n",
        "p2"
      ],
      "metadata": {
        "colab": {
          "base_uri": "https://localhost:8080/",
          "height": 315
        },
        "id": "F_zbFw9uiO7x",
        "outputId": "2dff31aa-2d9d-48d5-b2a0-1487d4462185"
      },
      "execution_count": 71,
      "outputs": [
        {
          "output_type": "display_data",
          "data": {
            "text/plain": [
              "<Figure size 432x288 with 1 Axes>"
            ],
            "image/png": "[encoded data removed]"
          },
          "metadata": {
            "needs_background": "light"
          }
        },
        {
          "output_type": "execute_result",
          "data": {
            "text/plain": [
              "<sympy.plotting.plot.Plot at 0x7f83828e1fd0>"
            ]
          },
          "metadata": {},
          "execution_count": 71
        }
      ]
    },
    {
      "cell_type": "code",
      "source": [
        "p1.extend(p2)"
      ],
      "metadata": {
        "id": "sI8vHfU0ivkF"
      },
      "execution_count": 73,
      "outputs": []
    },
    {
      "cell_type": "code",
      "source": [
        "p1.show()"
      ],
      "metadata": {
        "colab": {
          "base_uri": "https://localhost:8080/",
          "height": 297
        },
        "id": "c3MZDUySi6f0",
        "outputId": "6d1e633c-8c32-4e84-d8b2-4f3d94f2a4cf"
      },
      "execution_count": 74,
      "outputs": [
        {
          "output_type": "display_data",
          "data": {
            "text/plain": [
              "<Figure size 432x288 with 1 Axes>"
            ],
            "image/png": "[encoded data removed]"
          },
          "metadata": {
            "needs_background": "light"
          }
        }
      ]
    },
    {
      "cell_type": "markdown",
      "source": [
        "So that did not really show what was going on!  I am going to narrow the window to see how this actually works together!"
      ],
      "metadata": {
        "id": "VsOP4526jBLp"
      }
    },
    {
      "cell_type": "code",
      "source": [
        "plot(f, taylor20,(x,.8,1.2), line_color = ('b','r'))\n"
      ],
      "metadata": {
        "colab": {
          "base_uri": "https://localhost:8080/",
          "height": 315
        },
        "id": "gse7zP6Xi7kI",
        "outputId": "c87a0f64-80e9-4760-c641-e26f1c9cdc85"
      },
      "execution_count": 75,
      "outputs": [
        {
          "output_type": "display_data",
          "data": {
            "text/plain": [
              "<Figure size 432x288 with 1 Axes>"
            ],
            "image/png": "[encoded data removed]"
          },
          "metadata": {
            "needs_background": "light"
          }
        },
        {
          "output_type": "execute_result",
          "data": {
            "text/plain": [
              "<sympy.plotting.plot.Plot at 0x7f837f521130>"
            ]
          },
          "metadata": {},
          "execution_count": 75
        }
      ]
    },
    {
      "cell_type": "markdown",
      "source": [
        "I played with the window a while here until I got a picture that I liked.  Clearly this is not the correct way to set the colors either!"
      ],
      "metadata": {
        "id": "Qp3BD9TokvXj"
      }
    },
    {
      "cell_type": "code",
      "source": [],
      "metadata": {
        "id": "aA0Vw29VjaK3"
      },
      "execution_count": null,
      "outputs": []
    }
  ]
}