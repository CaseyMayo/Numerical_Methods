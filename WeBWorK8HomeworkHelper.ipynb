{
  "nbformat": 4,
  "nbformat_minor": 0,
  "metadata": {
    "colab": {
      "name": "Untitled16.ipynb",
      "provenance": [],
      "authorship_tag": "ABX9TyM+cnAJ4U/Qpv2sToF6qIzk",
      "include_colab_link": true
    },
    "kernelspec": {
      "name": "python3",
      "display_name": "Python 3"
    }
  },
  "cells": [
    {
      "cell_type": "markdown",
      "metadata": {
        "id": "view-in-github",
        "colab_type": "text"
      },
      "source": [
        "<a href=\"https://colab.research.google.com/github/nurfnick/Numerical_Methods/blob/master/WeBWorK8HomeworkHelper.ipynb\" target=\"_parent\"><img src=\"https://colab.research.google.com/assets/colab-badge.svg\" alt=\"Open In Colab\"/></a>"
      ]
    },
    {
      "cell_type": "markdown",
      "metadata": {
        "id": "SlpTEQw41xi4"
      },
      "source": [
        "# WeBWorK 8 Homework Helper"
      ]
    },
    {
      "cell_type": "markdown",
      "metadata": {
        "id": "Xtx1-1Qr12hW"
      },
      "source": [
        "## WeBWorK 1\r\n",
        "\r\n",
        "Suppose that we use Euler's method to approximate the solution to the differential equation\r\n",
        "$$\\frac{dy}{dx}=\\frac{x^3}{y}\\quad y(0.3)=9.$$\r\n",
        "Let $f(x,y)=\\frac{x^3}y$.\r\n",
        "We let $x_0=0.3$ and $y_0=9$ and pick a step size $h=0.2$. Euler's method is the the following algorithm. From $x_n$ and $y_n$, our approximations to the solution of the differential equation at the nth stage, we find the next stage by computing\r\n",
        "$x_{n+1}=x_n+h$,$$y_{n+1}=y_n+h⋅f(x_n,y_n)$$"
      ]
    },
    {
      "cell_type": "code",
      "metadata": {
        "id": "OhKg0PZ21wwB"
      },
      "source": [
        "def f(x,y):\r\n",
        "  return x**3/y\r\n",
        "\r\n",
        "h = 0.2\r\n",
        "x0 = 0.3\r\n",
        "y0 = 9\r\n",
        "\r\n",
        "\r\n",
        "steps = [[x0,y0]]\r\n",
        "for i in range(5):\r\n",
        "  x = steps[i][0] + h\r\n",
        "  k = f(steps[i][0],steps[i][1])\r\n",
        "  y = steps[i][1]+h*(k)\r\n",
        "  steps.append([x,y])\r\n",
        "\r\n"
      ],
      "execution_count": 4,
      "outputs": []
    },
    {
      "cell_type": "code",
      "metadata": {
        "colab": {
          "base_uri": "https://localhost:8080/"
        },
        "id": "4zg1suHc5QUd",
        "outputId": "0612fb10-e336-40fa-aba3-4e1a470b4c02"
      },
      "source": [
        "steps"
      ],
      "execution_count": 5,
      "outputs": [
        {
          "output_type": "execute_result",
          "data": {
            "text/plain": [
              "[[0.3, 9],\n",
              " [0.5, 9.0006],\n",
              " [0.7, 9.003377592604938],\n",
              " [0.8999999999999999, 9.010996955371235],\n",
              " [1.0999999999999999, 9.027177185008656],\n",
              " [1.2999999999999998, 9.056665916042103]]"
            ]
          },
          "metadata": {
            "tags": []
          },
          "execution_count": 5
        }
      ]
    },
    {
      "cell_type": "markdown",
      "metadata": {
        "id": "twcZMvA87YUY"
      },
      "source": [
        "To get the exact solution you will do the seperation of variable technique.  If you haven't had diff eq, no worries it is literally the first method taught!\n",
        "\n",
        "You want to rewrite the equation os that only $x$'s are on one side and only $y$'s on the other. \n",
        "\n",
        "In our case that becomes\n",
        "\n",
        "$$ y dy = x^3 dx$$\n",
        "\n",
        "Then integrate both sides and don't forget a plus $c$!\n",
        "\n",
        "$$ \\frac12 y^2 = \\frac14 x^4 +c$$\n",
        "\n",
        "So\n",
        "\n",
        "$$ y = \\pm\\sqrt{\\frac12 x^4+2c}$$\n",
        "\n",
        "Use the initial condition to solve for the $c$\n",
        "\n",
        "$$\n",
        "y(0.3) = 9\\quad 9=\\pm\\sqrt{\\frac12 .3^4+2c}$$\n",
        "\n",
        "$$\n",
        "81 = \\frac{81}{20000} +2c$$\n",
        "\n",
        "$$c = \\frac{81(19999)}{40000}$$\n",
        "\n",
        "So \n",
        "\n",
        "$$\n",
        "y = \\sqrt{\\frac12 x^4 +\\frac{81(19999)}{20000}}\n",
        "$$\n",
        "\n",
        "If I am going to evaluate that at the point $x = 1.3$"
      ]
    },
    {
      "cell_type": "code",
      "metadata": {
        "id": "bwb5Ke6p5SEq",
        "outputId": "61d4b0c9-9dca-46a5-af5b-04b6d3721b87",
        "colab": {
          "base_uri": "https://localhost:8080/"
        }
      },
      "source": [
        "import math\n",
        "math.sqrt(1/2*1.3**4+81*19999/20000)"
      ],
      "execution_count": 8,
      "outputs": [
        {
          "output_type": "execute_result",
          "data": {
            "text/plain": [
              "9.078766436030833"
            ]
          },
          "metadata": {
            "tags": []
          },
          "execution_count": 8
        }
      ]
    },
    {
      "cell_type": "markdown",
      "metadata": {
        "id": "eGxyyY6s-aQ5"
      },
      "source": [
        "## WeBWorK 7\n",
        "\n",
        "Suppose you have just poured a cup of freshly brewed coffee with temperature 95∘C in a room where the temperature is 25∘C.\n",
        "Newton's Law of Cooling states that the rate of cooling of an object is proportional to the temperature difference between the object and its surroundings. Therefore, the temperature of the coffee, $T(t)$, satisfies the differential equation\n",
        "$$\\frac{dT}{dt}=k(T−T_{room})$$\n",
        "where $T_{room}=25$ is the room temperature, and $k$ is some constant.\n",
        "Suppose it is known that the coffee cools at a rate of 1∘C per minute when its temperature is 65∘C.\n",
        "\n",
        "A. What is the limiting value of the temperature of the coffee?\n",
        "$$\\lim_{t\\to\\infty}T(t)$$\n",
        "\n",
        "B. What is the limiting value of the rate of cooling?\n",
        "$$\\lim_{t\\to\\infty}\\frac{dT}{dt}$$\n",
        "\n",
        "C. Find the constant k in the differential equation.\n",
        "k .\n",
        "\n",
        "D. Use Euler's method with step size h=1 minutes to estimate the temperature of the coffee after 5 minutes.\n",
        "$$T(5)$$ . "
      ]
    },
    {
      "cell_type": "markdown",
      "metadata": {
        "id": "eOw6uw6g_pEd"
      },
      "source": [
        "First off take a deep breathe!  This problem is not that bad!  If you bring a warm cup of coffee into a cold room, what is the lowest temp it can achieve?  The temp of the room!\n",
        "\n",
        "A. 25\n",
        "\n",
        "The rate then will be zero since the temp of the coffee will be equal the $T_{room}$.\n",
        "\n",
        "B. 0\n",
        "\n",
        "Next is a little tricky.  You know that the rate is decreasing 1 degree at 65 degrees.  So when $T=65$ the derivative $\\frac{dT}{dt} = -1$ Thus the \n",
        "\n",
        "C. $k = -\\frac1{40}$"
      ]
    },
    {
      "cell_type": "code",
      "metadata": {
        "id": "hx5b_p6M9yef",
        "outputId": "375e95c0-f555-42c6-c91f-ad688a3fd890",
        "colab": {
          "base_uri": "https://localhost:8080/"
        }
      },
      "source": [
        "def f(x):\n",
        "  return -1/40*(x-25)\n",
        "\n",
        "h = 1\n",
        "list = [[0,95]]\n",
        "\n",
        "for i in range(5):\n",
        "  x = list[i][0]+h\n",
        "  y = list[i][1] + h*f(list[i][1])\n",
        "  list.append([x,y])\n",
        "\n",
        "list\n"
      ],
      "execution_count": 12,
      "outputs": [
        {
          "output_type": "execute_result",
          "data": {
            "text/plain": [
              "[[0, 95],\n",
              " [1, 93.25],\n",
              " [2, 91.54375],\n",
              " [3, 89.88015625],\n",
              " [4, 88.25815234375],\n",
              " [5, 86.67669853515625]]"
            ]
          },
          "metadata": {
            "tags": []
          },
          "execution_count": 12
        }
      ]
    },
    {
      "cell_type": "code",
      "metadata": {
        "id": "bcisCc0VBhG-"
      },
      "source": [
        ""
      ],
      "execution_count": null,
      "outputs": []
    }
  ]
}