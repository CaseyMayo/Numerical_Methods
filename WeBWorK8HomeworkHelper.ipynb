{
  "nbformat": 4,
  "nbformat_minor": 0,
  "metadata": {
    "colab": {
      "name": "Untitled16.ipynb",
      "provenance": [],
      "authorship_tag": "ABX9TyMhypOSf8DuuLUeV4GAhq9H",
      "include_colab_link": true
    },
    "kernelspec": {
      "name": "python3",
      "display_name": "Python 3"
    }
  },
  "cells": [
    {
      "cell_type": "markdown",
      "metadata": {
        "id": "view-in-github",
        "colab_type": "text"
      },
      "source": [
        "<a href=\"https://colab.research.google.com/github/nurfnick/Numerical_Methods/blob/master/WeBWorK8HomeworkHelper.ipynb\" target=\"_parent\"><img src=\"https://colab.research.google.com/assets/colab-badge.svg\" alt=\"Open In Colab\"/></a>"
      ]
    },
    {
      "cell_type": "markdown",
      "metadata": {
        "id": "SlpTEQw41xi4"
      },
      "source": [
        "# WeBWorK 8 Homework Helper"
      ]
    },
    {
      "cell_type": "markdown",
      "metadata": {
        "id": "Xtx1-1Qr12hW"
      },
      "source": [
        "## WeBWorK 1\r\n",
        "\r\n",
        "Suppose that we use the Improved Euler's method to approximate the solution to the differential equation\r\n",
        "$$\\frac{dy}{dx}=x−0.5y\\quad y(0.1)=1.$$\r\n",
        "Let $f(x,y)=x−0.5y.$\r\n",
        "We let $x_0=0.1$ and $y_0=1$ and pick a step size $h=0.25$. The improved Euler method is the the following algorithm. From (xn,yn), our approximation to the solution of the differential equation at the $n$-th stage, we find the next stage by computing the x-step $x_{n+1}=x_n+h$, and then $k_1$, the slope at $(x_n,y_n)$. The predicted new value of the solution is $z_{n+1}=y_n+h⋅k_1$. Then we find the slope at the predicted new point $k_2=f(x_{n+1},z_{n+1})$ and get the corrected point by averaging slopes\r\n",
        "$y_{n+1}=y_n+\\frac h2(k_1+k_2)$.\r\n",
        "Complete the following table:\r\n",
        "\r\n",
        "| n | $x_n$ | $y_n$ | $k_1$  | $z_{n+1}$ | $k_2$  |\r\n",
        "|---|-----|-----|------|-------|------|\r\n",
        "| 0 | 0.1 | 1   | −0.4 | 0.9   | −0.1 |\r\n",
        "| 1 |     |     |      |       |      |\r\n",
        "| 2 |     |     |      |       |      |\r\n",
        "| 3 |     |     |      |       |      |\r\n",
        "| 4 |     |     |      |       |      |\r\n",
        "\r\n",
        "\r\n",
        "The exact solution can also be found for the linear equation. Write the answer as a function of x.\r\n",
        "\r\n",
        "\r\n",
        "\r\n",
        "Thus the actual value of the function at the point x=1.1 is?"
      ]
    },
    {
      "cell_type": "code",
      "metadata": {
        "id": "OhKg0PZ21wwB"
      },
      "source": [
        "def f(x,y):\r\n",
        "  return x-1/2 *y\r\n",
        "\r\n",
        "h = 0.25\r\n",
        "x0 = 0.1\r\n",
        "y0 = 1\r\n",
        "k10 = -.4\r\n",
        "z1 = 0.9\r\n",
        "k20 = -.1\r\n",
        "\r\n",
        "steps = [[x0,y0,k10,z1,k20]]\r\n",
        "for i in range(5):\r\n",
        "  x = steps[i][0] + h\r\n",
        "  k1 = f(steps[i][0],steps[i][1])\r\n",
        "  k2 = f(x,z)\r\n",
        "  z = steps[i][1] + h*steps[i][2]\r\n",
        "  y = steps[i][1]+h/2*(k1+k2)\r\n",
        "  steps.append([x,y,k1,z,k2])\r\n",
        "\r\n"
      ],
      "execution_count": 3,
      "outputs": []
    },
    {
      "cell_type": "code",
      "metadata": {
        "colab": {
          "base_uri": "https://localhost:8080/"
        },
        "id": "4zg1suHc5QUd",
        "outputId": "8f6a80b5-0770-4615-a9ab-45e87cddf1d9"
      },
      "source": [
        "steps"
      ],
      "execution_count": 4,
      "outputs": [
        {
          "output_type": "execute_result",
          "data": {
            "text/plain": [
              "[[0.1, 1, -0.4, 0.9, -0.1],\n",
              " [0.35, 0.9180030822753906, -0.4, 0.9, -0.255975341796875],\n",
              " [0.6,\n",
              "  0.9231278896331787,\n",
              "  -0.10900154113769533,\n",
              "  0.8180030822753906,\n",
              "  0.14999999999999997],\n",
              " [0.85,\n",
              "  0.9955572038888931,\n",
              "  0.13843605518341062,\n",
              "  0.8958775043487549,\n",
              "  0.44099845886230465],\n",
              " [1.1,\n",
              "  1.1210925346240401,\n",
              "  0.3522213980555534,\n",
              "  1.0301662176847457,\n",
              "  0.6520612478256227],\n",
              " [1.35,\n",
              "  1.292888862604741,\n",
              "  0.53945373268798,\n",
              "  1.2091478841379284,\n",
              "  0.8349168911576272]]"
            ]
          },
          "metadata": {
            "tags": []
          },
          "execution_count": 4
        }
      ]
    },
    {
      "cell_type": "code",
      "metadata": {
        "id": "bwb5Ke6p5SEq"
      },
      "source": [
        ""
      ],
      "execution_count": null,
      "outputs": []
    }
  ]
}