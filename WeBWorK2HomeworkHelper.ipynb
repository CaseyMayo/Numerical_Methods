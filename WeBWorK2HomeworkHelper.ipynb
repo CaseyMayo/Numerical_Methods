{
  "nbformat": 4,
  "nbformat_minor": 0,
  "metadata": {
    "colab": {
      "name": "Untitled6.ipynb",
      "provenance": [],
      "authorship_tag": "ABX9TyOgWCY3eMdLgvG4s2bSRxpQ",
      "include_colab_link": true
    },
    "kernelspec": {
      "name": "python3",
      "display_name": "Python 3"
    }
  },
  "cells": [
    {
      "cell_type": "markdown",
      "metadata": {
        "id": "view-in-github",
        "colab_type": "text"
      },
      "source": [
        "<a href=\"https://colab.research.google.com/github/nurfnick/Numerical_Methods/blob/master/WeBWorK2HomeworkHelper.ipynb\" target=\"_parent\"><img src=\"https://colab.research.google.com/assets/colab-badge.svg\" alt=\"Open In Colab\"/></a>"
      ]
    },
    {
      "cell_type": "markdown",
      "metadata": {
        "id": "F8TuJisYE86q"
      },
      "source": [
        "# WeBWorK Homework Helper 2\n",
        "\n"
      ]
    },
    {
      "cell_type": "markdown",
      "metadata": {
        "id": "K5mtoLvyGxaA"
      },
      "source": [
        "## Number 1\n",
        "\n",
        "The definition of the derivative, applied to $f(x) = 7^x$, results in the formula $f'(x) = k \\cdot 7^x$ where\n",
        "$$k = \\lim_{h \\rightarrow 0} \\frac{7^h - 1}{h}$$ .\n",
        "\n",
        "The value of the constant $k$ cannot be determined using the usual tricks for evaluating limits. Using your calculator, approximate the constant $k$, rounded to three significant figures."
      ]
    },
    {
      "cell_type": "code",
      "metadata": {
        "colab": {
          "base_uri": "https://localhost:8080/"
        },
        "id": "KljlTiOCE8QD",
        "outputId": "4d87b25a-ba8d-436c-ec5a-7da0d43778d8"
      },
      "source": [
        "def quo(h):\n",
        "  return (7**h-1)/h\n",
        "\n",
        "testvalues =[1,.1,.01,.001,.0001]\n",
        "\n",
        "for i in testvalues:\n",
        "  print(quo(i))"
      ],
      "execution_count": null,
      "outputs": [
        {
          "output_type": "stream",
          "text": [
            "6.0\n",
            "2.148140440390669\n",
            "1.9649663856459165\n",
            "1.9478046608600863\n",
            "1.9460994896514094\n"
          ],
          "name": "stdout"
        }
      ]
    },
    {
      "cell_type": "markdown",
      "metadata": {
        "id": "qd30rSJ2HfYH"
      },
      "source": [
        "I want three sig figs, so I think the answer is 1.95 if I round up.  If I needed another sig fig, I would go ahead and try another lower power of ten."
      ]
    },
    {
      "cell_type": "markdown",
      "metadata": {
        "id": "JD1mVEvr4ENa"
      },
      "source": [
        "## WeBWorK 7\r\n",
        "\r\n",
        "Given the following table:\r\n",
        "\r\n",
        "| x    | 0.0061     | 0.0062      | 0.0063     | 0.0064      | 0.0065      |\r\n",
        "|------|------------|-------------|------------|-------------|-------------|\r\n",
        "| f(x) | 0.54098533 | -0.87676671 | 0.99682327 | -0.73768343 | 0.091756934 |\r\n",
        "\r\n",
        "Calculate the value of $f′(0.0063)$ to two places of accuracy.\r\n",
        "\r\n",
        "To obtain more precise information about the value of f near 0.0063 enter a new increment value for x here \r\n",
        "0.0001\r\n",
        " and then press the Submit Answer button.\r\n",
        "\r\n",
        "How will you tell when your increment is small enough to give you a good answer for the problem?"
      ]
    },
    {
      "cell_type": "markdown",
      "metadata": {
        "id": "AdBFrXxE5GIM"
      },
      "source": [
        "So I am going to use the forward difference and the backward difference."
      ]
    },
    {
      "cell_type": "code",
      "metadata": {
        "id": "OfZXAZP95Thb",
        "colab": {
          "base_uri": "https://localhost:8080/"
        },
        "outputId": "2d0e38c8-27b6-44bb-c5e8-3651d9996dee"
      },
      "source": [
        "(-.73768343-0.99682327)/.0001"
      ],
      "execution_count": null,
      "outputs": [
        {
          "output_type": "execute_result",
          "data": {
            "text/plain": [
              "-17345.067"
            ]
          },
          "metadata": {
            "tags": []
          },
          "execution_count": 1
        }
      ]
    },
    {
      "cell_type": "code",
      "metadata": {
        "id": "vla57_2A5hP1",
        "colab": {
          "base_uri": "https://localhost:8080/"
        },
        "outputId": "43151b8c-12e7-4984-dd86-f80c1b37f87a"
      },
      "source": [
        "(0.99682327+0.87676671)/.0001"
      ],
      "execution_count": null,
      "outputs": [
        {
          "output_type": "execute_result",
          "data": {
            "text/plain": [
              "18735.8998"
            ]
          },
          "metadata": {
            "tags": []
          },
          "execution_count": 3
        }
      ]
    },
    {
      "cell_type": "markdown",
      "metadata": {
        "id": "ayhD3M1F511U"
      },
      "source": [
        "So which value do you think is a good estimate for the derivative?  Neither is the correct answer!  I need to get a smaller increment, $h=0.0001$ is not cutting it!  I went back to WeBWorK and used $h=0.00001$.\r\n",
        "\r\n",
        "| x    | 0.00628    | 0.00629    | 0.0063     | 0.00631   | 0.00632    |\r\n",
        "|------|------------|------------|------------|-----------|------------|\r\n",
        "| f(x) | 0.83357965 | 0.94536534 | 0.99682327 | 0.9852746 | 0.91203351 |\r\n",
        "\r\n",
        "I'll again compute the forward and the backward difference."
      ]
    },
    {
      "cell_type": "code",
      "metadata": {
        "id": "oZOGJrPn6bON",
        "colab": {
          "base_uri": "https://localhost:8080/"
        },
        "outputId": "b1cfc457-ca72-4dd1-c363-53268dad0c29"
      },
      "source": [
        "(0.9852746-0.99682327)/0.00001"
      ],
      "execution_count": null,
      "outputs": [
        {
          "output_type": "execute_result",
          "data": {
            "text/plain": [
              "-1154.8670000000038"
            ]
          },
          "metadata": {
            "tags": []
          },
          "execution_count": 7
        }
      ]
    },
    {
      "cell_type": "code",
      "metadata": {
        "id": "odtGLDKO6pwk",
        "colab": {
          "base_uri": "https://localhost:8080/"
        },
        "outputId": "22148575-ff9b-4608-be7a-9e5699635e6f"
      },
      "source": [
        "(0.99682327-0.94536534)/0.00001"
      ],
      "execution_count": null,
      "outputs": [
        {
          "output_type": "execute_result",
          "data": {
            "text/plain": [
              "5145.792999999998"
            ]
          },
          "metadata": {
            "tags": []
          },
          "execution_count": 8
        }
      ]
    },
    {
      "cell_type": "markdown",
      "metadata": {
        "id": "MLkNMORY69XV"
      },
      "source": [
        "Well dang it!  I'll change the step size to $h=0.000001$\r\n",
        "\r\n",
        "| x    | 0.006298   | 0.006299 | 0.0063     | 0.006301   | 0.006302   |\r\n",
        "|------|------------|----------|------------|------------|------------|\r\n",
        "| f(x) | 0.99154422 | 0.9945   | 0.99682327 | 0.99851315 | 0.99956917 |\r\n",
        "\r\n",
        "And again!"
      ]
    },
    {
      "cell_type": "code",
      "metadata": {
        "id": "lzpUSsFZ7N_U",
        "colab": {
          "base_uri": "https://localhost:8080/"
        },
        "outputId": "51e86787-c699-490a-f4d0-f950dd549ade"
      },
      "source": [
        "(0.99851315-0.99682327)/.000001"
      ],
      "execution_count": null,
      "outputs": [
        {
          "output_type": "execute_result",
          "data": {
            "text/plain": [
              "1689.8799999999214"
            ]
          },
          "metadata": {
            "tags": []
          },
          "execution_count": 9
        }
      ]
    },
    {
      "cell_type": "code",
      "metadata": {
        "id": "3UkgY8Ug7Np0",
        "colab": {
          "base_uri": "https://localhost:8080/"
        },
        "outputId": "3790b962-97f3-461d-ac82-007a5d39e9e5"
      },
      "source": [
        "(0.99682327-0.9945)/0.000001"
      ],
      "execution_count": null,
      "outputs": [
        {
          "output_type": "execute_result",
          "data": {
            "text/plain": [
              "2323.2699999999886"
            ]
          },
          "metadata": {
            "tags": []
          },
          "execution_count": 10
        }
      ]
    },
    {
      "cell_type": "markdown",
      "metadata": {
        "id": "o6EfQ8fg7mCU"
      },
      "source": [
        "I am getting closer but still don't have two sig figs!  $h=0.0000001$\r\n",
        "\r\n",
        "| x    | 0.0062998  | 0.0062999  | 0.0063     | 0.0063001  | 0.0063002  |\r\n",
        "|------|------------|------------|------------|------------|------------|\r\n",
        "| f(x) | 0.99640926 | 0.99661943 | 0.99682327 | 0.99702077 | 0.99721194 |\r\n",
        "\r\n",
        "Last time hopefully!"
      ]
    },
    {
      "cell_type": "code",
      "metadata": {
        "id": "Te9ytzNF76zS",
        "colab": {
          "base_uri": "https://localhost:8080/"
        },
        "outputId": "d2bb2e6d-8154-4d39-95e3-38b7e5b8d000"
      },
      "source": [
        "(0.99702077-0.99682327)/0.0000001"
      ],
      "execution_count": null,
      "outputs": [
        {
          "output_type": "execute_result",
          "data": {
            "text/plain": [
              "1974.999999999616"
            ]
          },
          "metadata": {
            "tags": []
          },
          "execution_count": 11
        }
      ]
    },
    {
      "cell_type": "code",
      "metadata": {
        "id": "7wle3OId76hV",
        "colab": {
          "base_uri": "https://localhost:8080/"
        },
        "outputId": "fffa9d2d-11ad-40cd-daa0-052068cc67a9"
      },
      "source": [
        "(0.99682327-0.99661943)/.0000001"
      ],
      "execution_count": null,
      "outputs": [
        {
          "output_type": "execute_result",
          "data": {
            "text/plain": [
              "2038.400000000662"
            ]
          },
          "metadata": {
            "tags": []
          },
          "execution_count": 12
        }
      ]
    },
    {
      "cell_type": "markdown",
      "metadata": {
        "id": "LebGDbSF8SCN"
      },
      "source": [
        "I promise, last time.  $h=0.00000001$\r\n",
        "\r\n",
        "| x    | 0.00629998 | 0.00629999 | 0.0063     | 0.00630001 | 0.00630002 |\r\n",
        "|------|------------|------------|------------|------------|------------|\r\n",
        "| f(x) | 0.99678301 | 0.99680317 | 0.99682327 | 0.9968433  | 0.99686328 |\r\n",
        "\r\n",
        "so\r\n"
      ]
    },
    {
      "cell_type": "code",
      "metadata": {
        "id": "prXugfg58fAq",
        "colab": {
          "base_uri": "https://localhost:8080/"
        },
        "outputId": "f09e7eb5-a340-4b23-fa9a-d74d0ee6505f"
      },
      "source": [
        "(0.9968433-0.99682327)/0.00000001"
      ],
      "execution_count": null,
      "outputs": [
        {
          "output_type": "execute_result",
          "data": {
            "text/plain": [
              "2002.99999999487"
            ]
          },
          "metadata": {
            "tags": []
          },
          "execution_count": 13
        }
      ]
    },
    {
      "cell_type": "code",
      "metadata": {
        "id": "966s_gy38e3q",
        "colab": {
          "base_uri": "https://localhost:8080/"
        },
        "outputId": "d227d905-275e-4ae9-8fa2-466cc743f7b0"
      },
      "source": [
        "(0.99682327- \t0.99680317)/.00000001"
      ],
      "execution_count": null,
      "outputs": [
        {
          "output_type": "execute_result",
          "data": {
            "text/plain": [
              "2010.0000000078387"
            ]
          },
          "metadata": {
            "tags": []
          },
          "execution_count": 14
        }
      ]
    },
    {
      "cell_type": "markdown",
      "metadata": {
        "id": "u3D876en8qqN"
      },
      "source": [
        "So I know the derivative is between 2010 and 2003.  I am only required two sig figs so 2000 will work as the answer!  \r\n",
        "\r\n",
        "tl;dr Use a really small h to start on this problem!"
      ]
    },
    {
      "cell_type": "markdown",
      "metadata": {
        "id": "3SyO08kTH74-"
      },
      "source": [
        "## WeBWorK 11\n",
        "\n",
        "The temperature adjusted for wind chill is a temperature that tells you how cold it feels, as a result of the combination of wind speed, w, in miles per hour, and actual temperature, T, as measured by a thermometer in degrees Fahrenheit. The table below shows the temperature adjusted for wind chill, f(w,T), as a function of w and T. The left column of the table gives the wind speed in miles per hour, the top row gives the actual temperature in degrees Fahrenheit, and the remaining entries give the temperature adjusted for wind chill in degrees Fahrenheit as a function of wind speed and actual temperature. \n",
        "\n",
        "| w\\T | 25 | 20 | 15 | 10  | 5   | 0   | -5  | -10 |\n",
        "|-----|----|----|----|-----|-----|-----|-----|-----|\n",
        "| 5   | 19 | 13 | 7  | 1   | -5  | -11 | -16 | -22 |\n",
        "| 10  | 15 | 9  | 3  | -4  | -10 | -16 | -22 | -28 |\n",
        "| 15  | 13 | 6  | 0  | -7  | -13 | -19 | -26 | -32 |\n",
        "| 20  | 11 | 4  | -2 | -9  | -15 | -22 | -29 | -35 |\n",
        "| 25  | 9  | 3  | -4 | -11 | -17 | -24 | -31 | -37 |\n",
        "\n",
        " Estimate $f_w(10,10)$ and give a practical interpretation. $f_w(10,10)\\approx$\n",
        "\n",
        "If the wind is blowing mph and the actual temperature is degrees Fahrenheit, it will feel degrees Fahrenheit colder for each 1 mph increase in wind speed.\n"
      ]
    },
    {
      "cell_type": "markdown",
      "metadata": {
        "id": "hfN_tU5U6dwN"
      },
      "source": [
        "So I know that many of you have not taken multivariate calculus but the real world does not just have one variable!  To estimate partial derivatives, we will do the same as with one variable and holding the other values constant.  There are actually two estiates we can make here and I'll make them both.\n",
        "\n",
        "$$f_w(10,10)\\approx \\frac{f(10+h,10)-f(10,10)}h\n",
        "  $$\n",
        "\n",
        "I can use $h=\\pm5$"
      ]
    },
    {
      "cell_type": "code",
      "metadata": {
        "colab": {
          "base_uri": "https://localhost:8080/"
        },
        "id": "fOZMFvIpHYGN",
        "outputId": "a47cc9f8-ccce-4db5-eaa0-3badc8939a4c"
      },
      "source": [
        "# h is +5\n",
        "\n",
        "print((-7+4)/5)\n",
        "\n",
        "# h is -5\n",
        "\n",
        "print( (1+4)/(-5))"
      ],
      "execution_count": null,
      "outputs": [
        {
          "output_type": "stream",
          "text": [
            "-0.6\n",
            "-1.0\n"
          ],
          "name": "stdout"
        }
      ]
    },
    {
      "cell_type": "markdown",
      "metadata": {
        "id": "l1RrhlNj9UH6"
      },
      "source": [
        "## WeBWorK 23\n",
        "\n",
        "Find a polynomial of the form\n",
        "$$f(x)=ax^3+bx^2+cx+d$$\n",
        "such that $f(0)=5$, $f(2)=6$, $f(3)=-6$, and $f(-4)=7$. "
      ]
    },
    {
      "cell_type": "markdown",
      "metadata": {
        "id": "PZxxEtL-9fSk"
      },
      "source": [
        "I'll apply Lagrange Interpolation."
      ]
    },
    {
      "cell_type": "code",
      "metadata": {
        "id": "hFPtjMKw-D7M"
      },
      "source": [
        "def lagrangeCoefficient(inputArray,outputArray,entry,variable):\n",
        "  lc = 1\n",
        "  for i in range(len(inputArray)):\n",
        "    if i == entry:\n",
        "      continue\n",
        "    else:\n",
        "      lc = lc*(variable - inputArray[i])/(inputArray[entry]-inputArray[i])\n",
        "  return lc\n",
        "\n",
        "def lagrangeInterpolator(inputArray, outputArray, variable):\n",
        "  li = 0\n",
        "  for i in range(len(inputArray)):\n",
        "    li = li + lagrangeCoefficient(inputArray,outputArray,i,variable)*outputArray[i]\n",
        "  return li"
      ],
      "execution_count": null,
      "outputs": []
    },
    {
      "cell_type": "code",
      "metadata": {
        "colab": {
          "base_uri": "https://localhost:8080/"
        },
        "id": "lwvMxMeN8F96",
        "outputId": "dae6f735-b5d2-44ce-ebce-73e2a3ddd6a0"
      },
      "source": [
        "input = [0,2,3,-4]\n",
        "output = [5,6,-6,7]\n",
        "\n",
        "lagrangeInterpolator(input,output,0) #this is d\n"
      ],
      "execution_count": null,
      "outputs": [
        {
          "output_type": "execute_result",
          "data": {
            "text/plain": [
              "5.0"
            ]
          },
          "metadata": {
            "tags": []
          },
          "execution_count": 4
        }
      ]
    },
    {
      "cell_type": "markdown",
      "metadata": {
        "id": "_lt30326-24Z"
      },
      "source": [
        "Again though the issue I am going to have is that I cannot do this symbolically...  I can give you the numerical answer here (give me an $x$ I'll tell you the output) but this is not what is wanted."
      ]
    },
    {
      "cell_type": "markdown",
      "metadata": {
        "id": "sO1yU6RA_KAL"
      },
      "source": [
        "$$\n",
        "f(x) = y_1\\frac{(x-x_2)\\cdots (x-x_n)}{(x_1-x_2)\\cdots (x_1-x_n)}+\\cdots +y_n\\frac{(x-x_1)\\cdots (x-x_{n-1})}{(x_n-x_1)\\cdots (x_n-x_{n-1})}\n",
        "$$"
      ]
    },
    {
      "cell_type": "markdown",
      "metadata": {
        "id": "MvEWi5QjBEcP"
      },
      "source": [
        "So here the answer is\n",
        "\n",
        "$$\n",
        "f(x) =5\\frac{(x-2)(x-3)(x+4)}{(-2)(-3)(4)}+6\\frac{x(x-3)(x+4)}{2(-1)(6)}-6\\frac{x(x-2)(x+4)}{3(3-2)(3+4)}+7\\frac{x(x-2)(x-3)}{-4(-2)(-1)}\n",
        "$$\n",
        "\n",
        "I don't find this very satisfying but I did it!"
      ]
    },
    {
      "cell_type": "code",
      "metadata": {
        "id": "2TJvHHp8BA_4"
      },
      "source": [
        ""
      ],
      "execution_count": null,
      "outputs": []
    },
    {
      "cell_type": "code",
      "metadata": {
        "id": "8aJvkkDQ-gkP"
      },
      "source": [
        ""
      ],
      "execution_count": null,
      "outputs": []
    }
  ]
}