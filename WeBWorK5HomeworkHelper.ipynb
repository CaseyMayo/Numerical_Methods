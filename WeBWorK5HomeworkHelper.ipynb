{
  "nbformat": 4,
  "nbformat_minor": 0,
  "metadata": {
    "colab": {
      "name": "Untitled10.ipynb",
      "provenance": [],
      "authorship_tag": "ABX9TyPNj+e61HLoGejwfI1fhr8i",
      "include_colab_link": true
    },
    "kernelspec": {
      "name": "python3",
      "display_name": "Python 3"
    }
  },
  "cells": [
    {
      "cell_type": "markdown",
      "metadata": {
        "id": "view-in-github",
        "colab_type": "text"
      },
      "source": [
        "<a href=\"https://colab.research.google.com/github/nurfnick/Numerical_Methods/blob/master/WeBWorK5HomeworkHelper.ipynb\" target=\"_parent\"><img src=\"https://colab.research.google.com/assets/colab-badge.svg\" alt=\"Open In Colab\"/></a>"
      ]
    },
    {
      "cell_type": "markdown",
      "metadata": {
        "id": "crxHmb_7cKv7"
      },
      "source": [
        "# WeBWorK 5 Homework Helper\r\n",
        "\r\n",
        "Interpolation!"
      ]
    },
    {
      "cell_type": "markdown",
      "metadata": {
        "id": "PiqKVOd0cok6"
      },
      "source": [
        "## WeBWorK 1\r\n",
        "\r\n",
        "Write the function that describes this graph\r\n",
        "\r\n",
        "![admin-4446-setModule_5_Interpolationprob1image1.png](data:image/png;base64,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)"
      ]
    },
    {
      "cell_type": "markdown",
      "metadata": {
        "id": "eocxA3OTc3W5"
      },
      "source": [
        "We have two lines both going through $(2,2)$.  We comput the first line to have slope of $m=-1$ and intercept $b=4$.  The second line $m=\\frac{4-2}{7-2}=\\frac25$ and intercept $b = 2-\\frac25*2=\\frac 65$\r\n",
        "\r\n",
        "So the piecewise function is\r\n",
        "$$\r\n",
        "f(x) = \r\n",
        "\\left\\{\r\n",
        "\\begin{array}{ll}\r\n",
        "-x+4& x<2\\\\\r\n",
        "\\frac25 x+\\frac65& 2\\leq x<7\r\n",
        "\\end{array}\r\n",
        "  \\right.\r\n",
        "$$\r\n",
        "\r\n",
        "Let's do it in python too."
      ]
    },
    {
      "cell_type": "code",
      "metadata": {
        "id": "xan-GJA2cKGF"
      },
      "source": [
        "def f(x):\r\n",
        "  if x<2:\r\n",
        "    return -1*x+4\r\n",
        "  elif (x>=2) & (x<7):\r\n",
        "    return (2*x+6)/5\r\n",
        "  else:\r\n",
        "    return \"Undefined\"\r\n"
      ],
      "execution_count": 3,
      "outputs": []
    },
    {
      "cell_type": "markdown",
      "metadata": {
        "id": "g7PCIsKfeeu7"
      },
      "source": [
        "Write a function you should test it!"
      ]
    },
    {
      "cell_type": "code",
      "metadata": {
        "colab": {
          "base_uri": "https://localhost:8080/"
        },
        "id": "p0yIYGJtecas",
        "outputId": "6817fb8a-aebc-4a71-816f-ca12cbe49b71"
      },
      "source": [
        "for x in range(8):\r\n",
        "  print(f(x))"
      ],
      "execution_count": 6,
      "outputs": [
        {
          "output_type": "stream",
          "text": [
            "4\n",
            "3\n",
            "2.0\n",
            "2.4\n",
            "2.8\n",
            "3.2\n",
            "3.6\n",
            "Undefined\n"
          ],
          "name": "stdout"
        }
      ]
    },
    {
      "cell_type": "markdown",
      "metadata": {
        "id": "03ZRiFvpe-zN"
      },
      "source": [
        "Looks good to me, but a picture is worth a thousand words!"
      ]
    },
    {
      "cell_type": "code",
      "metadata": {
        "colab": {
          "base_uri": "https://localhost:8080/",
          "height": 283
        },
        "id": "STOzYU3XeiPU",
        "outputId": "111903d6-509f-4a3e-8b90-a6a4ff6b3cfe"
      },
      "source": [
        "import matplotlib.pyplot as plt\r\n",
        "import numpy as np\r\n",
        "\r\n",
        "x = np.arange(-1,7,.1)\r\n",
        "y = [f(n) for n in x ]\r\n",
        "\r\n",
        "plt.plot(x,y)"
      ],
      "execution_count": 13,
      "outputs": [
        {
          "output_type": "execute_result",
          "data": {
            "text/plain": [
              "[<matplotlib.lines.Line2D at 0x7f6dd2ab5a58>]"
            ]
          },
          "metadata": {
            "tags": []
          },
          "execution_count": 13
        },
        {
          "output_type": "display_data",
          "data": {
            "image/png": "[encoded data removed]",
            "text/plain": [
              "<Figure size 432x288 with 1 Axes>"
            ]
          },
          "metadata": {
            "tags": [],
            "needs_background": "light"
          }
        }
      ]
    },
    {
      "cell_type": "markdown",
      "metadata": {
        "id": "p0sbt9ObjWjV"
      },
      "source": [
        "I hate how many packages it requires to do that but so it goes."
      ]
    },
    {
      "cell_type": "markdown",
      "metadata": {
        "id": "8Tyi8RbQjnAu"
      },
      "source": [
        "## WeBWorK 5\r\n",
        "\r\n",
        "Let p be the quartic (degree 4) polynomial that satisfies\r\n",
        "$p(i)=2^i,i=0,1,2,3,4.$\r\n",
        "\r\n",
        "Hint: You may have a better idea, but a brute force approach is to write\r\n",
        "$$p(x)=ax^4+bx^3+cx^2+dx+e$$\r\n",
        "where a, b, c, d, and e, are the unknown coefficients, and then solve the linear system p(0)=1, p(1)=2, p(2)=4, p(3)=8, and p(4)=16 for a, b, c, d, and e."
      ]
    },
    {
      "cell_type": "markdown",
      "metadata": {
        "id": "F2KKzthTj4MF"
      },
      "source": [
        "I am going the brute force route.  So if I do $p(0)=1=e$ and $p(1)=2=a+b+c+d+e$ etc.\r\n",
        "\r\n",
        "The system will look like\r\n",
        "$$\r\n",
        "\\left[\r\n",
        "\\begin{array}{ccccc|c}\r\n",
        "0&0&0&0&1&1\\\\\r\n",
        "1&1&1&1&1&2\\\\\r\n",
        "16&8&4&2&1&4\\\\\r\n",
        "81&27&9&3&1&8\\\\\r\n",
        "265&64&16&4&1&16\r\n",
        "\\end{array}\r\n",
        "  \\right]\r\n",
        "$$"
      ]
    },
    {
      "cell_type": "code",
      "metadata": {
        "id": "E_kWgKWJjBKt"
      },
      "source": [
        "matrix = np.array([[0,0,0,0,1],[1,1,1,1,1],[16,8,4,2,1],[81,27,9,3,1],[256,64,16,4,1]])\r\n",
        "solnVector = np.array([1,2,4,8,16])"
      ],
      "execution_count": 15,
      "outputs": []
    },
    {
      "cell_type": "code",
      "metadata": {
        "colab": {
          "base_uri": "https://localhost:8080/"
        },
        "id": "cYOSxSjDlJ2O",
        "outputId": "df734737-7c98-4d64-e87c-3de1bdb96d14"
      },
      "source": [
        "import scipy.linalg as la\r\n",
        "\r\n",
        "la.solve(matrix,solnVector)"
      ],
      "execution_count": 16,
      "outputs": [
        {
          "output_type": "execute_result",
          "data": {
            "text/plain": [
              "array([ 0.04166667, -0.08333333,  0.45833333,  0.58333333,  1.        ])"
            ]
          },
          "metadata": {
            "tags": []
          },
          "execution_count": 16
        }
      ]
    },
    {
      "cell_type": "markdown",
      "metadata": {
        "id": "XDYfwnSll2G2"
      },
      "source": [
        "Then the solution is\r\n",
        "$$\r\n",
        "0.041666666x^4-0.08333333x^3+0.458333333x^2+0.58333333x+1\r\n",
        "\r\n",
        "$$"
      ]
    },
    {
      "cell_type": "markdown",
      "metadata": {
        "id": "eAH0dom_mbNP"
      },
      "source": [
        "## WeBWorK 7\r\n",
        "\r\n",
        "Find the polynomial of degree 4 whose graph goes through the points (−2,−50), (−1,−4), (0,2), (2,14), and (3,−40)."
      ]
    },
    {
      "cell_type": "markdown",
      "metadata": {
        "id": "3w2USk8cmpkH"
      },
      "source": [
        "Rather that recreate the wheel I am going to grab the functions I wrote for the project."
      ]
    },
    {
      "cell_type": "code",
      "metadata": {
        "colab": {
          "base_uri": "https://localhost:8080/"
        },
        "id": "7kk-q9Yqlhc_",
        "outputId": "2368a38d-7c63-499b-8a88-7f1ec1b5763e"
      },
      "source": [
        "def createRow(input,output,orderOfPolynomial):\r\n",
        "  array = []\r\n",
        "  for i in range(orderOfPolynomial+1):\r\n",
        "    array.append(input**i)\r\n",
        "  array.append(output)\r\n",
        "  return array\r\n",
        "\r\n",
        "def createAugmentedMatrix(dataAsArray):\r\n",
        "  matrix = []\r\n",
        "  order = len(dataAsArray)-1\r\n",
        "  for i in range(len(dataAsArray)):\r\n",
        "    matrix.append(createRow(dataAsArray[i][0],dataAsArray[i][1],order))\r\n",
        "  return np.array(matrix)\r\n",
        "\r\n",
        "data = [[-2,-50],[-1,-4],[0,2],[2,14],[3,-40]]\r\n",
        "\r\n",
        "matrix = createAugmentedMatrix(data)\r\n",
        "matrix"
      ],
      "execution_count": 19,
      "outputs": [
        {
          "output_type": "execute_result",
          "data": {
            "text/plain": [
              "array([[  1,  -2,   4,  -8,  16, -50],\n",
              "       [  1,  -1,   1,  -1,   1,  -4],\n",
              "       [  1,   0,   0,   0,   0,   2],\n",
              "       [  1,   2,   4,   8,  16,  14],\n",
              "       [  1,   3,   9,  27,  81, -40]])"
            ]
          },
          "metadata": {
            "tags": []
          },
          "execution_count": 19
        }
      ]
    },
    {
      "cell_type": "code",
      "metadata": {
        "colab": {
          "base_uri": "https://localhost:8080/"
        },
        "id": "3uGERRXGnAsn",
        "outputId": "5c97adf9-fa47-4ad2-b656-e9c81a3353f5"
      },
      "source": [
        "la.solve(matrix[:,:-1],matrix[:,-1])"
      ],
      "execution_count": 20,
      "outputs": [
        {
          "output_type": "execute_result",
          "data": {
            "text/plain": [
              "array([ 2.,  4.,  3.,  3., -2.])"
            ]
          },
          "metadata": {
            "tags": []
          },
          "execution_count": 20
        }
      ]
    },
    {
      "cell_type": "markdown",
      "metadata": {
        "id": "O4HgvhGhndR3"
      },
      "source": [
        "These are in the reverse order as above!\r\n",
        "$$\r\n",
        "2+4x+3x^2+3x^3-2x^4\r\n",
        "$$"
      ]
    },
    {
      "cell_type": "markdown",
      "metadata": {
        "id": "bWo3AS69oE3f"
      },
      "source": [
        "## WeBWorK 11\r\n",
        "\r\n",
        "Find the values of the coefficients a, b and c so that the conditions\r\n",
        "f(0)=−1,f′(0)=−3, and  f′′(0)=−5\r\n",
        "hold for the function\r\n",
        "\r\n",
        "$$f(x)=ae^x+be^{2x}+ce^{3x}.$$"
      ]
    },
    {
      "cell_type": "markdown",
      "metadata": {
        "id": "uTQoKPgRoPqX"
      },
      "source": [
        "So I should see what happens...\r\n",
        "\r\n",
        "Plugging in zero, I get $a+b+c = -1$.  Derivatives are really easy here too! $f'(x) = a e^x+2be^{2x}+3e^{3x}$.  I got it!"
      ]
    },
    {
      "cell_type": "code",
      "metadata": {
        "colab": {
          "base_uri": "https://localhost:8080/"
        },
        "id": "-MH8jxlanb8X",
        "outputId": "c81ed631-23ca-4435-eb60-c3e21475b352"
      },
      "source": [
        "matrix = np.array([[1,1,1,-1],[1,2,3,-3],[1,4,9,-5]])\r\n",
        "\r\n",
        "la.solve(matrix[:,:-1],matrix[:,-1])"
      ],
      "execution_count": 23,
      "outputs": [
        {
          "output_type": "execute_result",
          "data": {
            "text/plain": [
              "array([ 2., -4.,  1.])"
            ]
          },
          "metadata": {
            "tags": []
          },
          "execution_count": 23
        }
      ]
    },
    {
      "cell_type": "markdown",
      "metadata": {
        "id": "7oa3bZp6pMIR"
      },
      "source": [
        "Not bad! $a=2$, $b=-4$ and $c=1$."
      ]
    },
    {
      "cell_type": "code",
      "metadata": {
        "id": "Y28Yp2mopSBf"
      },
      "source": [
        ""
      ],
      "execution_count": null,
      "outputs": []
    }
  ]
}