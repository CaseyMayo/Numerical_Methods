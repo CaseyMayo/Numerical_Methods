{
  "nbformat": 4,
  "nbformat_minor": 0,
  "metadata": {
    "kernelspec": {
      "display_name": "Python 3",
      "language": "python",
      "name": "python3"
    },
    "language_info": {
      "codemirror_mode": {
        "name": "ipython",
        "version": 3
      },
      "file_extension": ".py",
      "mimetype": "text/x-python",
      "name": "python",
      "nbconvert_exporter": "python",
      "pygments_lexer": "ipython3",
      "version": "3.6.1"
    },
    "colab": {
      "name": "Correlation_and_Regression.ipynb",
      "provenance": [],
      "include_colab_link": true
    }
  },
  "cells": [
    {
      "cell_type": "markdown",
      "metadata": {
        "id": "view-in-github",
        "colab_type": "text"
      },
      "source": [
        "<a href=\"https://colab.research.google.com/github/nurfnick/Numerical_Methods/blob/master/ProjectPart7Integration.ipynb\" target=\"_parent\"><img src=\"https://colab.research.google.com/assets/colab-badge.svg\" alt=\"Open In Colab\"/></a>"
      ]
    },
    {
      "cell_type": "markdown",
      "metadata": {
        "id": "f1m-Q7d0x68b"
      },
      "source": [
        "# Project Part 7"
      ]
    },
    {
      "cell_type": "markdown",
      "metadata": {
        "id": "L-tPHJomylog"
      },
      "source": [
        "##Integration"
      ]
    },
    {
      "cell_type": "code",
      "metadata": {
        "id": "LV7hu-v0x68d"
      },
      "source": [
        "#Load your packages\n",
        "import numpy as np\n",
        "from scipy import integrate\n",
        "import matplotlib.pyplot as plt\n",
        "import pandas as pa\n",
        "import math\n",
        "\n",
        "\n",
        "%matplotlib inline"
      ],
      "execution_count": 6,
      "outputs": []
    },
    {
      "cell_type": "markdown",
      "metadata": {
        "id": "MfRcJkCD9y4x"
      },
      "source": [
        "Let's revisit our original function $f(x) = \\sin x$ and investigate the the first hump and its area,\n",
        "$$\n",
        "A = \\int_0^\\pi \\sin x\\ dx\n",
        "$$"
      ]
    },
    {
      "cell_type": "code",
      "metadata": {
        "id": "iA8iZdtDx69R",
        "outputId": "ca4c91d9-7ac0-46b9-d74f-3c943ca51bda",
        "colab": {
          "base_uri": "https://localhost:8080/",
          "height": 283
        }
      },
      "source": [
        "x = np.arange( 0,3.15,.1)\n",
        "plt.plot(x,np.sin(x))"
      ],
      "execution_count": null,
      "outputs": [
        {
          "output_type": "execute_result",
          "data": {
            "text/plain": [
              "[<matplotlib.lines.Line2D at 0x7fe97ca9c4e0>]"
            ]
          },
          "metadata": {
            "tags": []
          },
          "execution_count": 4
        },
        {
          "output_type": "display_data",
          "data": {
            "image/png": "[encoded data removed]",
            "text/plain": [
              "<Figure size 432x288 with 1 Axes>"
            ]
          },
          "metadata": {
            "tags": [],
            "needs_background": "light"
          }
        }
      ]
    },
    {
      "cell_type": "markdown",
      "metadata": {
        "id": "TjX-jPs5-lVW"
      },
      "source": [
        "To get the actual area, we preform the integration using the scipy package (technically this is a numerical calculation...)"
      ]
    },
    {
      "cell_type": "code",
      "metadata": {
        "id": "NKSpiQUtx69n",
        "outputId": "e832057b-eeb1-46f4-b41e-ef06a6dbff73",
        "colab": {
          "base_uri": "https://localhost:8080/"
        }
      },
      "source": [
        "integrate.quad(np.sin ,0,np.pi)"
      ],
      "execution_count": null,
      "outputs": [
        {
          "output_type": "execute_result",
          "data": {
            "text/plain": [
              "(2.0, 2.220446049250313e-14)"
            ]
          },
          "metadata": {
            "tags": []
          },
          "execution_count": 7
        }
      ]
    },
    {
      "cell_type": "markdown",
      "metadata": {
        "id": "GGXFWKXYAOgz"
      },
      "source": [
        "Lets do it by hand!\n",
        "\n",
        "$$\n",
        "\\begin{align}\n",
        "A &= \\int_0^\\pi \\sin x \\ dx\\\\\n",
        "&= -\\cos x\\vert_0^\\pi\\\\\n",
        "&= -\\cos\\pi+\\cos 0\\\\\n",
        "&= 2 \n",
        "\\end{align}\n",
        "$$"
      ]
    },
    {
      "cell_type": "markdown",
      "metadata": {
        "id": "sqv4N3afx6-B"
      },
      "source": [
        "## Numerical Integration:  Riemann Sum"
      ]
    },
    {
      "cell_type": "markdown",
      "metadata": {
        "id": "iS1dxTeGeIqT"
      },
      "source": [
        "There are three different Riemann Sums, a left, center and right.  Essentially you compute the area under the curve by creating $n$ little rectangles of equal width, $\\Delta x = \\frac{b-a}n$, computing the height using the function of interest chosing the point consistently.\n",
        "\n",
        "$$\n",
        "A\\approx \\sum_{i=1}^n f(a+i\\Delta x)\\Delta x\n",
        "$$"
      ]
    },
    {
      "cell_type": "code",
      "metadata": {
        "id": "qa7g2po9eSpz"
      },
      "source": [
        "def deltax(a,b,n):\n",
        "  return (b-a)/n\n",
        "\n",
        "def riemannSum(function,a,b,n,indicator = 'right'):\n",
        "  dx = deltax(a,b,n)\n",
        "  if indicator == 'right':\n",
        "    start = 1\n",
        "  elif indicator == 'left':\n",
        "    start = 0\n",
        "  elif indicator == 'mid':\n",
        "    start = 0.5\n",
        "  sum = 0\n",
        "  for j in np.arange(start,n+start):\n",
        "    sum = sum + function(a + j*dx)*dx\n",
        "  return sum\n",
        "\n"
      ],
      "execution_count": 13,
      "outputs": []
    },
    {
      "cell_type": "code",
      "metadata": {
        "id": "WkNUZL9hhy9p",
        "outputId": "19747850-50d9-469c-9d08-6fdba9edcffd",
        "colab": {
          "base_uri": "https://localhost:8080/",
          "height": 35
        }
      },
      "source": [
        "riemannSum(np.sin, 0,np.pi,10,'left')"
      ],
      "execution_count": 14,
      "outputs": [
        {
          "output_type": "execute_result",
          "data": {
            "text/plain": [
              "1.9835235375094544"
            ]
          },
          "metadata": {
            "tags": []
          },
          "execution_count": 14
        }
      ]
    },
    {
      "cell_type": "code",
      "metadata": {
        "id": "s7cmPeNeimkp",
        "outputId": "ef024dc0-d753-4677-a98a-3d8e1ffc368c",
        "colab": {
          "base_uri": "https://localhost:8080/",
          "height": 35
        }
      },
      "source": [
        "riemannSum(np.sin,0,np.pi,10,'mid')"
      ],
      "execution_count": 15,
      "outputs": [
        {
          "output_type": "execute_result",
          "data": {
            "text/plain": [
              "2.0082484079079745"
            ]
          },
          "metadata": {
            "tags": []
          },
          "execution_count": 15
        }
      ]
    },
    {
      "cell_type": "markdown",
      "metadata": {
        "id": "6A7wvs_iZ4-e"
      },
      "source": [
        "##Simpson's $\\frac13$ Rule"
      ]
    },
    {
      "cell_type": "markdown",
      "metadata": {
        "id": "osa8QBWViqO1"
      },
      "source": [
        "Simpson's $\\frac 13$ rule states that \n",
        "$$\n",
        "\\int_a^b f(x)\\ dx\n",
        "\\approx \n",
        "\\frac{\\Delta x}3 \n",
        "\\left[\n",
        "f(a)\n",
        "+\n",
        "4\\sum_{odd} f(x_i)\n",
        "+\n",
        "2\\sum_{even} f(x_i)\n",
        "+\n",
        "f(b)\n",
        "\\right]\n",
        "$$"
      ]
    },
    {
      "cell_type": "code",
      "metadata": {
        "id": "F-mQVrZOXXRh"
      },
      "source": [
        "def simpson(function, a, b , n):\n",
        "  dx = deltax(a,b,n)\n",
        "  sum = 0\n",
        "  for i in range(1,n,2): #odds\n",
        "    sum = sum + 4*function(a+dx*i)\n",
        "  for i in range(0,n,2): #evens\n",
        "    sum = sum + 2*function(a+dx*i)\n",
        "  for i in [a,b]: #endpoints\n",
        "    sum = sum + function(i)\n",
        "  sum = dx /3 *sum #multiply by the width/3\n",
        "  return sum"
      ],
      "execution_count": 21,
      "outputs": []
    },
    {
      "cell_type": "code",
      "metadata": {
        "id": "miEbQBMSjp-D",
        "outputId": "5db7e21e-0246-4c3f-8c21-09a2f5aa9141",
        "colab": {
          "base_uri": "https://localhost:8080/",
          "height": 35
        }
      },
      "source": [
        "simpson(np.sin, 0 , np.pi,1000)"
      ],
      "execution_count": 24,
      "outputs": [
        {
          "output_type": "execute_result",
          "data": {
            "text/plain": [
              "2.0000000000010787"
            ]
          },
          "metadata": {
            "tags": []
          },
          "execution_count": 24
        }
      ]
    },
    {
      "cell_type": "code",
      "metadata": {
        "id": "BhY4JgWXkPuy"
      },
      "source": [
        ""
      ],
      "execution_count": null,
      "outputs": []
    }
  ]
}