{
  "nbformat": 4,
  "nbformat_minor": 0,
  "metadata": {
    "colab": {
      "name": "Untitled0.ipynb",
      "provenance": [],
      "include_colab_link": true
    },
    "kernelspec": {
      "name": "python3",
      "display_name": "Python 3"
    }
  },
  "cells": [
    {
      "cell_type": "markdown",
      "metadata": {
        "id": "view-in-github",
        "colab_type": "text"
      },
      "source": [
        "<a href=\"https://colab.research.google.com/github/nurfnick/Numerical_Methods/blob/master/ProjectPart4.ipynb\" target=\"_parent\"><img src=\"https://colab.research.google.com/assets/colab-badge.svg\" alt=\"Open In Colab\"/></a>"
      ]
    },
    {
      "cell_type": "markdown",
      "metadata": {
        "id": "YCJaepmmfKrS"
      },
      "source": [
        "# Project Part 4\n",
        "\n"
      ]
    },
    {
      "cell_type": "markdown",
      "metadata": {
        "id": "2z6U1aB_fQDM"
      },
      "source": [
        "I don't need lots of the pieces from earlier assignments so I will not include them here."
      ]
    },
    {
      "cell_type": "code",
      "metadata": {
        "id": "rU_BgC_kfH7g"
      },
      "source": [
        "import math\n",
        "import numpy as np"
      ],
      "execution_count": 2,
      "outputs": []
    },
    {
      "cell_type": "markdown",
      "metadata": {
        "id": "_7RoPTU_hXG1"
      },
      "source": [
        "## Gauss-Jordan Method"
      ]
    },
    {
      "cell_type": "markdown",
      "metadata": {
        "id": "MMXFYCZ6hajg"
      },
      "source": [
        "The Gauss-Jordan elimination method is all about solving linear systems of equations.  Something of the form\n",
        "$$\n",
        "\\left\\{\n",
        "\\begin{align}\n",
        "a_{1,1} x_1 +&\\dots a_{1,n} x_n = y_1\\\\\n",
        "&\\vdots\\\\\n",
        "a_{n,1}x_1+&\\dots a_{n,n} x_n = y_n\n",
        "\\end{align}\n",
        "\\right.\n",
        "$$\n",
        "\n",
        "First thing we need to figure out is how to create an augmented matrix from this!\n",
        "\n",
        "$$\n",
        "\\left[\n",
        "\\begin{array}{ccc|c}\n",
        "a_{1,1} & \\dots & a_{1,n} & y_1\\\\\n",
        "\\vdots&\\ddots&\\vdots&\\vdots\\\\\n",
        "a_{n,1} &\\dots& a_{n,n}&y_n\n",
        "\\end{array}\n",
        "\\right]\n",
        "$$\n",
        "And how to deal with this matrix!"
      ]
    },
    {
      "cell_type": "code",
      "metadata": {
        "id": "Du7TNJajhZwx",
        "outputId": "272d133c-0e02-4acc-865d-412f4756ee0c",
        "colab": {
          "base_uri": "https://localhost:8080/",
          "height": 54
        }
      },
      "source": [
        "A = np.array([[1,2,3],[2,3,4]])\n",
        "\n",
        "A"
      ],
      "execution_count": 3,
      "outputs": [
        {
          "output_type": "execute_result",
          "data": {
            "text/plain": [
              "array([[1, 2, 3],\n",
              "       [2, 3, 4]])"
            ]
          },
          "metadata": {
            "tags": []
          },
          "execution_count": 3
        }
      ]
    },
    {
      "cell_type": "code",
      "metadata": {
        "id": "mXH8EPIS7gfN"
      },
      "source": [
        "def addRows(matrix,targetRow, modifierRow, value):\n",
        "  newRow = matrix[targetRow,:]+value*matrix[modifierRow,:]\n",
        "  newMatrix = []\n",
        "  for i in range(len(matrix)):\n",
        "    if i != targetRow:\n",
        "      newMatrix.append(matrix[i,:])\n",
        "    else:\n",
        "      newMatrix.append(newRow)\n",
        "  return np.array(newMatrix)\n",
        "\n"
      ],
      "execution_count": 4,
      "outputs": []
    },
    {
      "cell_type": "code",
      "metadata": {
        "id": "MNEpowDVgpCk",
        "outputId": "2799ccdd-eaff-4c01-9841-bb477c195c2b",
        "colab": {
          "base_uri": "https://localhost:8080/",
          "height": 54
        }
      },
      "source": [
        "addRows(A,0,1,10)"
      ],
      "execution_count": 5,
      "outputs": [
        {
          "output_type": "execute_result",
          "data": {
            "text/plain": [
              "array([[21, 32, 43],\n",
              "       [ 2,  3,  4]])"
            ]
          },
          "metadata": {
            "tags": []
          },
          "execution_count": 5
        }
      ]
    },
    {
      "cell_type": "code",
      "metadata": {
        "id": "ZBMIkTWCgtO4"
      },
      "source": [
        "def swapRows(matrix,row1,row2):\n",
        "  newMatrix = []\n",
        "  for i in range(len(matrix)):\n",
        "    if i == row1:\n",
        "      newMatrix.append(matrix[row2,:])\n",
        "    elif i == row2:\n",
        "      newMatrix.append(matrix[row1,:])\n",
        "    else:\n",
        "      newMatrix.append(matrix[i,:])\n",
        "  return np.array(newMatrix)\n",
        "\n"
      ],
      "execution_count": 6,
      "outputs": []
    },
    {
      "cell_type": "code",
      "metadata": {
        "id": "xGDKojnSkjmb",
        "outputId": "32674dbf-979b-442f-874f-e82dc55a75a0",
        "colab": {
          "base_uri": "https://localhost:8080/",
          "height": 54
        }
      },
      "source": [
        "swapRows(A,0,1)"
      ],
      "execution_count": 7,
      "outputs": [
        {
          "output_type": "execute_result",
          "data": {
            "text/plain": [
              "array([[2, 3, 4],\n",
              "       [1, 2, 3]])"
            ]
          },
          "metadata": {
            "tags": []
          },
          "execution_count": 7
        }
      ]
    },
    {
      "cell_type": "code",
      "metadata": {
        "id": "tR_GxjdtLDt5"
      },
      "source": [
        "def changeToLeadingOne(matrix,row,column):\n",
        "  newMatrix =[]\n",
        "  for i in range(len(matrix)):\n",
        "    if i != row:\n",
        "      newMatrix.append(matrix[i,:])\n",
        "    else:\n",
        "      newMatrix.append(1/matrix[row,column]*matrix[row,:])\n",
        "  return np.array(newMatrix)\n"
      ],
      "execution_count": 8,
      "outputs": []
    },
    {
      "cell_type": "code",
      "metadata": {
        "id": "ALW0qC58L51n",
        "outputId": "03f0e70f-8cab-4393-8c5a-0b07c58d933b",
        "colab": {
          "base_uri": "https://localhost:8080/",
          "height": 54
        }
      },
      "source": [
        "changeToLeadingOne(A,1,0)"
      ],
      "execution_count": 9,
      "outputs": [
        {
          "output_type": "execute_result",
          "data": {
            "text/plain": [
              "array([[1. , 2. , 3. ],\n",
              "       [1. , 1.5, 2. ]])"
            ]
          },
          "metadata": {
            "tags": []
          },
          "execution_count": 9
        }
      ]
    },
    {
      "cell_type": "code",
      "metadata": {
        "id": "zfC0GLmvsINz"
      },
      "source": [
        "def gaussJordan(matrix):\n",
        "  newMatrix = matrix\n",
        "  for pivot in range(len(matrix)):\n",
        "    newMatrix = changeToLeadingOne(newMatrix,pivot,pivot)\n",
        "    for column in range(0,pivot):\n",
        "      newMatrix = addRows(newMatrix,column,pivot,-newMatrix[column,pivot])\n",
        "    for column in range(pivot+1,len(matrix)):\n",
        "      newMatrix = addRows(newMatrix,column,pivot,-newMatrix[column,pivot])\n",
        "  return newMatrix\n"
      ],
      "execution_count": 10,
      "outputs": []
    },
    {
      "cell_type": "code",
      "metadata": {
        "id": "ToHigBH_M6mX",
        "outputId": "766e21da-1f88-4768-acc6-c0e9c80e4aeb",
        "colab": {
          "base_uri": "https://localhost:8080/",
          "height": 54
        }
      },
      "source": [
        "gaussJordan(A)"
      ],
      "execution_count": 11,
      "outputs": [
        {
          "output_type": "execute_result",
          "data": {
            "text/plain": [
              "array([[ 1.,  0., -1.],\n",
              "       [-0.,  1.,  2.]])"
            ]
          },
          "metadata": {
            "tags": []
          },
          "execution_count": 11
        }
      ]
    },
    {
      "cell_type": "markdown",
      "metadata": {
        "id": "jlydwG48N3Kj"
      },
      "source": [
        "Let's try that again with a little more complicated matrix!"
      ]
    },
    {
      "cell_type": "code",
      "metadata": {
        "id": "dlXCzMIZQNIQ"
      },
      "source": [
        "B = np.array([[1,2,3,4],[2,3,4,5],[3,4,5,6]])"
      ],
      "execution_count": 12,
      "outputs": []
    },
    {
      "cell_type": "code",
      "metadata": {
        "id": "fOkoCmg8QUn3",
        "outputId": "dab71c8f-0098-4ac3-a7ed-d0fab2de38a7",
        "colab": {
          "base_uri": "https://localhost:8080/",
          "height": 146
        }
      },
      "source": [
        "gaussJordan(B)"
      ],
      "execution_count": 13,
      "outputs": [
        {
          "output_type": "stream",
          "text": [
            "/usr/local/lib/python3.6/dist-packages/ipykernel_launcher.py:7: RuntimeWarning: divide by zero encountered in double_scalars\n",
            "  import sys\n",
            "/usr/local/lib/python3.6/dist-packages/ipykernel_launcher.py:7: RuntimeWarning: invalid value encountered in multiply\n",
            "  import sys\n"
          ],
          "name": "stderr"
        },
        {
          "output_type": "execute_result",
          "data": {
            "text/plain": [
              "array([[nan, nan, nan, nan],\n",
              "       [nan, nan, nan, nan],\n",
              "       [nan, nan, nan, nan]])"
            ]
          },
          "metadata": {
            "tags": []
          },
          "execution_count": 13
        }
      ]
    },
    {
      "cell_type": "markdown",
      "metadata": {
        "id": "Xq_MCJ8crfly"
      },
      "source": [
        "Oh no!  What happened!  Let's follow the process and see where it went wrong.\n",
        "\n",
        "First we already have a leading 1 so I will somplify the other two"
      ]
    },
    {
      "cell_type": "code",
      "metadata": {
        "id": "LD_qfUvLQxVw",
        "outputId": "2486e3dc-c4bf-47e8-f885-31c9a9c6a2db",
        "colab": {
          "base_uri": "https://localhost:8080/",
          "height": 72
        }
      },
      "source": [
        "B = addRows(B,1,0,-2)\n",
        "B"
      ],
      "execution_count": 14,
      "outputs": [
        {
          "output_type": "execute_result",
          "data": {
            "text/plain": [
              "array([[ 1,  2,  3,  4],\n",
              "       [ 0, -1, -2, -3],\n",
              "       [ 3,  4,  5,  6]])"
            ]
          },
          "metadata": {
            "tags": []
          },
          "execution_count": 14
        }
      ]
    },
    {
      "cell_type": "code",
      "metadata": {
        "id": "Xw38FFzAQ-FE",
        "outputId": "205799c2-2a93-420f-be70-f5dce9211881",
        "colab": {
          "base_uri": "https://localhost:8080/",
          "height": 72
        }
      },
      "source": [
        "B = addRows(B,2,0,-3)\n",
        "B"
      ],
      "execution_count": 15,
      "outputs": [
        {
          "output_type": "execute_result",
          "data": {
            "text/plain": [
              "array([[ 1,  2,  3,  4],\n",
              "       [ 0, -1, -2, -3],\n",
              "       [ 0, -2, -4, -6]])"
            ]
          },
          "metadata": {
            "tags": []
          },
          "execution_count": 15
        }
      ]
    },
    {
      "cell_type": "code",
      "metadata": {
        "id": "TJL6L4DkQ9Vo",
        "outputId": "119251fb-210f-435a-9230-a3bf01d3b8fe",
        "colab": {
          "base_uri": "https://localhost:8080/",
          "height": 72
        }
      },
      "source": [
        "B = changeToLeadingOne(B,1,1)\n",
        "B"
      ],
      "execution_count": 16,
      "outputs": [
        {
          "output_type": "execute_result",
          "data": {
            "text/plain": [
              "array([[ 1.,  2.,  3.,  4.],\n",
              "       [-0.,  1.,  2.,  3.],\n",
              "       [ 0., -2., -4., -6.]])"
            ]
          },
          "metadata": {
            "tags": []
          },
          "execution_count": 16
        }
      ]
    },
    {
      "cell_type": "markdown",
      "metadata": {
        "id": "Niudi1h0RP7A"
      },
      "source": [
        "New leading one, what could go wrong!"
      ]
    },
    {
      "cell_type": "code",
      "metadata": {
        "id": "TbQcECWbROCg",
        "outputId": "ad61549f-de2c-4b0a-e69b-7435948ec6b6",
        "colab": {
          "base_uri": "https://localhost:8080/",
          "height": 72
        }
      },
      "source": [
        "B = addRows(B,0,1,-2)\n",
        "B"
      ],
      "execution_count": 17,
      "outputs": [
        {
          "output_type": "execute_result",
          "data": {
            "text/plain": [
              "array([[ 1.,  0., -1., -2.],\n",
              "       [-0.,  1.,  2.,  3.],\n",
              "       [ 0., -2., -4., -6.]])"
            ]
          },
          "metadata": {
            "tags": []
          },
          "execution_count": 17
        }
      ]
    },
    {
      "cell_type": "code",
      "metadata": {
        "id": "k5uzEchIRcmQ",
        "outputId": "9da1de78-7283-4dd7-f5bb-fd192e64647b",
        "colab": {
          "base_uri": "https://localhost:8080/",
          "height": 72
        }
      },
      "source": [
        "addRows(B,2,1,2)"
      ],
      "execution_count": 18,
      "outputs": [
        {
          "output_type": "execute_result",
          "data": {
            "text/plain": [
              "array([[ 1.,  0., -1., -2.],\n",
              "       [-0.,  1.,  2.,  3.],\n",
              "       [ 0.,  0.,  0.,  0.]])"
            ]
          },
          "metadata": {
            "tags": []
          },
          "execution_count": 18
        }
      ]
    },
    {
      "cell_type": "markdown",
      "metadata": {
        "id": "ABji4pF-RiiB"
      },
      "source": [
        "Here is the issue!  I get a full compliment of zeros.  While this system is still solvable, my method will fail because I cannot find another pivot (leading 1)  By the way the solution here is that\n",
        "$$\n",
        "\\begin{align}\n",
        "x &= -2+t\\\\\n",
        "y &= 3-2t\\\\\n",
        "z &= t\n",
        "\\end{align}\n",
        "$$\n",
        "\n",
        "$z$ the third variable can be what ever it wants but that determines what the rest must me."
      ]
    },
    {
      "cell_type": "markdown",
      "metadata": {
        "id": "WanbDLYy1TRm"
      },
      "source": [
        "##Computing Inverses"
      ]
    },
    {
      "cell_type": "markdown",
      "metadata": {
        "id": "4O8pRQ-51XF9"
      },
      "source": [
        "I am curious if I can get my algorithm to compute a matrix inverse.  The traditional method to doing this is to take your original square matrix and augment the identity matrix, then preform row ops until you ge the inverse.\n",
        "$$\n",
        "\\left[A|I\\right] \\to \\left[I|A^{-1}\\right]\n",
        "$$\n",
        "\n",
        "Let's try it on \n",
        "$$\n",
        "A=\\left[\n",
        "\\begin{array}{cc}\n",
        "1&2\\\\\n",
        "3&4\n",
        "\\end{array}\n",
        "\\right]\n",
        "$$\n"
      ]
    },
    {
      "cell_type": "code",
      "metadata": {
        "id": "TrE-n1Ha1SP3"
      },
      "source": [
        "C = np.array([[1,2,1,0],[3,4,0,1]])"
      ],
      "execution_count": 20,
      "outputs": []
    },
    {
      "cell_type": "code",
      "metadata": {
        "id": "1MvIypzO1K7x",
        "outputId": "f65e7e1b-fb5e-40df-80ac-fe28940c6064",
        "colab": {
          "base_uri": "https://localhost:8080/",
          "height": 54
        }
      },
      "source": [
        "gaussJordan(C)"
      ],
      "execution_count": 21,
      "outputs": [
        {
          "output_type": "execute_result",
          "data": {
            "text/plain": [
              "array([[ 1. ,  0. , -2. ,  1. ],\n",
              "       [-0. ,  1. ,  1.5, -0.5]])"
            ]
          },
          "metadata": {
            "tags": []
          },
          "execution_count": 21
        }
      ]
    },
    {
      "cell_type": "markdown",
      "metadata": {
        "id": "eGfgplcA2fqL"
      },
      "source": [
        "So I think $A^{-1}$ is\n",
        "$$\n",
        "A^{-1}=\\left[\n",
        "\\begin{array}{cc}\n",
        "-2&1\\\\\n",
        "1.5&-\\frac12\n",
        "\\end{array}\n",
        "\\right]\n",
        "$$\n",
        "Let's make python check it.  To multiply matricies you use the @ symbol"
      ]
    },
    {
      "cell_type": "code",
      "metadata": {
        "id": "WBDrp-Wq2cq7"
      },
      "source": [
        "Ainverse = np.array([[-2,1],[1.5,-.5]])\n",
        "Anew = np.array([[1,2],[3,4]])"
      ],
      "execution_count": 23,
      "outputs": []
    },
    {
      "cell_type": "code",
      "metadata": {
        "id": "oKn4px4s3DJD",
        "outputId": "7e2361fa-9c68-4750-abbc-08c3c185468a",
        "colab": {
          "base_uri": "https://localhost:8080/",
          "height": 54
        }
      },
      "source": [
        "Anew @ Ainverse"
      ],
      "execution_count": 24,
      "outputs": [
        {
          "output_type": "execute_result",
          "data": {
            "text/plain": [
              "array([[1., 0.],\n",
              "       [0., 1.]])"
            ]
          },
          "metadata": {
            "tags": []
          },
          "execution_count": 24
        }
      ]
    },
    {
      "cell_type": "markdown",
      "metadata": {
        "id": "qTdkc4zM3O2c"
      },
      "source": [
        "Sweet!"
      ]
    },
    {
      "cell_type": "markdown",
      "metadata": {
        "id": "VVC_pan43ZwE"
      },
      "source": [
        "##Using Some Packages in Python"
      ]
    },
    {
      "cell_type": "markdown",
      "metadata": {
        "id": "O5mjaMBu3o6N"
      },
      "source": [
        "I haven't used this package yet but scipy is for doing scientific computing in python.  Many of the programs we have created are premade in the scipy package"
      ]
    },
    {
      "cell_type": "code",
      "metadata": {
        "id": "_p-H2UvK3dzs",
        "outputId": "f3470611-d191-4a66-e879-4113b07aa8c7",
        "colab": {
          "base_uri": "https://localhost:8080/",
          "height": 54
        }
      },
      "source": [
        "import scipy.linalg as la\n",
        "\n",
        "la.inv(Anew)"
      ],
      "execution_count": 26,
      "outputs": [
        {
          "output_type": "execute_result",
          "data": {
            "text/plain": [
              "array([[-2. ,  1. ],\n",
              "       [ 1.5, -0.5]])"
            ]
          },
          "metadata": {
            "tags": []
          },
          "execution_count": 26
        }
      ]
    },
    {
      "cell_type": "code",
      "metadata": {
        "id": "pQmLUBCv35HW",
        "outputId": "fc203e28-853c-4f2b-89a2-d2f6dc67d7d7",
        "colab": {
          "base_uri": "https://localhost:8080/",
          "height": 35
        }
      },
      "source": [
        "la.solve(A[:,:2],A[:,2])#Using the original A giving it the coeffiecient and then the solutions."
      ],
      "execution_count": 28,
      "outputs": [
        {
          "output_type": "execute_result",
          "data": {
            "text/plain": [
              "array([-1.,  2.])"
            ]
          },
          "metadata": {
            "tags": []
          },
          "execution_count": 28
        }
      ]
    },
    {
      "cell_type": "code",
      "metadata": {
        "id": "lLO6Lkh04XZO"
      },
      "source": [
        ""
      ],
      "execution_count": null,
      "outputs": []
    }
  ]
}