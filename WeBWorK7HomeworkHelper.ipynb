{
  "nbformat": 4,
  "nbformat_minor": 0,
  "metadata": {
    "colab": {
      "name": "Untitled15.ipynb",
      "provenance": [],
      "authorship_tag": "ABX9TyPhPHbmjp48eHNceTo3CUGF",
      "include_colab_link": true
    },
    "kernelspec": {
      "name": "python3",
      "display_name": "Python 3"
    }
  },
  "cells": [
    {
      "cell_type": "markdown",
      "metadata": {
        "id": "view-in-github",
        "colab_type": "text"
      },
      "source": [
        "<a href=\"https://colab.research.google.com/github/nurfnick/Numerical_Methods/blob/master/WeBWorK7HomeworkHelper.ipynb\" target=\"_parent\"><img src=\"https://colab.research.google.com/assets/colab-badge.svg\" alt=\"Open In Colab\"/></a>"
      ]
    },
    {
      "cell_type": "markdown",
      "metadata": {
        "id": "1QM2-ueehDX4"
      },
      "source": [
        "# WeBWorK 7 Homework Helper"
      ]
    },
    {
      "cell_type": "markdown",
      "metadata": {
        "id": "DmA3JMbqhH87"
      },
      "source": [
        "## WeBWorK 1\r\n",
        "\r\n",
        "The rectangles in the graph below illustrate a left endpoint Riemann sum for $f(x)=−\\frac {x^2}4+2x$ on the interval $[2,6]$.\r\n",
        "The value of this left endpoint Riemann sum is?\r\n",
        "\r\n",
        "![image.png](data:image/png;base64,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)\r\n",
        "\r\n",
        "\r\n"
      ]
    },
    {
      "cell_type": "markdown",
      "metadata": {
        "id": "p7bxd10Th-dF"
      },
      "source": [
        "Here there are 8 rectangles using the left value.  Let's define the function and preform the sum."
      ]
    },
    {
      "cell_type": "code",
      "metadata": {
        "colab": {
          "base_uri": "https://localhost:8080/"
        },
        "id": "MQ_MxqELhAP0",
        "outputId": "0b418fb6-ea75-4c45-b37d-d866de1f8481"
      },
      "source": [
        "def f(x):\r\n",
        "  return -x**2/4+2*x\r\n",
        "\r\n",
        "sum =0\r\n",
        "for i in range(8):\r\n",
        "  sum = sum + (6-2)/8*f(2+i*(6-2)/8)\r\n",
        "\r\n",
        "sum"
      ],
      "execution_count": 16,
      "outputs": [
        {
          "output_type": "execute_result",
          "data": {
            "text/plain": [
              "14.625"
            ]
          },
          "metadata": {
            "tags": []
          },
          "execution_count": 16
        }
      ]
    },
    {
      "cell_type": "markdown",
      "metadata": {
        "id": "w539V_rDij8l"
      },
      "source": [
        "The rectangles in the graph below illustrate a right endpoint Riemann sum for f(x)=−x24+2x on the interval [2,6].\r\n",
        "The value of this right endpoint Riemann sum is?\r\n",
        "\r\n",
        "![image.png](data:image/png;base64,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)"
      ]
    },
    {
      "cell_type": "markdown",
      "metadata": {
        "id": "S4dFFPtAisTj"
      },
      "source": [
        "Again 8 rectangles but right endpoints.  I'll just shift my for loop to start at 1."
      ]
    },
    {
      "cell_type": "code",
      "metadata": {
        "colab": {
          "base_uri": "https://localhost:8080/"
        },
        "id": "K-xaPOFfh7gP",
        "outputId": "ef1383d5-d433-48b4-bc31-fe8f16e07cc1"
      },
      "source": [
        "sum =0\r\n",
        "for i in range(1,9):\r\n",
        "  sum = sum + (6-2)/8*f(2+i*(6-2)/8)\r\n",
        "\r\n",
        "sum"
      ],
      "execution_count": 17,
      "outputs": [
        {
          "output_type": "execute_result",
          "data": {
            "text/plain": [
              "14.625"
            ]
          },
          "metadata": {
            "tags": []
          },
          "execution_count": 17
        }
      ]
    },
    {
      "cell_type": "markdown",
      "metadata": {
        "id": "vtFvnIFvi-0E"
      },
      "source": [
        "Using the left and right Riemann sums above, we definitively conclude that\r\n",
        "\r\n",
        " $$\r\n",
        " \r\n",
        " ≤\\int_2^4−\\frac{x^2}4+2x\\ dx≤ \r\n",
        "$$\r\n",
        "\r\n",
        "\r\n",
        " $$\r\n",
        " \r\n",
        " ≤\\int_4^6−\\frac{x^2}4+2x\\ dx≤ \r\n",
        "$$\r\n",
        "\r\n",
        "\r\n",
        "\r\n",
        "\r\n",
        " $$\r\n",
        " \r\n",
        " ≤\\int_2^6−\\frac{x^2}4+2x\\ dx≤ \r\n",
        "$$\r\n"
      ]
    },
    {
      "cell_type": "markdown",
      "metadata": {
        "id": "6vD6iBLwjSVM"
      },
      "source": [
        "There are several things to do here.  Neither of the previous was it clear if they were an over or under estimate BUT on $[2,4]$ the first was under and the second over!  Let's redo those!"
      ]
    },
    {
      "cell_type": "code",
      "metadata": {
        "colab": {
          "base_uri": "https://localhost:8080/"
        },
        "id": "0rGzhQEbi5eM",
        "outputId": "9deaa70e-1409-4856-d643-32caf738c75d"
      },
      "source": [
        "sum =0\r\n",
        "for i in range(4):\r\n",
        "  sum = sum + (6-2)/8*f(2+i*(6-2)/8)\r\n",
        "\r\n",
        "sum #Under estimate"
      ],
      "execution_count": 18,
      "outputs": [
        {
          "output_type": "execute_result",
          "data": {
            "text/plain": [
              "7.0625"
            ]
          },
          "metadata": {
            "tags": []
          },
          "execution_count": 18
        }
      ]
    },
    {
      "cell_type": "code",
      "metadata": {
        "colab": {
          "base_uri": "https://localhost:8080/"
        },
        "id": "XNkEYKmkjp6N",
        "outputId": "7932c61e-a516-4b2a-9d39-7aca8a0d748b"
      },
      "source": [
        "sum =0\r\n",
        "for i in range(1,5):\r\n",
        "  sum = sum + (6-2)/8*f(2+i*(6-2)/8)\r\n",
        "\r\n",
        "sum #over estimate"
      ],
      "execution_count": 19,
      "outputs": [
        {
          "output_type": "execute_result",
          "data": {
            "text/plain": [
              "7.5625"
            ]
          },
          "metadata": {
            "tags": []
          },
          "execution_count": 19
        }
      ]
    },
    {
      "cell_type": "markdown",
      "metadata": {
        "id": "rs2GODaQj2ko"
      },
      "source": [
        "For the second bounds I do something similar"
      ]
    },
    {
      "cell_type": "code",
      "metadata": {
        "colab": {
          "base_uri": "https://localhost:8080/"
        },
        "id": "c1lYYR5hjuAl",
        "outputId": "82faad7c-0074-443d-9b42-9f7fd1caee12"
      },
      "source": [
        "sum =0\r\n",
        "for i in range(4,8):\r\n",
        "  sum = sum + (6-2)/8*f(2+i*(6-2)/8)\r\n",
        "\r\n",
        "sum #over estimate (left points)"
      ],
      "execution_count": 20,
      "outputs": [
        {
          "output_type": "execute_result",
          "data": {
            "text/plain": [
              "7.5625"
            ]
          },
          "metadata": {
            "tags": []
          },
          "execution_count": 20
        }
      ]
    },
    {
      "cell_type": "code",
      "metadata": {
        "colab": {
          "base_uri": "https://localhost:8080/"
        },
        "id": "yHu0ViXokCc-",
        "outputId": "3fdd78e4-c7cd-4486-c183-70ce9cd3d6c5"
      },
      "source": [
        "sum =0\r\n",
        "for i in range(5,9):\r\n",
        "  sum = sum + (6-2)/8*f(2+i*(6-2)/8)\r\n",
        "\r\n",
        "sum #Under estimate (right points)"
      ],
      "execution_count": 21,
      "outputs": [
        {
          "output_type": "execute_result",
          "data": {
            "text/plain": [
              "7.0625"
            ]
          },
          "metadata": {
            "tags": []
          },
          "execution_count": 21
        }
      ]
    },
    {
      "cell_type": "markdown",
      "metadata": {
        "id": "fVOXnxVhkL2o"
      },
      "source": [
        "All that is left is the bound on the last integral!  They are simply the sum of the previous bounds!  2*7.0625 and 2*7.5625"
      ]
    },
    {
      "cell_type": "code",
      "metadata": {
        "colab": {
          "base_uri": "https://localhost:8080/"
        },
        "id": "UBOnKpt8kG7U",
        "outputId": "679774e4-7279-4f29-f357-c04a393cba93"
      },
      "source": [
        "print( 2*7.0625, 2*7.5625)"
      ],
      "execution_count": 22,
      "outputs": [
        {
          "output_type": "stream",
          "text": [
            "14.125 15.125\n"
          ],
          "name": "stdout"
        }
      ]
    },
    {
      "cell_type": "markdown",
      "metadata": {
        "id": "BZqF4exlkq5G"
      },
      "source": [
        "## WeBWorK 6\r\n",
        "\r\n",
        "Using the graph of $3+\\cos(5x)$, for $0\\leq x\\leq \\frac{3\\pi}5$, list the following quantities in increasing order:\r\n",
        "\r\n",
        "1. the value of the integral $\\int_0^{\\frac{3\\pi}5}(3+\\cos(5x))dx$,\r\n",
        "2. the left sum with n=3 subdivisions, and\r\n",
        "3. the right sum with n=3 subdivisions."
      ]
    },
    {
      "cell_type": "code",
      "metadata": {
        "colab": {
          "base_uri": "https://localhost:8080/",
          "height": 283
        },
        "id": "BQkj_3yokaxN",
        "outputId": "4a206e49-ebe9-44a6-ff38-cc15c0f02b5e"
      },
      "source": [
        "import matplotlib.pyplot as plt\r\n",
        "import numpy as np\r\n",
        "\r\n",
        "x = np.arange(0,3*np.pi/5,.01)\r\n",
        "y = 3+np.cos(5*x)\r\n",
        "plt.plot(x,y)"
      ],
      "execution_count": 23,
      "outputs": [
        {
          "output_type": "execute_result",
          "data": {
            "text/plain": [
              "[<matplotlib.lines.Line2D at 0x7f6bfee2c1d0>]"
            ]
          },
          "metadata": {
            "tags": []
          },
          "execution_count": 23
        },
        {
          "output_type": "display_data",
          "data": {
            "image/png": "[encoded data removed]",
            "text/plain": [
              "<Figure size 432x288 with 1 Axes>"
            ]
          },
          "metadata": {
            "tags": [],
            "needs_background": "light"
          }
        }
      ]
    },
    {
      "cell_type": "markdown",
      "metadata": {
        "id": "X4aMhQjqlqNw"
      },
      "source": [
        "So I thought by looking at the graph I would know how the function behaves but I don't!  Let's compute the three points for each division!"
      ]
    },
    {
      "cell_type": "code",
      "metadata": {
        "id": "NNdaD-KWlcSA"
      },
      "source": [
        "x2 = np.linspace(0,3*np.pi/5,4)\r\n",
        "y2 = 3+np.cos(5*x2)"
      ],
      "execution_count": 24,
      "outputs": []
    },
    {
      "cell_type": "code",
      "metadata": {
        "colab": {
          "base_uri": "https://localhost:8080/",
          "height": 299
        },
        "id": "vIQiFLakmRYQ",
        "outputId": "3654da42-ca9a-4d40-cde8-91e007d8e3a2"
      },
      "source": [
        "plt.bar(x2[:-1],y2[:-1],width = np.pi/5, alpha = 0.2, align = 'edge', edgecolor = 'b')\r\n",
        "plt.plot(x,y)\r\n",
        "plt.title('Left End Points')"
      ],
      "execution_count": 25,
      "outputs": [
        {
          "output_type": "execute_result",
          "data": {
            "text/plain": [
              "Text(0.5, 1.0, 'Left End Points')"
            ]
          },
          "metadata": {
            "tags": []
          },
          "execution_count": 25
        },
        {
          "output_type": "display_data",
          "data": {
            "image/png": "[encoded data removed]",
            "text/plain": [
              "<Figure size 432x288 with 1 Axes>"
            ]
          },
          "metadata": {
            "tags": [],
            "needs_background": "light"
          }
        }
      ]
    },
    {
      "cell_type": "code",
      "metadata": {
        "colab": {
          "base_uri": "https://localhost:8080/",
          "height": 299
        },
        "id": "feCvvnEDm1vh",
        "outputId": "7bfeafa4-1fc2-46b4-c028-a7f26af214da"
      },
      "source": [
        "plt.bar(x2[1:],y2[1:],width = -np.pi/5, alpha = 0.2, align = 'edge', edgecolor = 'b')\r\n",
        "plt.plot(x,y)\r\n",
        "plt.title('Right End Points')"
      ],
      "execution_count": 26,
      "outputs": [
        {
          "output_type": "execute_result",
          "data": {
            "text/plain": [
              "Text(0.5, 1.0, 'Right End Points')"
            ]
          },
          "metadata": {
            "tags": []
          },
          "execution_count": 26
        },
        {
          "output_type": "display_data",
          "data": {
            "image/png": "[encoded data removed]",
            "text/plain": [
              "<Figure size 432x288 with 1 Axes>"
            ]
          },
          "metadata": {
            "tags": [],
            "needs_background": "light"
          }
        }
      ]
    },
    {
      "cell_type": "markdown",
      "metadata": {
        "id": "HpdBDVSEot07"
      },
      "source": [
        "So clearly the left end points are an over estimation, right are an under estimation!  I'll use python to compute the integral even though I could do it by hand..."
      ]
    },
    {
      "cell_type": "code",
      "metadata": {
        "colab": {
          "base_uri": "https://localhost:8080/"
        },
        "id": "-qKIKRlzofqS",
        "outputId": "6443b49a-dd7b-4d1b-89aa-c7d0ff134dc7"
      },
      "source": [
        "from scipy import integrate\r\n",
        "\r\n",
        "integrate.quad(lambda x: 3+np.cos(5*x),0,3*np.pi/5)"
      ],
      "execution_count": 27,
      "outputs": [
        {
          "output_type": "execute_result",
          "data": {
            "text/plain": [
              "(5.654866776461628, 6.278163296415537e-14)"
            ]
          },
          "metadata": {
            "tags": []
          },
          "execution_count": 27
        }
      ]
    },
    {
      "cell_type": "markdown",
      "metadata": {
        "id": "1ahxIt7e7YqP"
      },
      "source": [
        "## Adding My Functions\r\n",
        "\r\n",
        "I've already created some of the functions for doing this in my version of the project so I am going to bring them over and quit doing these the hard way but use the package I already have built!"
      ]
    },
    {
      "cell_type": "code",
      "metadata": {
        "id": "YEbn1DWdpLl7"
      },
      "source": [
        "def deltax(a,b,n):\r\n",
        "  return (b-a)/n\r\n",
        "\r\n",
        "def riemannSum(function,a,b,n,indicator = 'right'):\r\n",
        "  dx = deltax(a,b,n)\r\n",
        "  if indicator == 'right':\r\n",
        "    start = 1\r\n",
        "  elif indicator == 'left':\r\n",
        "    start = 0\r\n",
        "  elif indicator == 'mid':\r\n",
        "    start = 0.5\r\n",
        "  sum = 0\r\n",
        "  for j in np.arange(start,n+start):\r\n",
        "    sum = sum + function(a + j*dx)*dx\r\n",
        "  return sum\r\n",
        "\r\n",
        "def simpson(function, a, b , n):\r\n",
        "  dx = deltax(a,b,n)\r\n",
        "  sum = 0\r\n",
        "  for i in range(1,n,2): #odds\r\n",
        "    sum = sum + 4*function(a+dx*i)\r\n",
        "  for i in range(0,n,2): #evens\r\n",
        "    sum = sum + 2*function(a+dx*i)\r\n",
        "  for i in [a,b]: #endpoints\r\n",
        "    sum = sum + function(i)\r\n",
        "  sum = dx /3 *sum #multiply by the width/3\r\n",
        "  return sum\r\n",
        "\r\n",
        "def trap (function, a, b, n):\r\n",
        "  dx = deltax(a,b,n)\r\n",
        "  sum = 0\r\n",
        "  for i in range(1,n):\r\n",
        "    sum = sum + 2*function(a+i*dx)\r\n",
        "  for i in [a,b]:\r\n",
        "    sum = sum +function(i)\r\n",
        "  sum = dx/2 *sum\r\n",
        "  return sum\r\n"
      ],
      "execution_count": 28,
      "outputs": []
    },
    {
      "cell_type": "markdown",
      "metadata": {
        "id": "zQqsYpIQ71nr"
      },
      "source": [
        "## WeBWorK 8 \r\n",
        "\r\n",
        "Estimate $\\int_{0}^{1} {\\cos(x^2)}\\ dx$ using (a) the Trapezoidal Rule and (b) the Midpoint Rule, each with n = 4. Give each answer correct to five decimal places."
      ]
    },
    {
      "cell_type": "markdown",
      "metadata": {
        "id": "VEarp3DA8FSD"
      },
      "source": [
        "Using these functions makes my life really easy..."
      ]
    },
    {
      "cell_type": "code",
      "metadata": {
        "id": "79Oxa28j7zSF",
        "colab": {
          "base_uri": "https://localhost:8080/"
        },
        "outputId": "28bab5d1-41cf-415d-fc5f-b04c8354c577"
      },
      "source": [
        "f = lambda x: np.cos(x**2)\r\n",
        "trap(f, 0,1,4)"
      ],
      "execution_count": 29,
      "outputs": [
        {
          "output_type": "execute_result",
          "data": {
            "text/plain": [
              "0.8957588961439704"
            ]
          },
          "metadata": {
            "tags": []
          },
          "execution_count": 29
        }
      ]
    },
    {
      "cell_type": "code",
      "metadata": {
        "id": "FdjhPebg8O-L",
        "colab": {
          "base_uri": "https://localhost:8080/"
        },
        "outputId": "89b52ad3-ad20-4b7a-c35d-c2b59a8ca7f8"
      },
      "source": [
        "riemannSum(f,0,1,4,indicator='mid')"
      ],
      "execution_count": 30,
      "outputs": [
        {
          "output_type": "execute_result",
          "data": {
            "text/plain": [
              "0.9089067907384616"
            ]
          },
          "metadata": {
            "tags": []
          },
          "execution_count": 30
        }
      ]
    },
    {
      "cell_type": "code",
      "metadata": {
        "id": "2KUHl7v38lIm",
        "colab": {
          "base_uri": "https://localhost:8080/",
          "height": 283
        },
        "outputId": "bdd1918a-b5ea-4af8-c622-f288e957fc10"
      },
      "source": [
        "x = np.arange(0,1,.01)\r\n",
        "y = f(x)\r\n",
        "x2 = np.linspace(0,1,5)+1/8\r\n",
        "y2 = f(x2)\r\n",
        "\r\n",
        "\r\n",
        "plt.bar(x2[:-1]-1/8,y2[:-1],width = 1/4, alpha = 0.2, align = 'edge', edgecolor = 'b')\r\n",
        "plt.scatter(x2[:-1],y2[:-1])\r\n",
        "plt.plot(x,y)"
      ],
      "execution_count": 41,
      "outputs": [
        {
          "output_type": "execute_result",
          "data": {
            "text/plain": [
              "[<matplotlib.lines.Line2D at 0x7f6bf2309e48>]"
            ]
          },
          "metadata": {
            "tags": []
          },
          "execution_count": 41
        },
        {
          "output_type": "display_data",
          "data": {
            "image/png": "[encoded data removed]",
            "text/plain": [
              "<Figure size 432x288 with 1 Axes>"
            ]
          },
          "metadata": {
            "tags": [],
            "needs_background": "light"
          }
        }
      ]
    },
    {
      "cell_type": "code",
      "metadata": {
        "id": "H9Pn3_A180Oj",
        "outputId": "4abfa159-b4dd-4d6d-ca2d-33e084f5ae77",
        "colab": {
          "base_uri": "https://localhost:8080/",
          "height": 283
        }
      },
      "source": [
        "x3 = np.linspace(0,1,5)\r\n",
        "y3 = f(x3)\r\n",
        "for i in range(4):\r\n",
        "  plt.fill_between([x3[i],x3[i+1]],[y3[i],y3[i+1]],alpha = 0.2, edgecolor = 'b')\r\n",
        "plt.scatter(x3,y3)\r\n",
        "plt.plot(x,y)"
      ],
      "execution_count": 39,
      "outputs": [
        {
          "output_type": "execute_result",
          "data": {
            "text/plain": [
              "[<matplotlib.lines.Line2D at 0x7f6bf23b0da0>]"
            ]
          },
          "metadata": {
            "tags": []
          },
          "execution_count": 39
        },
        {
          "output_type": "display_data",
          "data": {
            "image/png": "[encoded data removed]",
            "text/plain": [
              "<Figure size 432x288 with 1 Axes>"
            ]
          },
          "metadata": {
            "tags": [],
            "needs_background": "light"
          }
        }
      ]
    },
    {
      "cell_type": "markdown",
      "metadata": {
        "id": "YR-LcuM-cGqT"
      },
      "source": [
        "Sorry for the clown looking visualization, it is what I get for doing the for loop instead of typing them all out.\r\n",
        "\r\n",
        "In any case we see that the midpoint is an overestimate and the trapazoid is an underestimate"
      ]
    },
    {
      "cell_type": "code",
      "metadata": {
        "id": "8IdrvkegbsiF"
      },
      "source": [
        ""
      ],
      "execution_count": null,
      "outputs": []
    }
  ]
}