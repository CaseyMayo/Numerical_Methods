{
  "nbformat": 4,
  "nbformat_minor": 0,
  "metadata": {
    "colab": {
      "name": "Untitled0.ipynb",
      "provenance": [],
      "include_colab_link": true
    },
    "kernelspec": {
      "name": "python3",
      "display_name": "Python 3"
    }
  },
  "cells": [
    {
      "cell_type": "markdown",
      "metadata": {
        "id": "view-in-github",
        "colab_type": "text"
      },
      "source": [
        "<a href=\"https://colab.research.google.com/github/nurfnick/Numerical_Methods/blob/master/ProjectPart5.ipynb\" target=\"_parent\"><img src=\"https://colab.research.google.com/assets/colab-badge.svg\" alt=\"Open In Colab\"/></a>"
      ]
    },
    {
      "cell_type": "markdown",
      "metadata": {
        "id": "YCJaepmmfKrS"
      },
      "source": [
        "# Project Part 5\n",
        "\n"
      ]
    },
    {
      "cell_type": "markdown",
      "metadata": {
        "id": "2z6U1aB_fQDM"
      },
      "source": [
        "I will need my Gauss-Jordan algorithm from project part 4 so I will copy that code here."
      ]
    },
    {
      "cell_type": "code",
      "metadata": {
        "id": "rU_BgC_kfH7g"
      },
      "source": [
        "import math\n",
        "import numpy as np\n",
        "import scipy.linalg as la\n",
        "\n",
        "def addRows(matrix,targetRow, modifierRow, value):\n",
        "  newRow = matrix[targetRow,:]+value*matrix[modifierRow,:]\n",
        "  newMatrix = []\n",
        "  for i in range(len(matrix)):\n",
        "    if i != targetRow:\n",
        "      newMatrix.append(matrix[i,:])\n",
        "    else:\n",
        "      newMatrix.append(newRow)\n",
        "  return np.array(newMatrix)\n",
        "\n",
        "\n",
        "def changeToLeadingOne(matrix,row,column):\n",
        "  newMatrix =[]\n",
        "  for i in range(len(matrix)):\n",
        "    if i != row:\n",
        "      newMatrix.append(matrix[i,:])\n",
        "    else:\n",
        "      newMatrix.append(1/matrix[row,column]*matrix[row,:])\n",
        "  return np.array(newMatrix)\n",
        "\n",
        "\n",
        "def gaussJordan(matrix):\n",
        "  newMatrix = matrix\n",
        "  for pivot in range(len(matrix)):\n",
        "    newMatrix = changeToLeadingOne(newMatrix,pivot,pivot)\n",
        "    for column in range(0,pivot):\n",
        "      newMatrix = addRows(newMatrix,column,pivot,-newMatrix[column,pivot])\n",
        "    for column in range(pivot+1,len(matrix)):\n",
        "      newMatrix = addRows(newMatrix,column,pivot,-newMatrix[column,pivot])\n",
        "  return newMatrix"
      ],
      "execution_count": 18,
      "outputs": []
    },
    {
      "cell_type": "markdown",
      "metadata": {
        "id": "_7RoPTU_hXG1"
      },
      "source": [
        "## Direct Method"
      ]
    },
    {
      "cell_type": "markdown",
      "metadata": {
        "id": "MMXFYCZ6hajg"
      },
      "source": [
        "To solve the direct method interpolation, we simply as that for $n+1$ points, we create an $n$ order polynomial that goes through those points.  So we are looking for a function, $f(x)$ in the form,\n",
        "$$\n",
        "f(x) = a_0+a_1x+a_2x^2+\\cdots + a_n x^n\n",
        "$$\n",
        "\n",
        "If we are given a points $(x_0,y_0)$ we ask that \n",
        "$$\n",
        "a_0+a_1x_0+a_2 x_0^2+\\cdots +a_n x_0^n = y_0\n",
        "$$\n",
        "\n",
        "So we need to find a family of $a_i$'s that solve that equation, that actually solve the system \n",
        "\n",
        "$$\n",
        "\\left[\n",
        "\\begin{array}{ccccc|c}\n",
        "1&x_0&x_0^2&\\cdots&x_0^n&y_0\\\\\n",
        "\\vdots&&\\ddots&&\\vdots\\\\\n",
        "1&x_{n-1}&x_{n-1}^2&\\dots& x_{n-1}^n&y_{n-1}\n",
        "\\end{array}\n",
        "\\right]\n",
        "$$"
      ]
    },
    {
      "cell_type": "code",
      "metadata": {
        "id": "Du7TNJajhZwx"
      },
      "source": [
        "def createRow(input,output,orderOfPolynomial):\n",
        "  array = []\n",
        "  for i in range(orderOfPolynomial+1):\n",
        "    array.append(input**i)\n",
        "  array.append(output)\n",
        "  return array"
      ],
      "execution_count": 8,
      "outputs": []
    },
    {
      "cell_type": "code",
      "metadata": {
        "id": "mXH8EPIS7gfN",
        "outputId": "59f1b5a2-3c0b-44c6-a624-fdecb2ef9a16",
        "colab": {
          "base_uri": "https://localhost:8080/",
          "height": 35
        }
      },
      "source": [
        "createRow(2,5,6)"
      ],
      "execution_count": 10,
      "outputs": [
        {
          "output_type": "execute_result",
          "data": {
            "text/plain": [
              "[1, 2, 4, 8, 16, 32, 64, 5]"
            ]
          },
          "metadata": {
            "tags": []
          },
          "execution_count": 10
        }
      ]
    },
    {
      "cell_type": "markdown",
      "metadata": {
        "id": "Kv1NWrWm_91d"
      },
      "source": [
        "I will use the points $(2,5)$, $(1,6)$, $(3,7)$ and $(8,1)$."
      ]
    },
    {
      "cell_type": "code",
      "metadata": {
        "id": "MNEpowDVgpCk",
        "outputId": "f992de7f-a573-4fb2-c42e-36390586a83d",
        "colab": {
          "base_uri": "https://localhost:8080/",
          "height": 35
        }
      },
      "source": [
        "data =[[2,5],[1,6],[3,7],[8,1]]"
      ],
      "execution_count": 13,
      "outputs": [
        {
          "output_type": "execute_result",
          "data": {
            "text/plain": [
              "4"
            ]
          },
          "metadata": {
            "tags": []
          },
          "execution_count": 13
        }
      ]
    },
    {
      "cell_type": "code",
      "metadata": {
        "id": "ZBMIkTWCgtO4"
      },
      "source": [
        "def createAugmentedMatrix(dataAsArray):\n",
        "  matrix = []\n",
        "  order = len(dataAsArray)-1\n",
        "  for i in range(len(dataAsArray)):\n",
        "    matrix.append(createRow(dataAsArray[i][0],dataAsArray[i][1],order))\n",
        "  return np.array(matrix)\n",
        "\n",
        "\n",
        "\n"
      ],
      "execution_count": 16,
      "outputs": []
    },
    {
      "cell_type": "code",
      "metadata": {
        "id": "xGDKojnSkjmb",
        "outputId": "0343a10a-6e83-4c1b-aceb-ead7d75fbe94",
        "colab": {
          "base_uri": "https://localhost:8080/",
          "height": 90
        }
      },
      "source": [
        "createAugmentedMatrix(data)"
      ],
      "execution_count": 19,
      "outputs": [
        {
          "output_type": "execute_result",
          "data": {
            "text/plain": [
              "array([[  1,   2,   4,   8,   5],\n",
              "       [  1,   1,   1,   1,   6],\n",
              "       [  1,   3,   9,  27,   7],\n",
              "       [  1,   8,  64, 512,   1]])"
            ]
          },
          "metadata": {
            "tags": []
          },
          "execution_count": 19
        }
      ]
    },
    {
      "cell_type": "code",
      "metadata": {
        "id": "tR_GxjdtLDt5",
        "outputId": "b275f049-9636-4331-b507-159da65afc49",
        "colab": {
          "base_uri": "https://localhost:8080/",
          "height": 35
        }
      },
      "source": [
        "gaussJordan(createAugmentedMatrix(data))[:,-1]\n",
        "\n",
        "string = ''\n",
        "for i in range(len(gaussJordan(createAugmentedMatrix(data))[:,-1])):\n",
        "  coef = gaussJordan(createAugmentedMatrix(data))[i,-1]\n",
        "  string = string + '+{}'.format(coef) +r'x^{}'.format(i)\n",
        "\n",
        "string\n",
        "\n",
        "#Not very beautiful...  Can you do better?"
      ],
      "execution_count": 45,
      "outputs": [
        {
          "output_type": "execute_result",
          "data": {
            "application/vnd.google.colaboratory.intrinsic+json": {
              "type": "string"
            },
            "text/plain": [
              "'+11.742857142857144x^0+-8.695238095238096x^1+3.242857142857143x^2+-0.2904761904761905x^3'"
            ]
          },
          "metadata": {
            "tags": []
          },
          "execution_count": 45
        }
      ]
    },
    {
      "cell_type": "code",
      "metadata": {
        "id": "ALW0qC58L51n"
      },
      "source": [
        "def directSpline(dataAsArray, variable):\n",
        "  coefficients = gaussJordan(createAugmentedMatrix(data))[:,-1]\n",
        "  value = 0\n",
        "  for i in range(len(coefficients)):\n",
        "    value = value + coefficients[i]*variable**i\n",
        "  return value\n"
      ],
      "execution_count": 26,
      "outputs": []
    },
    {
      "cell_type": "code",
      "metadata": {
        "id": "zfC0GLmvsINz",
        "outputId": "41708894-a117-4cea-8f4e-d72a4e64f437",
        "colab": {
          "base_uri": "https://localhost:8080/",
          "height": 35
        }
      },
      "source": [
        "directSpline(data,2)\n"
      ],
      "execution_count": 29,
      "outputs": [
        {
          "output_type": "execute_result",
          "data": {
            "text/plain": [
              "4.999999999999998"
            ]
          },
          "metadata": {
            "tags": []
          },
          "execution_count": 29
        }
      ]
    },
    {
      "cell_type": "code",
      "metadata": {
        "id": "ToHigBH_M6mX",
        "outputId": "1ffa5882-cdb2-4a96-f8c0-6c98eaca591e",
        "colab": {
          "base_uri": "https://localhost:8080/",
          "height": 281
        }
      },
      "source": [
        "import matplotlib.pyplot as plt\n",
        "\n",
        "\n",
        "x = np.arange( 0,10,.1)\n",
        "plt.scatter(np.array(data)[:,0],np.array(data)[:,1])\n",
        "plt.plot(x,directSpline(data,x))\n",
        "#plt.plot(x, np.sin(x))\n",
        "plt.title('Graph of Direct Spline')\n",
        "\n",
        "\n",
        "plt.show()"
      ],
      "execution_count": 46,
      "outputs": [
        {
          "output_type": "display_data",
          "data": {
            "image/png": "[encoded data removed]",
            "text/plain": [
              "<Figure size 432x288 with 1 Axes>"
            ]
          },
          "metadata": {
            "tags": [],
            "needs_background": "light"
          }
        }
      ]
    },
    {
      "cell_type": "markdown",
      "metadata": {
        "id": "Xq_MCJ8crfly"
      },
      "source": [
        "Looks pretty good.  I would love to display the equation on the graph too but haven't quite got that part of my code to work."
      ]
    },
    {
      "cell_type": "markdown",
      "metadata": {
        "id": "vFv8xmzbG9gM"
      },
      "source": [
        "##Quadratic Splines"
      ]
    },
    {
      "cell_type": "code",
      "metadata": {
        "id": "lLO6Lkh04XZO"
      },
      "source": [
        ""
      ],
      "execution_count": null,
      "outputs": []
    }
  ]
}