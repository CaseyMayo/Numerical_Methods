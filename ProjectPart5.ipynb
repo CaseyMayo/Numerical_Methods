{
  "nbformat": 4,
  "nbformat_minor": 0,
  "metadata": {
    "colab": {
      "name": "Untitled0.ipynb",
      "provenance": [],
      "include_colab_link": true
    },
    "kernelspec": {
      "name": "python3",
      "display_name": "Python 3"
    }
  },
  "cells": [
    {
      "cell_type": "markdown",
      "metadata": {
        "id": "view-in-github",
        "colab_type": "text"
      },
      "source": [
        "<a href=\"https://colab.research.google.com/github/nurfnick/Numerical_Methods/blob/master/ProjectPart5.ipynb\" target=\"_parent\"><img src=\"https://colab.research.google.com/assets/colab-badge.svg\" alt=\"Open In Colab\"/></a>"
      ]
    },
    {
      "cell_type": "markdown",
      "metadata": {
        "id": "YCJaepmmfKrS"
      },
      "source": [
        "# Project Part 5\n",
        "\n"
      ]
    },
    {
      "cell_type": "markdown",
      "metadata": {
        "id": "2z6U1aB_fQDM"
      },
      "source": [
        "I will need my Gauss-Jordan algorithm from project part 4 so I will copy that code here."
      ]
    },
    {
      "cell_type": "code",
      "metadata": {
        "id": "rU_BgC_kfH7g"
      },
      "source": [
        "import math\n",
        "import numpy as np\n",
        "import scipy.linalg as la\n",
        "\n",
        "def addRows(matrix,targetRow, modifierRow, value):\n",
        "  newRow = matrix[targetRow,:]+value*matrix[modifierRow,:]\n",
        "  newMatrix = []\n",
        "  for i in range(len(matrix)):\n",
        "    if i != targetRow:\n",
        "      newMatrix.append(matrix[i,:])\n",
        "    else:\n",
        "      newMatrix.append(newRow)\n",
        "  return np.array(newMatrix)\n",
        "\n",
        "\n",
        "def changeToLeadingOne(matrix,row,column):\n",
        "  newMatrix =[]\n",
        "  for i in range(len(matrix)):\n",
        "    if i != row:\n",
        "      newMatrix.append(matrix[i,:])\n",
        "    else:\n",
        "      newMatrix.append(1/matrix[row,column]*matrix[row,:])\n",
        "  return np.array(newMatrix)\n",
        "\n",
        "\n",
        "def gaussJordan(matrix):\n",
        "  newMatrix = matrix\n",
        "  for pivot in range(len(matrix)):\n",
        "    newMatrix = changeToLeadingOne(newMatrix,pivot,pivot)\n",
        "    for column in range(0,pivot):\n",
        "      newMatrix = addRows(newMatrix,column,pivot,-newMatrix[column,pivot])\n",
        "    for column in range(pivot+1,len(matrix)):\n",
        "      newMatrix = addRows(newMatrix,column,pivot,-newMatrix[column,pivot])\n",
        "  return newMatrix"
      ],
      "execution_count": 50,
      "outputs": []
    },
    {
      "cell_type": "markdown",
      "metadata": {
        "id": "_7RoPTU_hXG1"
      },
      "source": [
        "## Direct Method"
      ]
    },
    {
      "cell_type": "markdown",
      "metadata": {
        "id": "MMXFYCZ6hajg"
      },
      "source": [
        "To solve the direct method interpolation, we simply as that for $n+1$ points, we create an $n$ order polynomial that goes through those points.  So we are looking for a function, $f(x)$ in the form,\n",
        "$$\n",
        "f(x) = a_0+a_1x+a_2x^2+\\cdots + a_n x^n\n",
        "$$\n",
        "\n",
        "If we are given a points $(x_0,y_0)$ we ask that \n",
        "$$\n",
        "a_0+a_1x_0+a_2 x_0^2+\\cdots +a_n x_0^n = y_0\n",
        "$$\n",
        "\n",
        "So we need to find a family of $a_i$'s that solve that equation, that actually solve the system \n",
        "\n",
        "$$\n",
        "\\left[\n",
        "\\begin{array}{ccccc|c}\n",
        "1&x_0&x_0^2&\\cdots&x_0^n&y_0\\\\\n",
        "\\vdots&&\\ddots&&\\vdots\\\\\n",
        "1&x_{n-1}&x_{n-1}^2&\\dots& x_{n-1}^n&y_{n-1}\n",
        "\\end{array}\n",
        "\\right]\n",
        "$$"
      ]
    },
    {
      "cell_type": "code",
      "metadata": {
        "id": "Du7TNJajhZwx"
      },
      "source": [
        "def createRow(input,output,orderOfPolynomial):\n",
        "  array = []\n",
        "  for i in range(orderOfPolynomial+1):\n",
        "    array.append(input**i)\n",
        "  array.append(output)\n",
        "  return array"
      ],
      "execution_count": 51,
      "outputs": []
    },
    {
      "cell_type": "code",
      "metadata": {
        "id": "mXH8EPIS7gfN",
        "outputId": "434362fb-8f0a-4b2e-8b48-987a4dabeda7",
        "colab": {
          "base_uri": "https://localhost:8080/",
          "height": 35
        }
      },
      "source": [
        "createRow(2,5,6)"
      ],
      "execution_count": 52,
      "outputs": [
        {
          "output_type": "execute_result",
          "data": {
            "text/plain": [
              "[1, 2, 4, 8, 16, 32, 64, 5]"
            ]
          },
          "metadata": {
            "tags": []
          },
          "execution_count": 52
        }
      ]
    },
    {
      "cell_type": "markdown",
      "metadata": {
        "id": "Kv1NWrWm_91d"
      },
      "source": [
        "I will use the points $(2,5)$, $(1,6)$, $(3,7)$ and $(8,1)$."
      ]
    },
    {
      "cell_type": "code",
      "metadata": {
        "id": "MNEpowDVgpCk"
      },
      "source": [
        "data =[[2,5],[1,6],[3,7],[8,1]]"
      ],
      "execution_count": 53,
      "outputs": []
    },
    {
      "cell_type": "code",
      "metadata": {
        "id": "ZBMIkTWCgtO4"
      },
      "source": [
        "def createAugmentedMatrix(dataAsArray):\n",
        "  matrix = []\n",
        "  order = len(dataAsArray)-1\n",
        "  for i in range(len(dataAsArray)):\n",
        "    matrix.append(createRow(dataAsArray[i][0],dataAsArray[i][1],order))\n",
        "  return np.array(matrix)\n",
        "\n",
        "\n",
        "\n"
      ],
      "execution_count": 54,
      "outputs": []
    },
    {
      "cell_type": "code",
      "metadata": {
        "id": "xGDKojnSkjmb",
        "outputId": "2193e56f-4a1e-416e-a92b-41d3ea1ed3bf",
        "colab": {
          "base_uri": "https://localhost:8080/",
          "height": 90
        }
      },
      "source": [
        "createAugmentedMatrix(data)"
      ],
      "execution_count": 55,
      "outputs": [
        {
          "output_type": "execute_result",
          "data": {
            "text/plain": [
              "array([[  1,   2,   4,   8,   5],\n",
              "       [  1,   1,   1,   1,   6],\n",
              "       [  1,   3,   9,  27,   7],\n",
              "       [  1,   8,  64, 512,   1]])"
            ]
          },
          "metadata": {
            "tags": []
          },
          "execution_count": 55
        }
      ]
    },
    {
      "cell_type": "code",
      "metadata": {
        "id": "tR_GxjdtLDt5",
        "outputId": "7eacc1a8-7e35-450a-d8b1-2c124a18b0e2",
        "colab": {
          "base_uri": "https://localhost:8080/",
          "height": 35
        }
      },
      "source": [
        "gaussJordan(createAugmentedMatrix(data))[:,-1]\n",
        "\n",
        "string = ''\n",
        "for i in range(len(gaussJordan(createAugmentedMatrix(data))[:,-1])):\n",
        "  coef = gaussJordan(createAugmentedMatrix(data))[i,-1]\n",
        "  string = string + '+{}'.format(coef) +r'x^{}'.format(i)\n",
        "\n",
        "string\n",
        "\n",
        "#Not very beautiful...  Can you do better?"
      ],
      "execution_count": 56,
      "outputs": [
        {
          "output_type": "execute_result",
          "data": {
            "application/vnd.google.colaboratory.intrinsic+json": {
              "type": "string"
            },
            "text/plain": [
              "'+11.742857142857144x^0+-8.695238095238096x^1+3.242857142857143x^2+-0.2904761904761905x^3'"
            ]
          },
          "metadata": {
            "tags": []
          },
          "execution_count": 56
        }
      ]
    },
    {
      "cell_type": "code",
      "metadata": {
        "id": "ALW0qC58L51n"
      },
      "source": [
        "def directSpline(dataAsArray, variable):\n",
        "  coefficients = gaussJordan(createAugmentedMatrix(data))[:,-1]\n",
        "  value = 0\n",
        "  for i in range(len(coefficients)):\n",
        "    value = value + coefficients[i]*variable**i\n",
        "  return value\n"
      ],
      "execution_count": 57,
      "outputs": []
    },
    {
      "cell_type": "code",
      "metadata": {
        "id": "zfC0GLmvsINz",
        "outputId": "131d5a04-a52c-4e33-ac40-624f0d033e08",
        "colab": {
          "base_uri": "https://localhost:8080/",
          "height": 35
        }
      },
      "source": [
        "directSpline(data,2)\n"
      ],
      "execution_count": 58,
      "outputs": [
        {
          "output_type": "execute_result",
          "data": {
            "text/plain": [
              "4.999999999999998"
            ]
          },
          "metadata": {
            "tags": []
          },
          "execution_count": 58
        }
      ]
    },
    {
      "cell_type": "code",
      "metadata": {
        "id": "ToHigBH_M6mX",
        "outputId": "d60a8c01-ed3c-4ccc-bd41-dc78e7fd6cea",
        "colab": {
          "base_uri": "https://localhost:8080/",
          "height": 281
        }
      },
      "source": [
        "import matplotlib.pyplot as plt\n",
        "\n",
        "\n",
        "x = np.arange( 0,10,.1)\n",
        "plt.scatter(np.array(data)[:,0],np.array(data)[:,1])\n",
        "plt.plot(x,directSpline(data,x))\n",
        "#plt.plot(x, np.sin(x))\n",
        "plt.title('Graph of Direct Spline')\n",
        "\n",
        "\n",
        "plt.show()"
      ],
      "execution_count": 59,
      "outputs": [
        {
          "output_type": "display_data",
          "data": {
            "image/png": "[encoded data removed]",
            "text/plain": [
              "<Figure size 432x288 with 1 Axes>"
            ]
          },
          "metadata": {
            "tags": [],
            "needs_background": "light"
          }
        }
      ]
    },
    {
      "cell_type": "markdown",
      "metadata": {
        "id": "Xq_MCJ8crfly"
      },
      "source": [
        "Looks pretty good.  I would love to display the equation on the graph too but haven't quite got that part of my code to work."
      ]
    },
    {
      "cell_type": "markdown",
      "metadata": {
        "id": "vFv8xmzbG9gM"
      },
      "source": [
        "##Linear Splines"
      ]
    },
    {
      "cell_type": "markdown",
      "metadata": {
        "id": "8xBcwjOkmzaO"
      },
      "source": [
        "My function that I have been considering was $f(x) = \\sin x$.  I am going to examine the first wave, the interval between $[0,2\\pi]$."
      ]
    },
    {
      "cell_type": "code",
      "metadata": {
        "id": "lLO6Lkh04XZO"
      },
      "source": [
        "def divideIntervalEvenly(function,lower,upper,numberOfDivisions):\n",
        "  deltax = (upper - lower)/(numberOfDivisions - 1)\n",
        "  array = []\n",
        "  for i in range(numberOfDivisions):\n",
        "    array.append([lower + i*deltax,function(lower + i*deltax)])\n",
        "  return np.array(array)\n",
        "\n",
        "fivepoints = divideIntervalEvenly(np.sin,0,2*np.pi,5)"
      ],
      "execution_count": 60,
      "outputs": []
    },
    {
      "cell_type": "code",
      "metadata": {
        "id": "8eYIPHzxoJEV"
      },
      "source": [
        "def slope(pointInitial,pointFinal):\n",
        "  return (pointFinal[1]-pointInitial[1])/(pointFinal[0]-pointInitial[0])"
      ],
      "execution_count": 61,
      "outputs": []
    },
    {
      "cell_type": "code",
      "metadata": {
        "id": "xdBxIY0t1v8r"
      },
      "source": [
        "def linerSpline(array,input):\n",
        "  x = array[:,0]\n",
        "  y = array[:,1]\n",
        "  for i in range(len(x)-1):\n",
        "    if (x[i]< input) & (input < x[i+1]):\n",
        "      return y[i]+ slope(array[i,:],array[i+1,:])*(input - x[i])\n",
        "    else:\n",
        "      continue"
      ],
      "execution_count": 72,
      "outputs": []
    },
    {
      "cell_type": "code",
      "metadata": {
        "id": "f2PUNg9X3SQi",
        "outputId": "78e86ebd-4739-4a50-c74d-9c785332b128",
        "colab": {
          "base_uri": "https://localhost:8080/",
          "height": 35
        }
      },
      "source": [
        "linerSpline(fivepoints,1)"
      ],
      "execution_count": 73,
      "outputs": [
        {
          "output_type": "execute_result",
          "data": {
            "text/plain": [
              "0.6366197723675814"
            ]
          },
          "metadata": {
            "tags": []
          },
          "execution_count": 73
        }
      ]
    },
    {
      "cell_type": "code",
      "metadata": {
        "id": "Qwc_fy3MZlVS"
      },
      "source": [
        "x = np.arange(0,6.35,0.1)\n",
        "y = [linerSpline(fivepoints,x) for x in x]"
      ],
      "execution_count": 75,
      "outputs": []
    },
    {
      "cell_type": "code",
      "metadata": {
        "id": "J3we4y-q3bVQ",
        "outputId": "3125125d-6f02-49d7-e43f-f9727364144f",
        "colab": {
          "base_uri": "https://localhost:8080/",
          "height": 281
        }
      },
      "source": [
        "x = np.arange(0,6.35,0.1)\n",
        "\n",
        "plt.scatter(fivepoints[:,0],fivepoints[:,1])\n",
        "plt.plot(x,y)\n",
        "plt.plot(x, np.sin(x))\n",
        "plt.title('Graph of Linear Spline with 5 Points')\n",
        "plt.legend(['Spline','Sine'])\n",
        "\n",
        "\n",
        "plt.show()"
      ],
      "execution_count": 77,
      "outputs": [
        {
          "output_type": "display_data",
          "data": {
            "image/png": "[encoded data removed]",
            "text/plain": [
              "<Figure size 432x288 with 1 Axes>"
            ]
          },
          "metadata": {
            "tags": [],
            "needs_background": "light"
          }
        }
      ]
    },
    {
      "cell_type": "code",
      "metadata": {
        "id": "3WpiVWezYZj4",
        "outputId": "6b95a36f-4fb3-4efa-e06a-df6ed11c690f",
        "colab": {
          "base_uri": "https://localhost:8080/",
          "height": 281
        }
      },
      "source": [
        "twentypoints = divideIntervalEvenly(np.sin,0,2*np.pi,20)\n",
        "x = np.arange(0,6.35,0.1)\n",
        "y = [linerSpline(twentypoints,x) for x in x]\n",
        "plt.scatter(twentypoints[:,0],twentypoints[:,1])\n",
        "plt.plot(x,y)\n",
        "plt.plot(x, np.sin(x))\n",
        "plt.title('Graph of Linear Spline with 20 Points')\n",
        "plt.legend(['Spline','Sine'])\n",
        "\n",
        "\n",
        "plt.show()"
      ],
      "execution_count": 81,
      "outputs": [
        {
          "output_type": "display_data",
          "data": {
            "image/png": "[encoded data removed]",
            "text/plain": [
              "<Figure size 432x288 with 1 Axes>"
            ]
          },
          "metadata": {
            "tags": [],
            "needs_background": "light"
          }
        }
      ]
    },
    {
      "cell_type": "code",
      "metadata": {
        "id": "dUoyc65paclY"
      },
      "source": [
        ""
      ],
      "execution_count": null,
      "outputs": []
    }
  ]
}